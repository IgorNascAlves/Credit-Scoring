{
  "nbformat": 4,
  "nbformat_minor": 0,
  "metadata": {
    "colab": {
      "name": "aula2.ipynb",
      "provenance": [],
      "collapsed_sections": [],
      "authorship_tag": "ABX9TyOHuibPfdDR23tGPHUmTS1l",
      "include_colab_link": true
    },
    "kernelspec": {
      "name": "python3",
      "display_name": "Python 3"
    },
    "language_info": {
      "name": "python"
    }
  },
  "cells": [
    {
      "cell_type": "markdown",
      "metadata": {
        "id": "view-in-github",
        "colab_type": "text"
      },
      "source": [
        "<a href=\"https://colab.research.google.com/github/IgorNascAlves/Credit-Scoring/blob/main/notebooks/aula4.ipynb\" target=\"_parent\"><img src=\"https://colab.research.google.com/assets/colab-badge.svg\" alt=\"Open In Colab\"/></a>"
      ]
    },
    {
      "cell_type": "markdown",
      "metadata": {
        "id": "hyWi6I0HrF58"
      },
      "source": [
        "#Aula 1"
      ]
    },
    {
      "cell_type": "code",
      "metadata": {
        "id": "gpUFSqeJmCkr"
      },
      "source": [
        "import pandas as pd"
      ],
      "execution_count": null,
      "outputs": []
    },
    {
      "cell_type": "code",
      "metadata": {
        "colab": {
          "base_uri": "https://localhost:8080/",
          "height": 274
        },
        "id": "qGTlRXl0mE8l",
        "outputId": "688d371c-2615-4016-8af4-1129d8072078"
      },
      "source": [
        "df_clientes_cadastrados = pd.read_csv('https://raw.githubusercontent.com/IgorNascAlves/Credit-Scoring/main/dados/clientes_cadastrados.csv')\n",
        "df_clientes_cadastrados.head()"
      ],
      "execution_count": null,
      "outputs": [
        {
          "output_type": "execute_result",
          "data": {
            "text/html": [
              "<div>\n",
              "<style scoped>\n",
              "    .dataframe tbody tr th:only-of-type {\n",
              "        vertical-align: middle;\n",
              "    }\n",
              "\n",
              "    .dataframe tbody tr th {\n",
              "        vertical-align: top;\n",
              "    }\n",
              "\n",
              "    .dataframe thead th {\n",
              "        text-align: right;\n",
              "    }\n",
              "</style>\n",
              "<table border=\"1\" class=\"dataframe\">\n",
              "  <thead>\n",
              "    <tr style=\"text-align: right;\">\n",
              "      <th></th>\n",
              "      <th>ID_Cliente</th>\n",
              "      <th>Genero</th>\n",
              "      <th>Tem_Carro</th>\n",
              "      <th>Tem_Casa_Propria</th>\n",
              "      <th>Qtd_Filhos</th>\n",
              "      <th>Rendimento_Anual</th>\n",
              "      <th>Categoria_de_renda</th>\n",
              "      <th>Grau_Escolaridade</th>\n",
              "      <th>Estado_Civil</th>\n",
              "      <th>Moradia</th>\n",
              "      <th>Idade</th>\n",
              "      <th>Tem_Celular</th>\n",
              "      <th>Tem_telefone_trabalho</th>\n",
              "      <th>Tem_telefone_fixo</th>\n",
              "      <th>Tem_email</th>\n",
              "      <th>Ocupacao</th>\n",
              "      <th>Tamanho_Familia</th>\n",
              "      <th>Anos_empregado</th>\n",
              "    </tr>\n",
              "  </thead>\n",
              "  <tbody>\n",
              "    <tr>\n",
              "      <th>0</th>\n",
              "      <td>5008804</td>\n",
              "      <td>H</td>\n",
              "      <td>1</td>\n",
              "      <td>1</td>\n",
              "      <td>0</td>\n",
              "      <td>427500.0</td>\n",
              "      <td>Empregado</td>\n",
              "      <td>Ensino superior</td>\n",
              "      <td>Uniao estavel</td>\n",
              "      <td>Alugado</td>\n",
              "      <td>33.0</td>\n",
              "      <td>1</td>\n",
              "      <td>1</td>\n",
              "      <td>0</td>\n",
              "      <td>0</td>\n",
              "      <td>Outros</td>\n",
              "      <td>2.0</td>\n",
              "      <td>12.4</td>\n",
              "    </tr>\n",
              "    <tr>\n",
              "      <th>1</th>\n",
              "      <td>5008805</td>\n",
              "      <td>H</td>\n",
              "      <td>1</td>\n",
              "      <td>1</td>\n",
              "      <td>0</td>\n",
              "      <td>427500.0</td>\n",
              "      <td>Empregado</td>\n",
              "      <td>Ensino superior</td>\n",
              "      <td>Uniao estavel</td>\n",
              "      <td>Alugado</td>\n",
              "      <td>33.0</td>\n",
              "      <td>1</td>\n",
              "      <td>1</td>\n",
              "      <td>0</td>\n",
              "      <td>0</td>\n",
              "      <td>Outros</td>\n",
              "      <td>2.0</td>\n",
              "      <td>12.4</td>\n",
              "    </tr>\n",
              "    <tr>\n",
              "      <th>2</th>\n",
              "      <td>5008806</td>\n",
              "      <td>H</td>\n",
              "      <td>1</td>\n",
              "      <td>1</td>\n",
              "      <td>0</td>\n",
              "      <td>112500.0</td>\n",
              "      <td>Empregado</td>\n",
              "      <td>Ensino medio</td>\n",
              "      <td>Casado</td>\n",
              "      <td>Casa propria</td>\n",
              "      <td>59.0</td>\n",
              "      <td>1</td>\n",
              "      <td>0</td>\n",
              "      <td>0</td>\n",
              "      <td>0</td>\n",
              "      <td>Seguranca</td>\n",
              "      <td>2.0</td>\n",
              "      <td>3.1</td>\n",
              "    </tr>\n",
              "    <tr>\n",
              "      <th>3</th>\n",
              "      <td>5008808</td>\n",
              "      <td>M</td>\n",
              "      <td>0</td>\n",
              "      <td>1</td>\n",
              "      <td>0</td>\n",
              "      <td>270000.0</td>\n",
              "      <td>Associado comercial</td>\n",
              "      <td>Ensino medio</td>\n",
              "      <td>Solteiro</td>\n",
              "      <td>Casa propria</td>\n",
              "      <td>52.0</td>\n",
              "      <td>1</td>\n",
              "      <td>0</td>\n",
              "      <td>1</td>\n",
              "      <td>1</td>\n",
              "      <td>Venda</td>\n",
              "      <td>1.0</td>\n",
              "      <td>8.4</td>\n",
              "    </tr>\n",
              "    <tr>\n",
              "      <th>4</th>\n",
              "      <td>5008809</td>\n",
              "      <td>M</td>\n",
              "      <td>0</td>\n",
              "      <td>1</td>\n",
              "      <td>0</td>\n",
              "      <td>270000.0</td>\n",
              "      <td>Associado comercial</td>\n",
              "      <td>Ensino medio</td>\n",
              "      <td>Solteiro</td>\n",
              "      <td>Casa propria</td>\n",
              "      <td>52.0</td>\n",
              "      <td>1</td>\n",
              "      <td>0</td>\n",
              "      <td>1</td>\n",
              "      <td>1</td>\n",
              "      <td>Venda</td>\n",
              "      <td>1.0</td>\n",
              "      <td>8.4</td>\n",
              "    </tr>\n",
              "  </tbody>\n",
              "</table>\n",
              "</div>"
            ],
            "text/plain": [
              "   ID_Cliente Genero  Tem_Carro  ...   Ocupacao  Tamanho_Familia  Anos_empregado\n",
              "0     5008804      H          1  ...     Outros              2.0            12.4\n",
              "1     5008805      H          1  ...     Outros              2.0            12.4\n",
              "2     5008806      H          1  ...  Seguranca              2.0             3.1\n",
              "3     5008808      M          0  ...      Venda              1.0             8.4\n",
              "4     5008809      M          0  ...      Venda              1.0             8.4\n",
              "\n",
              "[5 rows x 18 columns]"
            ]
          },
          "metadata": {
            "tags": []
          },
          "execution_count": 2
        }
      ]
    },
    {
      "cell_type": "code",
      "metadata": {
        "colab": {
          "base_uri": "https://localhost:8080/"
        },
        "id": "APzhuCZFmnpZ",
        "outputId": "e9b4bb1f-5696-443d-c971-a2d6648ce1b6"
      },
      "source": [
        "df_clientes_cadastrados.shape"
      ],
      "execution_count": null,
      "outputs": [
        {
          "output_type": "execute_result",
          "data": {
            "text/plain": [
              "(438557, 18)"
            ]
          },
          "metadata": {
            "tags": []
          },
          "execution_count": 3
        }
      ]
    },
    {
      "cell_type": "code",
      "metadata": {
        "colab": {
          "base_uri": "https://localhost:8080/"
        },
        "id": "WIuVKkX8mvbB",
        "outputId": "04a4c0e4-0552-4ad4-cb59-1a287aaa2ae4"
      },
      "source": [
        "df_clientes_cadastrados['ID_Cliente'].value_counts()"
      ],
      "execution_count": null,
      "outputs": [
        {
          "output_type": "execute_result",
          "data": {
            "text/plain": [
              "7603224    2\n",
              "7742853    2\n",
              "7836711    2\n",
              "7091721    2\n",
              "7022327    2\n",
              "          ..\n",
              "5372264    1\n",
              "6412652    1\n",
              "6410605    1\n",
              "6367602    1\n",
              "6291456    1\n",
              "Name: ID_Cliente, Length: 438510, dtype: int64"
            ]
          },
          "metadata": {
            "tags": []
          },
          "execution_count": 4
        }
      ]
    },
    {
      "cell_type": "code",
      "metadata": {
        "colab": {
          "base_uri": "https://localhost:8080/"
        },
        "id": "d4H5udcKoPeN",
        "outputId": "8932f5ec-d8dd-4f40-d207-8aeb4660946f"
      },
      "source": [
        "df_clientes_cadastrados.duplicated().sum()"
      ],
      "execution_count": null,
      "outputs": [
        {
          "output_type": "execute_result",
          "data": {
            "text/plain": [
              "0"
            ]
          },
          "metadata": {
            "tags": []
          },
          "execution_count": 5
        }
      ]
    },
    {
      "cell_type": "code",
      "metadata": {
        "colab": {
          "base_uri": "https://localhost:8080/"
        },
        "id": "oUBcULI0ozkV",
        "outputId": "aa2d2fd2-d171-46aa-c6d7-0ee039932637"
      },
      "source": [
        "df_clientes_cadastrados[df_clientes_cadastrados['ID_Cliente'].duplicated(keep=False)].shape"
      ],
      "execution_count": null,
      "outputs": [
        {
          "output_type": "execute_result",
          "data": {
            "text/plain": [
              "(94, 18)"
            ]
          },
          "metadata": {
            "tags": []
          },
          "execution_count": 6
        }
      ]
    },
    {
      "cell_type": "code",
      "metadata": {
        "colab": {
          "base_uri": "https://localhost:8080/"
        },
        "id": "e6UpldVcrz4o",
        "outputId": "493f590b-b0d5-4796-ce32-665356868a7c"
      },
      "source": [
        "id_repetidos = df_clientes_cadastrados[df_clientes_cadastrados['ID_Cliente'].duplicated(keep=False)]['ID_Cliente']\n",
        "id_repetidos"
      ],
      "execution_count": null,
      "outputs": [
        {
          "output_type": "execute_result",
          "data": {
            "text/plain": [
              "421211    7702516\n",
              "421268    7602432\n",
              "421349    7602432\n",
              "421464    7836971\n",
              "421698    7213374\n",
              "           ...   \n",
              "433158    7282535\n",
              "433159    7742853\n",
              "433217    7135270\n",
              "433666    7091721\n",
              "433789    7618285\n",
              "Name: ID_Cliente, Length: 94, dtype: int64"
            ]
          },
          "metadata": {
            "tags": []
          },
          "execution_count": 7
        }
      ]
    },
    {
      "cell_type": "code",
      "metadata": {
        "colab": {
          "base_uri": "https://localhost:8080/",
          "height": 588
        },
        "id": "Srn-BSfisQs0",
        "outputId": "79261b4c-c6c1-4a4e-bb4e-87fd00f6d461"
      },
      "source": [
        "df_clientes_cadastrados_ID_unicos = df_clientes_cadastrados.drop(id_repetidos.index)\n",
        "df_clientes_cadastrados_ID_unicos"
      ],
      "execution_count": null,
      "outputs": [
        {
          "output_type": "execute_result",
          "data": {
            "text/html": [
              "<div>\n",
              "<style scoped>\n",
              "    .dataframe tbody tr th:only-of-type {\n",
              "        vertical-align: middle;\n",
              "    }\n",
              "\n",
              "    .dataframe tbody tr th {\n",
              "        vertical-align: top;\n",
              "    }\n",
              "\n",
              "    .dataframe thead th {\n",
              "        text-align: right;\n",
              "    }\n",
              "</style>\n",
              "<table border=\"1\" class=\"dataframe\">\n",
              "  <thead>\n",
              "    <tr style=\"text-align: right;\">\n",
              "      <th></th>\n",
              "      <th>ID_Cliente</th>\n",
              "      <th>Genero</th>\n",
              "      <th>Tem_Carro</th>\n",
              "      <th>Tem_Casa_Propria</th>\n",
              "      <th>Qtd_Filhos</th>\n",
              "      <th>Rendimento_Anual</th>\n",
              "      <th>Categoria_de_renda</th>\n",
              "      <th>Grau_Escolaridade</th>\n",
              "      <th>Estado_Civil</th>\n",
              "      <th>Moradia</th>\n",
              "      <th>Idade</th>\n",
              "      <th>Tem_Celular</th>\n",
              "      <th>Tem_telefone_trabalho</th>\n",
              "      <th>Tem_telefone_fixo</th>\n",
              "      <th>Tem_email</th>\n",
              "      <th>Ocupacao</th>\n",
              "      <th>Tamanho_Familia</th>\n",
              "      <th>Anos_empregado</th>\n",
              "    </tr>\n",
              "  </thead>\n",
              "  <tbody>\n",
              "    <tr>\n",
              "      <th>0</th>\n",
              "      <td>5008804</td>\n",
              "      <td>H</td>\n",
              "      <td>1</td>\n",
              "      <td>1</td>\n",
              "      <td>0</td>\n",
              "      <td>427500.0</td>\n",
              "      <td>Empregado</td>\n",
              "      <td>Ensino superior</td>\n",
              "      <td>Uniao estavel</td>\n",
              "      <td>Alugado</td>\n",
              "      <td>33.0</td>\n",
              "      <td>1</td>\n",
              "      <td>1</td>\n",
              "      <td>0</td>\n",
              "      <td>0</td>\n",
              "      <td>Outros</td>\n",
              "      <td>2.0</td>\n",
              "      <td>12.4</td>\n",
              "    </tr>\n",
              "    <tr>\n",
              "      <th>1</th>\n",
              "      <td>5008805</td>\n",
              "      <td>H</td>\n",
              "      <td>1</td>\n",
              "      <td>1</td>\n",
              "      <td>0</td>\n",
              "      <td>427500.0</td>\n",
              "      <td>Empregado</td>\n",
              "      <td>Ensino superior</td>\n",
              "      <td>Uniao estavel</td>\n",
              "      <td>Alugado</td>\n",
              "      <td>33.0</td>\n",
              "      <td>1</td>\n",
              "      <td>1</td>\n",
              "      <td>0</td>\n",
              "      <td>0</td>\n",
              "      <td>Outros</td>\n",
              "      <td>2.0</td>\n",
              "      <td>12.4</td>\n",
              "    </tr>\n",
              "    <tr>\n",
              "      <th>2</th>\n",
              "      <td>5008806</td>\n",
              "      <td>H</td>\n",
              "      <td>1</td>\n",
              "      <td>1</td>\n",
              "      <td>0</td>\n",
              "      <td>112500.0</td>\n",
              "      <td>Empregado</td>\n",
              "      <td>Ensino medio</td>\n",
              "      <td>Casado</td>\n",
              "      <td>Casa propria</td>\n",
              "      <td>59.0</td>\n",
              "      <td>1</td>\n",
              "      <td>0</td>\n",
              "      <td>0</td>\n",
              "      <td>0</td>\n",
              "      <td>Seguranca</td>\n",
              "      <td>2.0</td>\n",
              "      <td>3.1</td>\n",
              "    </tr>\n",
              "    <tr>\n",
              "      <th>3</th>\n",
              "      <td>5008808</td>\n",
              "      <td>M</td>\n",
              "      <td>0</td>\n",
              "      <td>1</td>\n",
              "      <td>0</td>\n",
              "      <td>270000.0</td>\n",
              "      <td>Associado comercial</td>\n",
              "      <td>Ensino medio</td>\n",
              "      <td>Solteiro</td>\n",
              "      <td>Casa propria</td>\n",
              "      <td>52.0</td>\n",
              "      <td>1</td>\n",
              "      <td>0</td>\n",
              "      <td>1</td>\n",
              "      <td>1</td>\n",
              "      <td>Venda</td>\n",
              "      <td>1.0</td>\n",
              "      <td>8.4</td>\n",
              "    </tr>\n",
              "    <tr>\n",
              "      <th>4</th>\n",
              "      <td>5008809</td>\n",
              "      <td>M</td>\n",
              "      <td>0</td>\n",
              "      <td>1</td>\n",
              "      <td>0</td>\n",
              "      <td>270000.0</td>\n",
              "      <td>Associado comercial</td>\n",
              "      <td>Ensino medio</td>\n",
              "      <td>Solteiro</td>\n",
              "      <td>Casa propria</td>\n",
              "      <td>52.0</td>\n",
              "      <td>1</td>\n",
              "      <td>0</td>\n",
              "      <td>1</td>\n",
              "      <td>1</td>\n",
              "      <td>Venda</td>\n",
              "      <td>1.0</td>\n",
              "      <td>8.4</td>\n",
              "    </tr>\n",
              "    <tr>\n",
              "      <th>...</th>\n",
              "      <td>...</td>\n",
              "      <td>...</td>\n",
              "      <td>...</td>\n",
              "      <td>...</td>\n",
              "      <td>...</td>\n",
              "      <td>...</td>\n",
              "      <td>...</td>\n",
              "      <td>...</td>\n",
              "      <td>...</td>\n",
              "      <td>...</td>\n",
              "      <td>...</td>\n",
              "      <td>...</td>\n",
              "      <td>...</td>\n",
              "      <td>...</td>\n",
              "      <td>...</td>\n",
              "      <td>...</td>\n",
              "      <td>...</td>\n",
              "      <td>...</td>\n",
              "    </tr>\n",
              "    <tr>\n",
              "      <th>438552</th>\n",
              "      <td>6840104</td>\n",
              "      <td>H</td>\n",
              "      <td>0</td>\n",
              "      <td>1</td>\n",
              "      <td>0</td>\n",
              "      <td>135000.0</td>\n",
              "      <td>Pensionista</td>\n",
              "      <td>Ensino medio</td>\n",
              "      <td>Separado</td>\n",
              "      <td>Casa propria</td>\n",
              "      <td>62.0</td>\n",
              "      <td>1</td>\n",
              "      <td>0</td>\n",
              "      <td>0</td>\n",
              "      <td>0</td>\n",
              "      <td>Outros</td>\n",
              "      <td>1.0</td>\n",
              "      <td>-1000.7</td>\n",
              "    </tr>\n",
              "    <tr>\n",
              "      <th>438553</th>\n",
              "      <td>6840222</td>\n",
              "      <td>M</td>\n",
              "      <td>0</td>\n",
              "      <td>0</td>\n",
              "      <td>0</td>\n",
              "      <td>103500.0</td>\n",
              "      <td>Empregado</td>\n",
              "      <td>Ensino medio</td>\n",
              "      <td>Solteiro</td>\n",
              "      <td>Casa propria</td>\n",
              "      <td>44.0</td>\n",
              "      <td>1</td>\n",
              "      <td>0</td>\n",
              "      <td>0</td>\n",
              "      <td>0</td>\n",
              "      <td>Construcao Civil</td>\n",
              "      <td>1.0</td>\n",
              "      <td>8.2</td>\n",
              "    </tr>\n",
              "    <tr>\n",
              "      <th>438554</th>\n",
              "      <td>6841878</td>\n",
              "      <td>M</td>\n",
              "      <td>0</td>\n",
              "      <td>0</td>\n",
              "      <td>0</td>\n",
              "      <td>54000.0</td>\n",
              "      <td>Associado comercial</td>\n",
              "      <td>Ensino superior</td>\n",
              "      <td>Solteiro</td>\n",
              "      <td>Mora com os pais</td>\n",
              "      <td>22.0</td>\n",
              "      <td>1</td>\n",
              "      <td>1</td>\n",
              "      <td>0</td>\n",
              "      <td>0</td>\n",
              "      <td>Venda</td>\n",
              "      <td>1.0</td>\n",
              "      <td>1.0</td>\n",
              "    </tr>\n",
              "    <tr>\n",
              "      <th>438555</th>\n",
              "      <td>6842765</td>\n",
              "      <td>M</td>\n",
              "      <td>0</td>\n",
              "      <td>1</td>\n",
              "      <td>0</td>\n",
              "      <td>72000.0</td>\n",
              "      <td>Pensionista</td>\n",
              "      <td>Ensino medio</td>\n",
              "      <td>Casado</td>\n",
              "      <td>Casa propria</td>\n",
              "      <td>59.0</td>\n",
              "      <td>1</td>\n",
              "      <td>0</td>\n",
              "      <td>0</td>\n",
              "      <td>0</td>\n",
              "      <td>Outros</td>\n",
              "      <td>2.0</td>\n",
              "      <td>-1000.7</td>\n",
              "    </tr>\n",
              "    <tr>\n",
              "      <th>438556</th>\n",
              "      <td>6842885</td>\n",
              "      <td>M</td>\n",
              "      <td>0</td>\n",
              "      <td>1</td>\n",
              "      <td>0</td>\n",
              "      <td>121500.0</td>\n",
              "      <td>Empregado</td>\n",
              "      <td>Ensino medio</td>\n",
              "      <td>Casado</td>\n",
              "      <td>Casa propria</td>\n",
              "      <td>52.0</td>\n",
              "      <td>1</td>\n",
              "      <td>0</td>\n",
              "      <td>1</td>\n",
              "      <td>0</td>\n",
              "      <td>Venda</td>\n",
              "      <td>2.0</td>\n",
              "      <td>3.3</td>\n",
              "    </tr>\n",
              "  </tbody>\n",
              "</table>\n",
              "<p>438463 rows × 18 columns</p>\n",
              "</div>"
            ],
            "text/plain": [
              "        ID_Cliente Genero  ...  Tamanho_Familia  Anos_empregado\n",
              "0          5008804      H  ...              2.0            12.4\n",
              "1          5008805      H  ...              2.0            12.4\n",
              "2          5008806      H  ...              2.0             3.1\n",
              "3          5008808      M  ...              1.0             8.4\n",
              "4          5008809      M  ...              1.0             8.4\n",
              "...            ...    ...  ...              ...             ...\n",
              "438552     6840104      H  ...              1.0         -1000.7\n",
              "438553     6840222      M  ...              1.0             8.2\n",
              "438554     6841878      M  ...              1.0             1.0\n",
              "438555     6842765      M  ...              2.0         -1000.7\n",
              "438556     6842885      M  ...              2.0             3.3\n",
              "\n",
              "[438463 rows x 18 columns]"
            ]
          },
          "metadata": {
            "tags": []
          },
          "execution_count": 8
        }
      ]
    },
    {
      "cell_type": "code",
      "metadata": {
        "colab": {
          "base_uri": "https://localhost:8080/"
        },
        "id": "PfTQjDu0tOaK",
        "outputId": "34a5544d-7215-4194-a46f-41bd416bf271"
      },
      "source": [
        "df_clientes_cadastrados_ID_unicos['ID_Cliente'].value_counts()"
      ],
      "execution_count": null,
      "outputs": [
        {
          "output_type": "execute_result",
          "data": {
            "text/plain": [
              "6293503    1\n",
              "5166449    1\n",
              "6210931    1\n",
              "5174645    1\n",
              "5170551    1\n",
              "          ..\n",
              "7410037    1\n",
              "6357367    1\n",
              "6375806    1\n",
              "5683584    1\n",
              "6291456    1\n",
              "Name: ID_Cliente, Length: 438463, dtype: int64"
            ]
          },
          "metadata": {
            "tags": []
          },
          "execution_count": 9
        }
      ]
    },
    {
      "cell_type": "code",
      "metadata": {
        "colab": {
          "base_uri": "https://localhost:8080/"
        },
        "id": "iws3Nmw9tZg7",
        "outputId": "d1d9083d-3577-4b10-f76c-c51412c43137"
      },
      "source": [
        "df_clientes_cadastrados_ID_unicos.isnull().sum()"
      ],
      "execution_count": null,
      "outputs": [
        {
          "output_type": "execute_result",
          "data": {
            "text/plain": [
              "ID_Cliente               0\n",
              "Genero                   0\n",
              "Tem_Carro                0\n",
              "Tem_Casa_Propria         0\n",
              "Qtd_Filhos               0\n",
              "Rendimento_Anual         0\n",
              "Categoria_de_renda       0\n",
              "Grau_Escolaridade        0\n",
              "Estado_Civil             0\n",
              "Moradia                  0\n",
              "Idade                    0\n",
              "Tem_Celular              0\n",
              "Tem_telefone_trabalho    0\n",
              "Tem_telefone_fixo        0\n",
              "Tem_email                0\n",
              "Ocupacao                 0\n",
              "Tamanho_Familia          0\n",
              "Anos_empregado           0\n",
              "dtype: int64"
            ]
          },
          "metadata": {
            "tags": []
          },
          "execution_count": 10
        }
      ]
    },
    {
      "cell_type": "code",
      "metadata": {
        "colab": {
          "base_uri": "https://localhost:8080/"
        },
        "id": "eLM-ic5Ytwo0",
        "outputId": "148a70ca-dc59-4fa8-98ee-d4ca72368589"
      },
      "source": [
        "df_clientes_cadastrados_ID_unicos.info()"
      ],
      "execution_count": null,
      "outputs": [
        {
          "output_type": "stream",
          "text": [
            "<class 'pandas.core.frame.DataFrame'>\n",
            "Int64Index: 438463 entries, 0 to 438556\n",
            "Data columns (total 18 columns):\n",
            " #   Column                 Non-Null Count   Dtype  \n",
            "---  ------                 --------------   -----  \n",
            " 0   ID_Cliente             438463 non-null  int64  \n",
            " 1   Genero                 438463 non-null  object \n",
            " 2   Tem_Carro              438463 non-null  int64  \n",
            " 3   Tem_Casa_Propria       438463 non-null  int64  \n",
            " 4   Qtd_Filhos             438463 non-null  int64  \n",
            " 5   Rendimento_Anual       438463 non-null  float64\n",
            " 6   Categoria_de_renda     438463 non-null  object \n",
            " 7   Grau_Escolaridade      438463 non-null  object \n",
            " 8   Estado_Civil           438463 non-null  object \n",
            " 9   Moradia                438463 non-null  object \n",
            " 10  Idade                  438463 non-null  float64\n",
            " 11  Tem_Celular            438463 non-null  int64  \n",
            " 12  Tem_telefone_trabalho  438463 non-null  int64  \n",
            " 13  Tem_telefone_fixo      438463 non-null  int64  \n",
            " 14  Tem_email              438463 non-null  int64  \n",
            " 15  Ocupacao               438463 non-null  object \n",
            " 16  Tamanho_Familia        438463 non-null  float64\n",
            " 17  Anos_empregado         438463 non-null  float64\n",
            "dtypes: float64(4), int64(8), object(6)\n",
            "memory usage: 63.6+ MB\n"
          ],
          "name": "stdout"
        }
      ]
    },
    {
      "cell_type": "markdown",
      "metadata": {
        "id": "QUk0re2_rCuJ"
      },
      "source": [
        "#Aula 2"
      ]
    },
    {
      "cell_type": "code",
      "metadata": {
        "id": "R6ZBT2z4tgFl"
      },
      "source": [
        "colunas_continuas = ['Idade', 'Qtd_Filhos', 'Rendimento_Anual', 'Anos_empregado', 'Tamanho_Familia']"
      ],
      "execution_count": null,
      "outputs": []
    },
    {
      "cell_type": "code",
      "metadata": {
        "colab": {
          "base_uri": "https://localhost:8080/",
          "height": 295
        },
        "id": "kGY0Kl4NxHDM",
        "outputId": "7863faed-4989-4372-95b4-309e1d47d14c"
      },
      "source": [
        "df_clientes_cadastrados_ID_unicos[colunas_continuas].describe()"
      ],
      "execution_count": null,
      "outputs": [
        {
          "output_type": "execute_result",
          "data": {
            "text/html": [
              "<div>\n",
              "<style scoped>\n",
              "    .dataframe tbody tr th:only-of-type {\n",
              "        vertical-align: middle;\n",
              "    }\n",
              "\n",
              "    .dataframe tbody tr th {\n",
              "        vertical-align: top;\n",
              "    }\n",
              "\n",
              "    .dataframe thead th {\n",
              "        text-align: right;\n",
              "    }\n",
              "</style>\n",
              "<table border=\"1\" class=\"dataframe\">\n",
              "  <thead>\n",
              "    <tr style=\"text-align: right;\">\n",
              "      <th></th>\n",
              "      <th>Idade</th>\n",
              "      <th>Qtd_Filhos</th>\n",
              "      <th>Rendimento_Anual</th>\n",
              "      <th>Anos_empregado</th>\n",
              "      <th>Tamanho_Familia</th>\n",
              "    </tr>\n",
              "  </thead>\n",
              "  <tbody>\n",
              "    <tr>\n",
              "      <th>count</th>\n",
              "      <td>438463.000000</td>\n",
              "      <td>438463.000000</td>\n",
              "      <td>4.384630e+05</td>\n",
              "      <td>438463.000000</td>\n",
              "      <td>438463.000000</td>\n",
              "    </tr>\n",
              "    <tr>\n",
              "      <th>mean</th>\n",
              "      <td>43.834032</td>\n",
              "      <td>0.427384</td>\n",
              "      <td>1.875220e+05</td>\n",
              "      <td>-165.936036</td>\n",
              "      <td>2.194461</td>\n",
              "    </tr>\n",
              "    <tr>\n",
              "      <th>std</th>\n",
              "      <td>11.472815</td>\n",
              "      <td>0.724879</td>\n",
              "      <td>1.100832e+05</td>\n",
              "      <td>380.201131</td>\n",
              "      <td>0.897194</td>\n",
              "    </tr>\n",
              "    <tr>\n",
              "      <th>min</th>\n",
              "      <td>21.000000</td>\n",
              "      <td>0.000000</td>\n",
              "      <td>2.610000e+04</td>\n",
              "      <td>-1000.700000</td>\n",
              "      <td>1.000000</td>\n",
              "    </tr>\n",
              "    <tr>\n",
              "      <th>25%</th>\n",
              "      <td>34.000000</td>\n",
              "      <td>0.000000</td>\n",
              "      <td>1.215000e+05</td>\n",
              "      <td>1.000000</td>\n",
              "      <td>2.000000</td>\n",
              "    </tr>\n",
              "    <tr>\n",
              "      <th>50%</th>\n",
              "      <td>43.000000</td>\n",
              "      <td>0.000000</td>\n",
              "      <td>1.611000e+05</td>\n",
              "      <td>4.000000</td>\n",
              "      <td>2.000000</td>\n",
              "    </tr>\n",
              "    <tr>\n",
              "      <th>75%</th>\n",
              "      <td>53.000000</td>\n",
              "      <td>1.000000</td>\n",
              "      <td>2.250000e+05</td>\n",
              "      <td>8.500000</td>\n",
              "      <td>3.000000</td>\n",
              "    </tr>\n",
              "    <tr>\n",
              "      <th>max</th>\n",
              "      <td>69.000000</td>\n",
              "      <td>19.000000</td>\n",
              "      <td>6.750000e+06</td>\n",
              "      <td>48.000000</td>\n",
              "      <td>20.000000</td>\n",
              "    </tr>\n",
              "  </tbody>\n",
              "</table>\n",
              "</div>"
            ],
            "text/plain": [
              "               Idade     Qtd_Filhos  ...  Anos_empregado  Tamanho_Familia\n",
              "count  438463.000000  438463.000000  ...   438463.000000    438463.000000\n",
              "mean       43.834032       0.427384  ...     -165.936036         2.194461\n",
              "std        11.472815       0.724879  ...      380.201131         0.897194\n",
              "min        21.000000       0.000000  ...    -1000.700000         1.000000\n",
              "25%        34.000000       0.000000  ...        1.000000         2.000000\n",
              "50%        43.000000       0.000000  ...        4.000000         2.000000\n",
              "75%        53.000000       1.000000  ...        8.500000         3.000000\n",
              "max        69.000000      19.000000  ...       48.000000        20.000000\n",
              "\n",
              "[8 rows x 5 columns]"
            ]
          },
          "metadata": {
            "tags": []
          },
          "execution_count": 13
        }
      ]
    },
    {
      "cell_type": "code",
      "metadata": {
        "colab": {
          "base_uri": "https://localhost:8080/"
        },
        "id": "gkNwnItcykEB",
        "outputId": "453275ea-0664-438d-88e4-3268abef1330"
      },
      "source": [
        "df_clientes_cadastrados_ID_unicos.query(\"Anos_empregado <= 0\")[['Anos_empregado', 'Categoria_de_renda']].value_counts()"
      ],
      "execution_count": null,
      "outputs": [
        {
          "output_type": "execute_result",
          "data": {
            "text/plain": [
              "Anos_empregado  Categoria_de_renda \n",
              "-1000.7         Pensionista            75314\n",
              " 0.0            Empregado                 26\n",
              "                Servidor publico          11\n",
              "                Associado comercial        7\n",
              "dtype: int64"
            ]
          },
          "metadata": {
            "tags": []
          },
          "execution_count": 14
        }
      ]
    },
    {
      "cell_type": "code",
      "metadata": {
        "id": "4yero7Yd0pKQ"
      },
      "source": [
        "df_clientes_cadastrados_ID_unicos['Anos_empregado'] = df_clientes_cadastrados_ID_unicos['Anos_empregado'].replace(-1000.7, -1)"
      ],
      "execution_count": null,
      "outputs": []
    },
    {
      "cell_type": "code",
      "metadata": {
        "colab": {
          "base_uri": "https://localhost:8080/",
          "height": 295
        },
        "id": "jNrdjo8Y1N0i",
        "outputId": "fab1678d-4a63-4e2d-e5f3-1c0e9ee1389f"
      },
      "source": [
        "df_clientes_cadastrados_ID_unicos[colunas_continuas].describe()"
      ],
      "execution_count": null,
      "outputs": [
        {
          "output_type": "execute_result",
          "data": {
            "text/html": [
              "<div>\n",
              "<style scoped>\n",
              "    .dataframe tbody tr th:only-of-type {\n",
              "        vertical-align: middle;\n",
              "    }\n",
              "\n",
              "    .dataframe tbody tr th {\n",
              "        vertical-align: top;\n",
              "    }\n",
              "\n",
              "    .dataframe thead th {\n",
              "        text-align: right;\n",
              "    }\n",
              "</style>\n",
              "<table border=\"1\" class=\"dataframe\">\n",
              "  <thead>\n",
              "    <tr style=\"text-align: right;\">\n",
              "      <th></th>\n",
              "      <th>Idade</th>\n",
              "      <th>Qtd_Filhos</th>\n",
              "      <th>Rendimento_Anual</th>\n",
              "      <th>Anos_empregado</th>\n",
              "      <th>Tamanho_Familia</th>\n",
              "    </tr>\n",
              "  </thead>\n",
              "  <tbody>\n",
              "    <tr>\n",
              "      <th>count</th>\n",
              "      <td>438463.000000</td>\n",
              "      <td>438463.000000</td>\n",
              "      <td>4.384630e+05</td>\n",
              "      <td>438463.000000</td>\n",
              "      <td>438463.000000</td>\n",
              "    </tr>\n",
              "    <tr>\n",
              "      <th>mean</th>\n",
              "      <td>43.834032</td>\n",
              "      <td>0.427384</td>\n",
              "      <td>1.875220e+05</td>\n",
              "      <td>5.780633</td>\n",
              "      <td>2.194461</td>\n",
              "    </tr>\n",
              "    <tr>\n",
              "      <th>std</th>\n",
              "      <td>11.472815</td>\n",
              "      <td>0.724879</td>\n",
              "      <td>1.100832e+05</td>\n",
              "      <td>6.733151</td>\n",
              "      <td>0.897194</td>\n",
              "    </tr>\n",
              "    <tr>\n",
              "      <th>min</th>\n",
              "      <td>21.000000</td>\n",
              "      <td>0.000000</td>\n",
              "      <td>2.610000e+04</td>\n",
              "      <td>-1.000000</td>\n",
              "      <td>1.000000</td>\n",
              "    </tr>\n",
              "    <tr>\n",
              "      <th>25%</th>\n",
              "      <td>34.000000</td>\n",
              "      <td>0.000000</td>\n",
              "      <td>1.215000e+05</td>\n",
              "      <td>1.000000</td>\n",
              "      <td>2.000000</td>\n",
              "    </tr>\n",
              "    <tr>\n",
              "      <th>50%</th>\n",
              "      <td>43.000000</td>\n",
              "      <td>0.000000</td>\n",
              "      <td>1.611000e+05</td>\n",
              "      <td>4.000000</td>\n",
              "      <td>2.000000</td>\n",
              "    </tr>\n",
              "    <tr>\n",
              "      <th>75%</th>\n",
              "      <td>53.000000</td>\n",
              "      <td>1.000000</td>\n",
              "      <td>2.250000e+05</td>\n",
              "      <td>8.500000</td>\n",
              "      <td>3.000000</td>\n",
              "    </tr>\n",
              "    <tr>\n",
              "      <th>max</th>\n",
              "      <td>69.000000</td>\n",
              "      <td>19.000000</td>\n",
              "      <td>6.750000e+06</td>\n",
              "      <td>48.000000</td>\n",
              "      <td>20.000000</td>\n",
              "    </tr>\n",
              "  </tbody>\n",
              "</table>\n",
              "</div>"
            ],
            "text/plain": [
              "               Idade     Qtd_Filhos  ...  Anos_empregado  Tamanho_Familia\n",
              "count  438463.000000  438463.000000  ...   438463.000000    438463.000000\n",
              "mean       43.834032       0.427384  ...        5.780633         2.194461\n",
              "std        11.472815       0.724879  ...        6.733151         0.897194\n",
              "min        21.000000       0.000000  ...       -1.000000         1.000000\n",
              "25%        34.000000       0.000000  ...        1.000000         2.000000\n",
              "50%        43.000000       0.000000  ...        4.000000         2.000000\n",
              "75%        53.000000       1.000000  ...        8.500000         3.000000\n",
              "max        69.000000      19.000000  ...       48.000000        20.000000\n",
              "\n",
              "[8 rows x 5 columns]"
            ]
          },
          "metadata": {
            "tags": []
          },
          "execution_count": 16
        }
      ]
    },
    {
      "cell_type": "code",
      "metadata": {
        "id": "zJxI4g5N1eEo"
      },
      "source": [
        "import seaborn as sns\n",
        "import matplotlib.pyplot as plt\n",
        "sns.set()"
      ],
      "execution_count": null,
      "outputs": []
    },
    {
      "cell_type": "code",
      "metadata": {
        "colab": {
          "base_uri": "https://localhost:8080/",
          "height": 287
        },
        "id": "gtuPyiDI1sxV",
        "outputId": "a0ffe6d0-0d8d-4967-99d8-2e96744d7d42"
      },
      "source": [
        "sns.histplot(data=df_clientes_cadastrados_ID_unicos, x='Rendimento_Anual', bins=10)\n",
        "plt.xticks(rotation=45)\n",
        "plt.show()"
      ],
      "execution_count": null,
      "outputs": [
        {
          "output_type": "display_data",
          "data": {
            "image/png": "[encoded data removed]",
            "text/plain": [
              "<Figure size 432x288 with 1 Axes>"
            ]
          },
          "metadata": {
            "tags": []
          }
        }
      ]
    },
    {
      "cell_type": "code",
      "metadata": {
        "colab": {
          "base_uri": "https://localhost:8080/"
        },
        "id": "QvzozgsC3EXj",
        "outputId": "0a0b8fe5-998d-4cd6-ce4b-9d150ed4c010"
      },
      "source": [
        "coluna = df_clientes_cadastrados_ID_unicos['Rendimento_Anual']\n",
        "\n",
        "coluna_med = coluna.mean()\n",
        "coluna_std = coluna.std()\n",
        "\n",
        "limite_sup = coluna_med + (2 * coluna_std)\n",
        "limite_inf = coluna_med - (2 * coluna_std)\n",
        "\n",
        "index_outliers = []\n",
        "\n",
        "for index, valor in coluna.items():\n",
        "  if valor > limite_sup or valor < limite_inf:\n",
        "    index_outliers.append(index)\n",
        "\n",
        "len(index_outliers)"
      ],
      "execution_count": null,
      "outputs": [
        {
          "output_type": "execute_result",
          "data": {
            "text/plain": [
              "12641"
            ]
          },
          "metadata": {
            "tags": []
          },
          "execution_count": 19
        }
      ]
    },
    {
      "cell_type": "code",
      "metadata": {
        "colab": {
          "base_uri": "https://localhost:8080/"
        },
        "id": "aanQMGNO5ZtR",
        "outputId": "2e6bc3ba-5c63-4677-af8d-b1a72d9b3856"
      },
      "source": [
        "df_clientes_cadastrados_sem_outliers = df_clientes_cadastrados_ID_unicos.drop(index_outliers)\n",
        "df_clientes_cadastrados_sem_outliers.shape"
      ],
      "execution_count": null,
      "outputs": [
        {
          "output_type": "execute_result",
          "data": {
            "text/plain": [
              "(425822, 18)"
            ]
          },
          "metadata": {
            "tags": []
          },
          "execution_count": 20
        }
      ]
    },
    {
      "cell_type": "code",
      "metadata": {
        "colab": {
          "base_uri": "https://localhost:8080/",
          "height": 295
        },
        "id": "kSxD1hFg62bP",
        "outputId": "7b12adfc-073a-43d9-f451-95660d1f687a"
      },
      "source": [
        "df_clientes_cadastrados_sem_outliers[colunas_continuas].describe()"
      ],
      "execution_count": null,
      "outputs": [
        {
          "output_type": "execute_result",
          "data": {
            "text/html": [
              "<div>\n",
              "<style scoped>\n",
              "    .dataframe tbody tr th:only-of-type {\n",
              "        vertical-align: middle;\n",
              "    }\n",
              "\n",
              "    .dataframe tbody tr th {\n",
              "        vertical-align: top;\n",
              "    }\n",
              "\n",
              "    .dataframe thead th {\n",
              "        text-align: right;\n",
              "    }\n",
              "</style>\n",
              "<table border=\"1\" class=\"dataframe\">\n",
              "  <thead>\n",
              "    <tr style=\"text-align: right;\">\n",
              "      <th></th>\n",
              "      <th>Idade</th>\n",
              "      <th>Qtd_Filhos</th>\n",
              "      <th>Rendimento_Anual</th>\n",
              "      <th>Anos_empregado</th>\n",
              "      <th>Tamanho_Familia</th>\n",
              "    </tr>\n",
              "  </thead>\n",
              "  <tbody>\n",
              "    <tr>\n",
              "      <th>count</th>\n",
              "      <td>425822.000000</td>\n",
              "      <td>425822.000000</td>\n",
              "      <td>425822.000000</td>\n",
              "      <td>425822.000000</td>\n",
              "      <td>425822.000000</td>\n",
              "    </tr>\n",
              "    <tr>\n",
              "      <th>mean</th>\n",
              "      <td>43.838707</td>\n",
              "      <td>0.425314</td>\n",
              "      <td>176384.728083</td>\n",
              "      <td>5.744956</td>\n",
              "      <td>2.191683</td>\n",
              "    </tr>\n",
              "    <tr>\n",
              "      <th>std</th>\n",
              "      <td>11.525400</td>\n",
              "      <td>0.723577</td>\n",
              "      <td>75033.530551</td>\n",
              "      <td>6.736649</td>\n",
              "      <td>0.896300</td>\n",
              "    </tr>\n",
              "    <tr>\n",
              "      <th>min</th>\n",
              "      <td>21.000000</td>\n",
              "      <td>0.000000</td>\n",
              "      <td>26100.000000</td>\n",
              "      <td>-1.000000</td>\n",
              "      <td>1.000000</td>\n",
              "    </tr>\n",
              "    <tr>\n",
              "      <th>25%</th>\n",
              "      <td>34.000000</td>\n",
              "      <td>0.000000</td>\n",
              "      <td>117000.000000</td>\n",
              "      <td>1.000000</td>\n",
              "      <td>2.000000</td>\n",
              "    </tr>\n",
              "    <tr>\n",
              "      <th>50%</th>\n",
              "      <td>43.000000</td>\n",
              "      <td>0.000000</td>\n",
              "      <td>157500.000000</td>\n",
              "      <td>4.000000</td>\n",
              "      <td>2.000000</td>\n",
              "    </tr>\n",
              "    <tr>\n",
              "      <th>75%</th>\n",
              "      <td>53.000000</td>\n",
              "      <td>1.000000</td>\n",
              "      <td>225000.000000</td>\n",
              "      <td>8.500000</td>\n",
              "      <td>3.000000</td>\n",
              "    </tr>\n",
              "    <tr>\n",
              "      <th>max</th>\n",
              "      <td>69.000000</td>\n",
              "      <td>19.000000</td>\n",
              "      <td>405000.000000</td>\n",
              "      <td>48.000000</td>\n",
              "      <td>20.000000</td>\n",
              "    </tr>\n",
              "  </tbody>\n",
              "</table>\n",
              "</div>"
            ],
            "text/plain": [
              "               Idade     Qtd_Filhos  ...  Anos_empregado  Tamanho_Familia\n",
              "count  425822.000000  425822.000000  ...   425822.000000    425822.000000\n",
              "mean       43.838707       0.425314  ...        5.744956         2.191683\n",
              "std        11.525400       0.723577  ...        6.736649         0.896300\n",
              "min        21.000000       0.000000  ...       -1.000000         1.000000\n",
              "25%        34.000000       0.000000  ...        1.000000         2.000000\n",
              "50%        43.000000       0.000000  ...        4.000000         2.000000\n",
              "75%        53.000000       1.000000  ...        8.500000         3.000000\n",
              "max        69.000000      19.000000  ...       48.000000        20.000000\n",
              "\n",
              "[8 rows x 5 columns]"
            ]
          },
          "metadata": {
            "tags": []
          },
          "execution_count": 21
        }
      ]
    },
    {
      "cell_type": "code",
      "metadata": {
        "colab": {
          "base_uri": "https://localhost:8080/",
          "height": 312
        },
        "id": "7Y5IMLbz7H1Q",
        "outputId": "d56dc809-6616-4ace-a818-c2a6b0c20d70"
      },
      "source": [
        "sns.histplot(data=df_clientes_cadastrados_sem_outliers, x='Rendimento_Anual', bins=10)\n",
        "plt.xticks(rotation=45)\n",
        "plt.show()"
      ],
      "execution_count": null,
      "outputs": [
        {
          "output_type": "display_data",
          "data": {
            "image/png": "[encoded data removed]",
            "text/plain": [
              "<Figure size 432x288 with 1 Axes>"
            ]
          },
          "metadata": {
            "tags": []
          }
        }
      ]
    },
    {
      "cell_type": "code",
      "metadata": {
        "colab": {
          "base_uri": "https://localhost:8080/",
          "height": 292
        },
        "id": "PCNOtqV970Uw",
        "outputId": "2035f814-4520-4109-f726-75ee6cb4aa03"
      },
      "source": [
        "sns.histplot(data=df_clientes_cadastrados_sem_outliers, x='Idade', bins=10)\n",
        "plt.xticks(rotation=45)\n",
        "plt.show()"
      ],
      "execution_count": null,
      "outputs": [
        {
          "output_type": "display_data",
          "data": {
            "image/png": "[encoded data removed]",
            "text/plain": [
              "<Figure size 432x288 with 1 Axes>"
            ]
          },
          "metadata": {
            "tags": []
          }
        }
      ]
    },
    {
      "cell_type": "code",
      "metadata": {
        "colab": {
          "base_uri": "https://localhost:8080/",
          "height": 292
        },
        "id": "SsfW3Y7d75HN",
        "outputId": "adaf5039-3685-4b8e-cd4c-ebde6422f864"
      },
      "source": [
        "sns.histplot(data=df_clientes_cadastrados_sem_outliers.query(\"Anos_empregado > 0\"), x='Anos_empregado')\n",
        "plt.xticks(rotation=45)\n",
        "plt.show()"
      ],
      "execution_count": null,
      "outputs": [
        {
          "output_type": "display_data",
          "data": {
            "image/png": "[encoded data removed]",
            "text/plain": [
              "<Figure size 432x288 with 1 Axes>"
            ]
          },
          "metadata": {
            "tags": []
          }
        }
      ]
    },
    {
      "cell_type": "code",
      "metadata": {
        "colab": {
          "base_uri": "https://localhost:8080/"
        },
        "id": "nNBdQk1fnfgO",
        "outputId": "06dc8070-9e39-4fbf-838c-72780bbc7da1"
      },
      "source": [
        "df_clientes_cadastrados_sem_outliers.info()"
      ],
      "execution_count": null,
      "outputs": [
        {
          "output_type": "stream",
          "text": [
            "<class 'pandas.core.frame.DataFrame'>\n",
            "Int64Index: 425822 entries, 2 to 438556\n",
            "Data columns (total 18 columns):\n",
            " #   Column                 Non-Null Count   Dtype  \n",
            "---  ------                 --------------   -----  \n",
            " 0   ID_Cliente             425822 non-null  int64  \n",
            " 1   Genero                 425822 non-null  object \n",
            " 2   Tem_Carro              425822 non-null  int64  \n",
            " 3   Tem_Casa_Propria       425822 non-null  int64  \n",
            " 4   Qtd_Filhos             425822 non-null  int64  \n",
            " 5   Rendimento_Anual       425822 non-null  float64\n",
            " 6   Categoria_de_renda     425822 non-null  object \n",
            " 7   Grau_Escolaridade      425822 non-null  object \n",
            " 8   Estado_Civil           425822 non-null  object \n",
            " 9   Moradia                425822 non-null  object \n",
            " 10  Idade                  425822 non-null  float64\n",
            " 11  Tem_Celular            425822 non-null  int64  \n",
            " 12  Tem_telefone_trabalho  425822 non-null  int64  \n",
            " 13  Tem_telefone_fixo      425822 non-null  int64  \n",
            " 14  Tem_email              425822 non-null  int64  \n",
            " 15  Ocupacao               425822 non-null  object \n",
            " 16  Tamanho_Familia        425822 non-null  float64\n",
            " 17  Anos_empregado         425822 non-null  float64\n",
            "dtypes: float64(4), int64(8), object(6)\n",
            "memory usage: 61.7+ MB\n"
          ],
          "name": "stdout"
        }
      ]
    },
    {
      "cell_type": "code",
      "metadata": {
        "id": "CHXPQkb9noM1"
      },
      "source": [
        "colunas_categoricas = ['Genero', 'Tem_Carro', 'Tem_Casa_Propria',\n",
        "                       'Categoria_de_renda', 'Grau_Escolaridade',\n",
        "                       'Estado_Civil', 'Moradia', 'Tem_Celular',\n",
        "                       'Tem_telefone_trabalho', 'Tem_telefone_fixo', 'Tem_email',\n",
        "                       'Ocupacao']"
      ],
      "execution_count": null,
      "outputs": []
    },
    {
      "cell_type": "code",
      "metadata": {
        "colab": {
          "base_uri": "https://localhost:8080/",
          "height": 335
        },
        "id": "5y32Y-YSn0zf",
        "outputId": "d3203aef-d6c4-453d-fb41-9d92c8e26247"
      },
      "source": [
        "sns.countplot(x = 'Estado_Civil', data = df_clientes_cadastrados_sem_outliers)\n",
        "plt.xticks(rotation=45, ha='right')\n",
        "plt.show()"
      ],
      "execution_count": null,
      "outputs": [
        {
          "output_type": "display_data",
          "data": {
            "image/png": "[encoded data removed]",
            "text/plain": [
              "<Figure size 432x288 with 1 Axes>"
            ]
          },
          "metadata": {
            "tags": []
          }
        }
      ]
    },
    {
      "cell_type": "code",
      "metadata": {
        "colab": {
          "base_uri": "https://localhost:8080/",
          "height": 287
        },
        "id": "JtWXT9DxoVOE",
        "outputId": "d2d1cd1c-7e59-4d84-bd84-256bdb279238"
      },
      "source": [
        "sns.countplot(x = 'Tem_Celular', data = df_clientes_cadastrados_sem_outliers)\n",
        "plt.xticks(rotation=45, ha='right')\n",
        "plt.show()"
      ],
      "execution_count": null,
      "outputs": [
        {
          "output_type": "display_data",
          "data": {
            "image/png": "[encoded data removed]",
            "text/plain": [
              "<Figure size 432x288 with 1 Axes>"
            ]
          },
          "metadata": {
            "tags": []
          }
        }
      ]
    },
    {
      "cell_type": "code",
      "metadata": {
        "colab": {
          "base_uri": "https://localhost:8080/",
          "height": 358
        },
        "id": "O5f9H6IBolI9",
        "outputId": "98106e48-f5ea-4fc6-ad4b-6d53336a8cff"
      },
      "source": [
        "sns.countplot(x = 'Ocupacao', data = df_clientes_cadastrados_sem_outliers)\n",
        "plt.xticks(rotation=45, ha='right')\n",
        "plt.show()"
      ],
      "execution_count": null,
      "outputs": [
        {
          "output_type": "display_data",
          "data": {
            "image/png": "[encoded data removed]",
            "text/plain": [
              "<Figure size 432x288 with 1 Axes>"
            ]
          },
          "metadata": {
            "tags": []
          }
        }
      ]
    },
    {
      "cell_type": "code",
      "metadata": {
        "colab": {
          "base_uri": "https://localhost:8080/",
          "height": 312
        },
        "id": "dP2Ul6VkpXQM",
        "outputId": "5f3f6f1e-eeec-4c46-8302-513ebc52d43d"
      },
      "source": [
        "sns.histplot(data=df_clientes_cadastrados_sem_outliers.query(\"Ocupacao == 'Outros'\"), x='Rendimento_Anual', bins=10)\n",
        "plt.xticks(rotation=45, ha='right')\n",
        "plt.show()"
      ],
      "execution_count": null,
      "outputs": [
        {
          "output_type": "display_data",
          "data": {
            "image/png": "[encoded data removed]",
            "text/plain": [
              "<Figure size 432x288 with 1 Axes>"
            ]
          },
          "metadata": {
            "tags": []
          }
        }
      ]
    },
    {
      "cell_type": "code",
      "metadata": {
        "colab": {
          "base_uri": "https://localhost:8080/"
        },
        "id": "NVdhlQ_wsF-6",
        "outputId": "6d892477-5aed-4d22-ca4c-592ce750d58a"
      },
      "source": [
        "df_clientes_cadastrados_tratamento1 = df_clientes_cadastrados_sem_outliers.drop(['Genero', 'Tem_Celular'], axis=1)\n",
        "df_clientes_cadastrados_tratamento1.shape"
      ],
      "execution_count": null,
      "outputs": [
        {
          "output_type": "execute_result",
          "data": {
            "text/plain": [
              "(425822, 16)"
            ]
          },
          "metadata": {
            "tags": []
          },
          "execution_count": 31
        }
      ]
    },
    {
      "cell_type": "code",
      "metadata": {
        "id": "_212cwVBs8gJ"
      },
      "source": [
        "colunas_categoricas.remove('Genero')"
      ],
      "execution_count": null,
      "outputs": []
    },
    {
      "cell_type": "code",
      "metadata": {
        "colab": {
          "base_uri": "https://localhost:8080/"
        },
        "id": "y7xPEe5gtBjJ",
        "outputId": "6840415c-1205-4d8c-a72e-691ae2eed14a"
      },
      "source": [
        "colunas_categoricas.remove('Tem_Celular')\n",
        "colunas_categoricas"
      ],
      "execution_count": null,
      "outputs": [
        {
          "output_type": "execute_result",
          "data": {
            "text/plain": [
              "['Tem_Carro',\n",
              " 'Tem_Casa_Propria',\n",
              " 'Categoria_de_renda',\n",
              " 'Grau_Escolaridade',\n",
              " 'Estado_Civil',\n",
              " 'Moradia',\n",
              " 'Tem_telefone_trabalho',\n",
              " 'Tem_telefone_fixo',\n",
              " 'Tem_email',\n",
              " 'Ocupacao']"
            ]
          },
          "metadata": {
            "tags": []
          },
          "execution_count": 33
        }
      ]
    },
    {
      "cell_type": "markdown",
      "metadata": {
        "id": "6e68iv0Z6mM9"
      },
      "source": [
        "#Aula 3"
      ]
    },
    {
      "cell_type": "code",
      "metadata": {
        "id": "_sV5Ap0ljReG",
        "colab": {
          "base_uri": "https://localhost:8080/",
          "height": 203
        },
        "outputId": "db73bcfa-fc6e-4a41-bd41-330c63799139"
      },
      "source": [
        "df_clientes_aprovados = pd.read_csv('https://raw.githubusercontent.com/IgorNascAlves/Credit-Scoring/main/dados/clientes_aprovados.csv')\n",
        "df_clientes_aprovados.head()"
      ],
      "execution_count": null,
      "outputs": [
        {
          "output_type": "execute_result",
          "data": {
            "text/html": [
              "<div>\n",
              "<style scoped>\n",
              "    .dataframe tbody tr th:only-of-type {\n",
              "        vertical-align: middle;\n",
              "    }\n",
              "\n",
              "    .dataframe tbody tr th {\n",
              "        vertical-align: top;\n",
              "    }\n",
              "\n",
              "    .dataframe thead th {\n",
              "        text-align: right;\n",
              "    }\n",
              "</style>\n",
              "<table border=\"1\" class=\"dataframe\">\n",
              "  <thead>\n",
              "    <tr style=\"text-align: right;\">\n",
              "      <th></th>\n",
              "      <th>ID_Cliente</th>\n",
              "      <th>Mes_referencia</th>\n",
              "      <th>Faixa_atraso</th>\n",
              "    </tr>\n",
              "  </thead>\n",
              "  <tbody>\n",
              "    <tr>\n",
              "      <th>0</th>\n",
              "      <td>5001711</td>\n",
              "      <td>0</td>\n",
              "      <td>nenhum empréstimo</td>\n",
              "    </tr>\n",
              "    <tr>\n",
              "      <th>1</th>\n",
              "      <td>5001711</td>\n",
              "      <td>-1</td>\n",
              "      <td>1-29 dias</td>\n",
              "    </tr>\n",
              "    <tr>\n",
              "      <th>2</th>\n",
              "      <td>5001711</td>\n",
              "      <td>-2</td>\n",
              "      <td>1-29 dias</td>\n",
              "    </tr>\n",
              "    <tr>\n",
              "      <th>3</th>\n",
              "      <td>5001711</td>\n",
              "      <td>-3</td>\n",
              "      <td>1-29 dias</td>\n",
              "    </tr>\n",
              "    <tr>\n",
              "      <th>4</th>\n",
              "      <td>5001712</td>\n",
              "      <td>0</td>\n",
              "      <td>pagamento realizado</td>\n",
              "    </tr>\n",
              "  </tbody>\n",
              "</table>\n",
              "</div>"
            ],
            "text/plain": [
              "   ID_Cliente  Mes_referencia         Faixa_atraso\n",
              "0     5001711               0    nenhum empréstimo\n",
              "1     5001711              -1            1-29 dias\n",
              "2     5001711              -2            1-29 dias\n",
              "3     5001711              -3            1-29 dias\n",
              "4     5001712               0  pagamento realizado"
            ]
          },
          "metadata": {
            "tags": []
          },
          "execution_count": 34
        }
      ]
    },
    {
      "cell_type": "code",
      "metadata": {
        "id": "UT997E_bjqg-",
        "colab": {
          "base_uri": "https://localhost:8080/"
        },
        "outputId": "7554329e-9e7a-4dcf-c779-86357de09e2f"
      },
      "source": [
        "df_clientes_aprovados.info()"
      ],
      "execution_count": null,
      "outputs": [
        {
          "output_type": "stream",
          "text": [
            "<class 'pandas.core.frame.DataFrame'>\n",
            "RangeIndex: 1048575 entries, 0 to 1048574\n",
            "Data columns (total 3 columns):\n",
            " #   Column          Non-Null Count    Dtype \n",
            "---  ------          --------------    ----- \n",
            " 0   ID_Cliente      1048575 non-null  int64 \n",
            " 1   Mes_referencia  1048575 non-null  int64 \n",
            " 2   Faixa_atraso    1048575 non-null  object\n",
            "dtypes: int64(2), object(1)\n",
            "memory usage: 24.0+ MB\n"
          ],
          "name": "stdout"
        }
      ]
    },
    {
      "cell_type": "code",
      "metadata": {
        "id": "rLloOLE1lZZS",
        "colab": {
          "base_uri": "https://localhost:8080/"
        },
        "outputId": "76bb500d-9723-4537-af4d-1a2f40fb49b7"
      },
      "source": [
        "df_clientes_aprovados.ID_Cliente.value_counts().shape"
      ],
      "execution_count": null,
      "outputs": [
        {
          "output_type": "execute_result",
          "data": {
            "text/plain": [
              "(45985,)"
            ]
          },
          "metadata": {
            "tags": []
          },
          "execution_count": 36
        }
      ]
    },
    {
      "cell_type": "code",
      "metadata": {
        "id": "KFUULQ-7ll4a",
        "colab": {
          "base_uri": "https://localhost:8080/"
        },
        "outputId": "e651e6bd-794d-4cf5-fbf7-8e9c23fc311e"
      },
      "source": [
        "df_clientes_cadastrados_tratamento1.shape"
      ],
      "execution_count": null,
      "outputs": [
        {
          "output_type": "execute_result",
          "data": {
            "text/plain": [
              "(425822, 16)"
            ]
          },
          "metadata": {
            "tags": []
          },
          "execution_count": 37
        }
      ]
    },
    {
      "cell_type": "code",
      "metadata": {
        "id": "YjzaTxEemZI-",
        "colab": {
          "base_uri": "https://localhost:8080/",
          "height": 634
        },
        "outputId": "5a48afa4-0808-462a-ed2f-bc18513b9f39"
      },
      "source": [
        "df_clientes_aprovados.query('ID_Cliente == 5001712')"
      ],
      "execution_count": null,
      "outputs": [
        {
          "output_type": "execute_result",
          "data": {
            "text/html": [
              "<div>\n",
              "<style scoped>\n",
              "    .dataframe tbody tr th:only-of-type {\n",
              "        vertical-align: middle;\n",
              "    }\n",
              "\n",
              "    .dataframe tbody tr th {\n",
              "        vertical-align: top;\n",
              "    }\n",
              "\n",
              "    .dataframe thead th {\n",
              "        text-align: right;\n",
              "    }\n",
              "</style>\n",
              "<table border=\"1\" class=\"dataframe\">\n",
              "  <thead>\n",
              "    <tr style=\"text-align: right;\">\n",
              "      <th></th>\n",
              "      <th>ID_Cliente</th>\n",
              "      <th>Mes_referencia</th>\n",
              "      <th>Faixa_atraso</th>\n",
              "    </tr>\n",
              "  </thead>\n",
              "  <tbody>\n",
              "    <tr>\n",
              "      <th>4</th>\n",
              "      <td>5001712</td>\n",
              "      <td>0</td>\n",
              "      <td>pagamento realizado</td>\n",
              "    </tr>\n",
              "    <tr>\n",
              "      <th>5</th>\n",
              "      <td>5001712</td>\n",
              "      <td>-1</td>\n",
              "      <td>pagamento realizado</td>\n",
              "    </tr>\n",
              "    <tr>\n",
              "      <th>6</th>\n",
              "      <td>5001712</td>\n",
              "      <td>-2</td>\n",
              "      <td>pagamento realizado</td>\n",
              "    </tr>\n",
              "    <tr>\n",
              "      <th>7</th>\n",
              "      <td>5001712</td>\n",
              "      <td>-3</td>\n",
              "      <td>pagamento realizado</td>\n",
              "    </tr>\n",
              "    <tr>\n",
              "      <th>8</th>\n",
              "      <td>5001712</td>\n",
              "      <td>-4</td>\n",
              "      <td>pagamento realizado</td>\n",
              "    </tr>\n",
              "    <tr>\n",
              "      <th>9</th>\n",
              "      <td>5001712</td>\n",
              "      <td>-5</td>\n",
              "      <td>pagamento realizado</td>\n",
              "    </tr>\n",
              "    <tr>\n",
              "      <th>10</th>\n",
              "      <td>5001712</td>\n",
              "      <td>-6</td>\n",
              "      <td>pagamento realizado</td>\n",
              "    </tr>\n",
              "    <tr>\n",
              "      <th>11</th>\n",
              "      <td>5001712</td>\n",
              "      <td>-7</td>\n",
              "      <td>pagamento realizado</td>\n",
              "    </tr>\n",
              "    <tr>\n",
              "      <th>12</th>\n",
              "      <td>5001712</td>\n",
              "      <td>-8</td>\n",
              "      <td>pagamento realizado</td>\n",
              "    </tr>\n",
              "    <tr>\n",
              "      <th>13</th>\n",
              "      <td>5001712</td>\n",
              "      <td>-9</td>\n",
              "      <td>1-29 dias</td>\n",
              "    </tr>\n",
              "    <tr>\n",
              "      <th>14</th>\n",
              "      <td>5001712</td>\n",
              "      <td>-10</td>\n",
              "      <td>1-29 dias</td>\n",
              "    </tr>\n",
              "    <tr>\n",
              "      <th>15</th>\n",
              "      <td>5001712</td>\n",
              "      <td>-11</td>\n",
              "      <td>1-29 dias</td>\n",
              "    </tr>\n",
              "    <tr>\n",
              "      <th>16</th>\n",
              "      <td>5001712</td>\n",
              "      <td>-12</td>\n",
              "      <td>1-29 dias</td>\n",
              "    </tr>\n",
              "    <tr>\n",
              "      <th>17</th>\n",
              "      <td>5001712</td>\n",
              "      <td>-13</td>\n",
              "      <td>1-29 dias</td>\n",
              "    </tr>\n",
              "    <tr>\n",
              "      <th>18</th>\n",
              "      <td>5001712</td>\n",
              "      <td>-14</td>\n",
              "      <td>1-29 dias</td>\n",
              "    </tr>\n",
              "    <tr>\n",
              "      <th>19</th>\n",
              "      <td>5001712</td>\n",
              "      <td>-15</td>\n",
              "      <td>1-29 dias</td>\n",
              "    </tr>\n",
              "    <tr>\n",
              "      <th>20</th>\n",
              "      <td>5001712</td>\n",
              "      <td>-16</td>\n",
              "      <td>1-29 dias</td>\n",
              "    </tr>\n",
              "    <tr>\n",
              "      <th>21</th>\n",
              "      <td>5001712</td>\n",
              "      <td>-17</td>\n",
              "      <td>1-29 dias</td>\n",
              "    </tr>\n",
              "    <tr>\n",
              "      <th>22</th>\n",
              "      <td>5001712</td>\n",
              "      <td>-18</td>\n",
              "      <td>1-29 dias</td>\n",
              "    </tr>\n",
              "  </tbody>\n",
              "</table>\n",
              "</div>"
            ],
            "text/plain": [
              "    ID_Cliente  Mes_referencia         Faixa_atraso\n",
              "4      5001712               0  pagamento realizado\n",
              "5      5001712              -1  pagamento realizado\n",
              "6      5001712              -2  pagamento realizado\n",
              "7      5001712              -3  pagamento realizado\n",
              "8      5001712              -4  pagamento realizado\n",
              "9      5001712              -5  pagamento realizado\n",
              "10     5001712              -6  pagamento realizado\n",
              "11     5001712              -7  pagamento realizado\n",
              "12     5001712              -8  pagamento realizado\n",
              "13     5001712              -9            1-29 dias\n",
              "14     5001712             -10            1-29 dias\n",
              "15     5001712             -11            1-29 dias\n",
              "16     5001712             -12            1-29 dias\n",
              "17     5001712             -13            1-29 dias\n",
              "18     5001712             -14            1-29 dias\n",
              "19     5001712             -15            1-29 dias\n",
              "20     5001712             -16            1-29 dias\n",
              "21     5001712             -17            1-29 dias\n",
              "22     5001712             -18            1-29 dias"
            ]
          },
          "metadata": {
            "tags": []
          },
          "execution_count": 38
        }
      ]
    },
    {
      "cell_type": "code",
      "metadata": {
        "id": "cfbsivSunC-M",
        "colab": {
          "base_uri": "https://localhost:8080/",
          "height": 172
        },
        "outputId": "2f4bb880-9414-4ed3-8a33-c0bbaec55ab7"
      },
      "source": [
        "df_clientes_aprovados.query('ID_Cliente == 5001711')"
      ],
      "execution_count": null,
      "outputs": [
        {
          "output_type": "execute_result",
          "data": {
            "text/html": [
              "<div>\n",
              "<style scoped>\n",
              "    .dataframe tbody tr th:only-of-type {\n",
              "        vertical-align: middle;\n",
              "    }\n",
              "\n",
              "    .dataframe tbody tr th {\n",
              "        vertical-align: top;\n",
              "    }\n",
              "\n",
              "    .dataframe thead th {\n",
              "        text-align: right;\n",
              "    }\n",
              "</style>\n",
              "<table border=\"1\" class=\"dataframe\">\n",
              "  <thead>\n",
              "    <tr style=\"text-align: right;\">\n",
              "      <th></th>\n",
              "      <th>ID_Cliente</th>\n",
              "      <th>Mes_referencia</th>\n",
              "      <th>Faixa_atraso</th>\n",
              "    </tr>\n",
              "  </thead>\n",
              "  <tbody>\n",
              "    <tr>\n",
              "      <th>0</th>\n",
              "      <td>5001711</td>\n",
              "      <td>0</td>\n",
              "      <td>nenhum empréstimo</td>\n",
              "    </tr>\n",
              "    <tr>\n",
              "      <th>1</th>\n",
              "      <td>5001711</td>\n",
              "      <td>-1</td>\n",
              "      <td>1-29 dias</td>\n",
              "    </tr>\n",
              "    <tr>\n",
              "      <th>2</th>\n",
              "      <td>5001711</td>\n",
              "      <td>-2</td>\n",
              "      <td>1-29 dias</td>\n",
              "    </tr>\n",
              "    <tr>\n",
              "      <th>3</th>\n",
              "      <td>5001711</td>\n",
              "      <td>-3</td>\n",
              "      <td>1-29 dias</td>\n",
              "    </tr>\n",
              "  </tbody>\n",
              "</table>\n",
              "</div>"
            ],
            "text/plain": [
              "   ID_Cliente  Mes_referencia       Faixa_atraso\n",
              "0     5001711               0  nenhum empréstimo\n",
              "1     5001711              -1          1-29 dias\n",
              "2     5001711              -2          1-29 dias\n",
              "3     5001711              -3          1-29 dias"
            ]
          },
          "metadata": {
            "tags": []
          },
          "execution_count": 39
        }
      ]
    },
    {
      "cell_type": "code",
      "metadata": {
        "id": "-l0YrqPSne66",
        "colab": {
          "base_uri": "https://localhost:8080/"
        },
        "outputId": "a19d6bf3-1dd0-4dc9-bd0d-06b1ef4a51a5"
      },
      "source": [
        "df_clientes_aprovados.Faixa_atraso.value_counts().index.to_list()"
      ],
      "execution_count": null,
      "outputs": [
        {
          "output_type": "execute_result",
          "data": {
            "text/plain": [
              "['pagamento realizado',\n",
              " '1-29 dias',\n",
              " 'nenhum empréstimo',\n",
              " '30-59 dias',\n",
              " '>150 dias',\n",
              " '60-89 dias',\n",
              " '90-119 dias',\n",
              " '120-149 dias']"
            ]
          },
          "metadata": {
            "tags": []
          },
          "execution_count": 40
        }
      ]
    },
    {
      "cell_type": "code",
      "metadata": {
        "id": "I4IQO8KsDf34",
        "colab": {
          "base_uri": "https://localhost:8080/"
        },
        "outputId": "f6c83a20-6f43-4919-9754-38bb01e501f8"
      },
      "source": [
        "df_registros_creditos_agrupados_ID = df_clientes_aprovados.groupby('ID_Cliente')\n",
        "ser_abertura = df_registros_creditos_agrupados_ID.apply(lambda x: min(x['Mes_referencia']))\n",
        "ser_abertura.name = 'Abertura'\n",
        "ser_abertura"
      ],
      "execution_count": null,
      "outputs": [
        {
          "output_type": "execute_result",
          "data": {
            "text/plain": [
              "ID_Cliente\n",
              "5001711    -3\n",
              "5001712   -18\n",
              "5001713   -21\n",
              "5001714   -14\n",
              "5001715   -59\n",
              "           ..\n",
              "5150482   -28\n",
              "5150483   -17\n",
              "5150484   -12\n",
              "5150485    -1\n",
              "5150487   -29\n",
              "Name: Abertura, Length: 45985, dtype: int64"
            ]
          },
          "metadata": {
            "tags": []
          },
          "execution_count": 41
        }
      ]
    },
    {
      "cell_type": "code",
      "metadata": {
        "id": "EAYWImCKEZeC",
        "colab": {
          "base_uri": "https://localhost:8080/",
          "height": 203
        },
        "outputId": "af19aa71-54a4-4ac8-a462-bd75bfcf95ba"
      },
      "source": [
        "df_clientes_aprovados = df_clientes_aprovados.merge(ser_abertura, on='ID_Cliente')\n",
        "df_clientes_aprovados.head()"
      ],
      "execution_count": null,
      "outputs": [
        {
          "output_type": "execute_result",
          "data": {
            "text/html": [
              "<div>\n",
              "<style scoped>\n",
              "    .dataframe tbody tr th:only-of-type {\n",
              "        vertical-align: middle;\n",
              "    }\n",
              "\n",
              "    .dataframe tbody tr th {\n",
              "        vertical-align: top;\n",
              "    }\n",
              "\n",
              "    .dataframe thead th {\n",
              "        text-align: right;\n",
              "    }\n",
              "</style>\n",
              "<table border=\"1\" class=\"dataframe\">\n",
              "  <thead>\n",
              "    <tr style=\"text-align: right;\">\n",
              "      <th></th>\n",
              "      <th>ID_Cliente</th>\n",
              "      <th>Mes_referencia</th>\n",
              "      <th>Faixa_atraso</th>\n",
              "      <th>Abertura</th>\n",
              "    </tr>\n",
              "  </thead>\n",
              "  <tbody>\n",
              "    <tr>\n",
              "      <th>0</th>\n",
              "      <td>5001711</td>\n",
              "      <td>0</td>\n",
              "      <td>nenhum empréstimo</td>\n",
              "      <td>-3</td>\n",
              "    </tr>\n",
              "    <tr>\n",
              "      <th>1</th>\n",
              "      <td>5001711</td>\n",
              "      <td>-1</td>\n",
              "      <td>1-29 dias</td>\n",
              "      <td>-3</td>\n",
              "    </tr>\n",
              "    <tr>\n",
              "      <th>2</th>\n",
              "      <td>5001711</td>\n",
              "      <td>-2</td>\n",
              "      <td>1-29 dias</td>\n",
              "      <td>-3</td>\n",
              "    </tr>\n",
              "    <tr>\n",
              "      <th>3</th>\n",
              "      <td>5001711</td>\n",
              "      <td>-3</td>\n",
              "      <td>1-29 dias</td>\n",
              "      <td>-3</td>\n",
              "    </tr>\n",
              "    <tr>\n",
              "      <th>4</th>\n",
              "      <td>5001712</td>\n",
              "      <td>0</td>\n",
              "      <td>pagamento realizado</td>\n",
              "      <td>-18</td>\n",
              "    </tr>\n",
              "  </tbody>\n",
              "</table>\n",
              "</div>"
            ],
            "text/plain": [
              "   ID_Cliente  Mes_referencia         Faixa_atraso  Abertura\n",
              "0     5001711               0    nenhum empréstimo        -3\n",
              "1     5001711              -1            1-29 dias        -3\n",
              "2     5001711              -2            1-29 dias        -3\n",
              "3     5001711              -3            1-29 dias        -3\n",
              "4     5001712               0  pagamento realizado       -18"
            ]
          },
          "metadata": {
            "tags": []
          },
          "execution_count": 42
        }
      ]
    },
    {
      "cell_type": "code",
      "metadata": {
        "id": "M5mizo-HFZJC",
        "colab": {
          "base_uri": "https://localhost:8080/"
        },
        "outputId": "734e47f2-906a-4ceb-9e13-cd49a9e0907e"
      },
      "source": [
        "ser_final = df_registros_creditos_agrupados_ID.apply(lambda x: max(x['Mes_referencia']))\n",
        "ser_final.name = 'Final'\n",
        "ser_final"
      ],
      "execution_count": null,
      "outputs": [
        {
          "output_type": "execute_result",
          "data": {
            "text/plain": [
              "ID_Cliente\n",
              "5001711     0\n",
              "5001712     0\n",
              "5001713     0\n",
              "5001714     0\n",
              "5001715     0\n",
              "           ..\n",
              "5150482   -11\n",
              "5150483     0\n",
              "5150484     0\n",
              "5150485     0\n",
              "5150487     0\n",
              "Name: Final, Length: 45985, dtype: int64"
            ]
          },
          "metadata": {
            "tags": []
          },
          "execution_count": 43
        }
      ]
    },
    {
      "cell_type": "code",
      "metadata": {
        "id": "LteIYUMnFvmi",
        "colab": {
          "base_uri": "https://localhost:8080/",
          "height": 203
        },
        "outputId": "874cd14f-0b3f-4576-e328-06bbd00ca95c"
      },
      "source": [
        "df_clientes_aprovados = df_clientes_aprovados.merge(ser_final, on='ID_Cliente')\n",
        "df_clientes_aprovados.head()"
      ],
      "execution_count": null,
      "outputs": [
        {
          "output_type": "execute_result",
          "data": {
            "text/html": [
              "<div>\n",
              "<style scoped>\n",
              "    .dataframe tbody tr th:only-of-type {\n",
              "        vertical-align: middle;\n",
              "    }\n",
              "\n",
              "    .dataframe tbody tr th {\n",
              "        vertical-align: top;\n",
              "    }\n",
              "\n",
              "    .dataframe thead th {\n",
              "        text-align: right;\n",
              "    }\n",
              "</style>\n",
              "<table border=\"1\" class=\"dataframe\">\n",
              "  <thead>\n",
              "    <tr style=\"text-align: right;\">\n",
              "      <th></th>\n",
              "      <th>ID_Cliente</th>\n",
              "      <th>Mes_referencia</th>\n",
              "      <th>Faixa_atraso</th>\n",
              "      <th>Abertura</th>\n",
              "      <th>Final</th>\n",
              "    </tr>\n",
              "  </thead>\n",
              "  <tbody>\n",
              "    <tr>\n",
              "      <th>0</th>\n",
              "      <td>5001711</td>\n",
              "      <td>0</td>\n",
              "      <td>nenhum empréstimo</td>\n",
              "      <td>-3</td>\n",
              "      <td>0</td>\n",
              "    </tr>\n",
              "    <tr>\n",
              "      <th>1</th>\n",
              "      <td>5001711</td>\n",
              "      <td>-1</td>\n",
              "      <td>1-29 dias</td>\n",
              "      <td>-3</td>\n",
              "      <td>0</td>\n",
              "    </tr>\n",
              "    <tr>\n",
              "      <th>2</th>\n",
              "      <td>5001711</td>\n",
              "      <td>-2</td>\n",
              "      <td>1-29 dias</td>\n",
              "      <td>-3</td>\n",
              "      <td>0</td>\n",
              "    </tr>\n",
              "    <tr>\n",
              "      <th>3</th>\n",
              "      <td>5001711</td>\n",
              "      <td>-3</td>\n",
              "      <td>1-29 dias</td>\n",
              "      <td>-3</td>\n",
              "      <td>0</td>\n",
              "    </tr>\n",
              "    <tr>\n",
              "      <th>4</th>\n",
              "      <td>5001712</td>\n",
              "      <td>0</td>\n",
              "      <td>pagamento realizado</td>\n",
              "      <td>-18</td>\n",
              "      <td>0</td>\n",
              "    </tr>\n",
              "  </tbody>\n",
              "</table>\n",
              "</div>"
            ],
            "text/plain": [
              "   ID_Cliente  Mes_referencia         Faixa_atraso  Abertura  Final\n",
              "0     5001711               0    nenhum empréstimo        -3      0\n",
              "1     5001711              -1            1-29 dias        -3      0\n",
              "2     5001711              -2            1-29 dias        -3      0\n",
              "3     5001711              -3            1-29 dias        -3      0\n",
              "4     5001712               0  pagamento realizado       -18      0"
            ]
          },
          "metadata": {
            "tags": []
          },
          "execution_count": 44
        }
      ]
    },
    {
      "cell_type": "code",
      "metadata": {
        "id": "GgFkJLP4GG3Z",
        "colab": {
          "base_uri": "https://localhost:8080/",
          "height": 203
        },
        "outputId": "43744d21-a1a1-4c4c-bdf2-16a3a3ca0ba3"
      },
      "source": [
        "df_clientes_aprovados['Janela'] = df_clientes_aprovados['Final'] - df_clientes_aprovados['Abertura']\n",
        "df_clientes_aprovados.head()"
      ],
      "execution_count": null,
      "outputs": [
        {
          "output_type": "execute_result",
          "data": {
            "text/html": [
              "<div>\n",
              "<style scoped>\n",
              "    .dataframe tbody tr th:only-of-type {\n",
              "        vertical-align: middle;\n",
              "    }\n",
              "\n",
              "    .dataframe tbody tr th {\n",
              "        vertical-align: top;\n",
              "    }\n",
              "\n",
              "    .dataframe thead th {\n",
              "        text-align: right;\n",
              "    }\n",
              "</style>\n",
              "<table border=\"1\" class=\"dataframe\">\n",
              "  <thead>\n",
              "    <tr style=\"text-align: right;\">\n",
              "      <th></th>\n",
              "      <th>ID_Cliente</th>\n",
              "      <th>Mes_referencia</th>\n",
              "      <th>Faixa_atraso</th>\n",
              "      <th>Abertura</th>\n",
              "      <th>Final</th>\n",
              "      <th>Janela</th>\n",
              "    </tr>\n",
              "  </thead>\n",
              "  <tbody>\n",
              "    <tr>\n",
              "      <th>0</th>\n",
              "      <td>5001711</td>\n",
              "      <td>0</td>\n",
              "      <td>nenhum empréstimo</td>\n",
              "      <td>-3</td>\n",
              "      <td>0</td>\n",
              "      <td>3</td>\n",
              "    </tr>\n",
              "    <tr>\n",
              "      <th>1</th>\n",
              "      <td>5001711</td>\n",
              "      <td>-1</td>\n",
              "      <td>1-29 dias</td>\n",
              "      <td>-3</td>\n",
              "      <td>0</td>\n",
              "      <td>3</td>\n",
              "    </tr>\n",
              "    <tr>\n",
              "      <th>2</th>\n",
              "      <td>5001711</td>\n",
              "      <td>-2</td>\n",
              "      <td>1-29 dias</td>\n",
              "      <td>-3</td>\n",
              "      <td>0</td>\n",
              "      <td>3</td>\n",
              "    </tr>\n",
              "    <tr>\n",
              "      <th>3</th>\n",
              "      <td>5001711</td>\n",
              "      <td>-3</td>\n",
              "      <td>1-29 dias</td>\n",
              "      <td>-3</td>\n",
              "      <td>0</td>\n",
              "      <td>3</td>\n",
              "    </tr>\n",
              "    <tr>\n",
              "      <th>4</th>\n",
              "      <td>5001712</td>\n",
              "      <td>0</td>\n",
              "      <td>pagamento realizado</td>\n",
              "      <td>-18</td>\n",
              "      <td>0</td>\n",
              "      <td>18</td>\n",
              "    </tr>\n",
              "  </tbody>\n",
              "</table>\n",
              "</div>"
            ],
            "text/plain": [
              "   ID_Cliente  Mes_referencia         Faixa_atraso  Abertura  Final  Janela\n",
              "0     5001711               0    nenhum empréstimo        -3      0       3\n",
              "1     5001711              -1            1-29 dias        -3      0       3\n",
              "2     5001711              -2            1-29 dias        -3      0       3\n",
              "3     5001711              -3            1-29 dias        -3      0       3\n",
              "4     5001712               0  pagamento realizado       -18      0      18"
            ]
          },
          "metadata": {
            "tags": []
          },
          "execution_count": 45
        }
      ]
    },
    {
      "cell_type": "code",
      "metadata": {
        "id": "s8mVULoxHDxQ",
        "colab": {
          "base_uri": "https://localhost:8080/",
          "height": 203
        },
        "outputId": "8d75826f-0039-4c19-a4be-3d300d4f69f1"
      },
      "source": [
        "df_clientes_aprovados['MOB'] = df_clientes_aprovados['Mes_referencia'] - df_clientes_aprovados['Abertura']\n",
        "df_clientes_aprovados.head()"
      ],
      "execution_count": null,
      "outputs": [
        {
          "output_type": "execute_result",
          "data": {
            "text/html": [
              "<div>\n",
              "<style scoped>\n",
              "    .dataframe tbody tr th:only-of-type {\n",
              "        vertical-align: middle;\n",
              "    }\n",
              "\n",
              "    .dataframe tbody tr th {\n",
              "        vertical-align: top;\n",
              "    }\n",
              "\n",
              "    .dataframe thead th {\n",
              "        text-align: right;\n",
              "    }\n",
              "</style>\n",
              "<table border=\"1\" class=\"dataframe\">\n",
              "  <thead>\n",
              "    <tr style=\"text-align: right;\">\n",
              "      <th></th>\n",
              "      <th>ID_Cliente</th>\n",
              "      <th>Mes_referencia</th>\n",
              "      <th>Faixa_atraso</th>\n",
              "      <th>Abertura</th>\n",
              "      <th>Final</th>\n",
              "      <th>Janela</th>\n",
              "      <th>MOB</th>\n",
              "    </tr>\n",
              "  </thead>\n",
              "  <tbody>\n",
              "    <tr>\n",
              "      <th>0</th>\n",
              "      <td>5001711</td>\n",
              "      <td>0</td>\n",
              "      <td>nenhum empréstimo</td>\n",
              "      <td>-3</td>\n",
              "      <td>0</td>\n",
              "      <td>3</td>\n",
              "      <td>3</td>\n",
              "    </tr>\n",
              "    <tr>\n",
              "      <th>1</th>\n",
              "      <td>5001711</td>\n",
              "      <td>-1</td>\n",
              "      <td>1-29 dias</td>\n",
              "      <td>-3</td>\n",
              "      <td>0</td>\n",
              "      <td>3</td>\n",
              "      <td>2</td>\n",
              "    </tr>\n",
              "    <tr>\n",
              "      <th>2</th>\n",
              "      <td>5001711</td>\n",
              "      <td>-2</td>\n",
              "      <td>1-29 dias</td>\n",
              "      <td>-3</td>\n",
              "      <td>0</td>\n",
              "      <td>3</td>\n",
              "      <td>1</td>\n",
              "    </tr>\n",
              "    <tr>\n",
              "      <th>3</th>\n",
              "      <td>5001711</td>\n",
              "      <td>-3</td>\n",
              "      <td>1-29 dias</td>\n",
              "      <td>-3</td>\n",
              "      <td>0</td>\n",
              "      <td>3</td>\n",
              "      <td>0</td>\n",
              "    </tr>\n",
              "    <tr>\n",
              "      <th>4</th>\n",
              "      <td>5001712</td>\n",
              "      <td>0</td>\n",
              "      <td>pagamento realizado</td>\n",
              "      <td>-18</td>\n",
              "      <td>0</td>\n",
              "      <td>18</td>\n",
              "      <td>18</td>\n",
              "    </tr>\n",
              "  </tbody>\n",
              "</table>\n",
              "</div>"
            ],
            "text/plain": [
              "   ID_Cliente  Mes_referencia         Faixa_atraso  ...  Final  Janela  MOB\n",
              "0     5001711               0    nenhum empréstimo  ...      0       3    3\n",
              "1     5001711              -1            1-29 dias  ...      0       3    2\n",
              "2     5001711              -2            1-29 dias  ...      0       3    1\n",
              "3     5001711              -3            1-29 dias  ...      0       3    0\n",
              "4     5001712               0  pagamento realizado  ...      0      18   18\n",
              "\n",
              "[5 rows x 7 columns]"
            ]
          },
          "metadata": {
            "tags": []
          },
          "execution_count": 46
        }
      ]
    },
    {
      "cell_type": "code",
      "metadata": {
        "id": "uqF6fREEIQBU"
      },
      "source": [
        "dict_faixa_atraso_ind ={'nenhum empréstimo': 0, 'pagamento realizado': 1,\n",
        "                        '1-29 dias': 2, '30-59 dias': 3, '60-89 dias': 4,\n",
        "                        '90-119 dias': 5, '120-149 dias': 6, '>150 dias': 7}"
      ],
      "execution_count": null,
      "outputs": []
    },
    {
      "cell_type": "code",
      "metadata": {
        "id": "EayOaDUmIcrM",
        "colab": {
          "base_uri": "https://localhost:8080/",
          "height": 203
        },
        "outputId": "40a4f0da-35ec-43b2-ecd2-647d71b4fa51"
      },
      "source": [
        "df_clientes_aprovados['Ind_Faixa_atraso'] = df_clientes_aprovados['Faixa_atraso'].map(dict_faixa_atraso_ind)\n",
        "df_clientes_aprovados.head()"
      ],
      "execution_count": null,
      "outputs": [
        {
          "output_type": "execute_result",
          "data": {
            "text/html": [
              "<div>\n",
              "<style scoped>\n",
              "    .dataframe tbody tr th:only-of-type {\n",
              "        vertical-align: middle;\n",
              "    }\n",
              "\n",
              "    .dataframe tbody tr th {\n",
              "        vertical-align: top;\n",
              "    }\n",
              "\n",
              "    .dataframe thead th {\n",
              "        text-align: right;\n",
              "    }\n",
              "</style>\n",
              "<table border=\"1\" class=\"dataframe\">\n",
              "  <thead>\n",
              "    <tr style=\"text-align: right;\">\n",
              "      <th></th>\n",
              "      <th>ID_Cliente</th>\n",
              "      <th>Mes_referencia</th>\n",
              "      <th>Faixa_atraso</th>\n",
              "      <th>Abertura</th>\n",
              "      <th>Final</th>\n",
              "      <th>Janela</th>\n",
              "      <th>MOB</th>\n",
              "      <th>Ind_Faixa_atraso</th>\n",
              "    </tr>\n",
              "  </thead>\n",
              "  <tbody>\n",
              "    <tr>\n",
              "      <th>0</th>\n",
              "      <td>5001711</td>\n",
              "      <td>0</td>\n",
              "      <td>nenhum empréstimo</td>\n",
              "      <td>-3</td>\n",
              "      <td>0</td>\n",
              "      <td>3</td>\n",
              "      <td>3</td>\n",
              "      <td>0</td>\n",
              "    </tr>\n",
              "    <tr>\n",
              "      <th>1</th>\n",
              "      <td>5001711</td>\n",
              "      <td>-1</td>\n",
              "      <td>1-29 dias</td>\n",
              "      <td>-3</td>\n",
              "      <td>0</td>\n",
              "      <td>3</td>\n",
              "      <td>2</td>\n",
              "      <td>2</td>\n",
              "    </tr>\n",
              "    <tr>\n",
              "      <th>2</th>\n",
              "      <td>5001711</td>\n",
              "      <td>-2</td>\n",
              "      <td>1-29 dias</td>\n",
              "      <td>-3</td>\n",
              "      <td>0</td>\n",
              "      <td>3</td>\n",
              "      <td>1</td>\n",
              "      <td>2</td>\n",
              "    </tr>\n",
              "    <tr>\n",
              "      <th>3</th>\n",
              "      <td>5001711</td>\n",
              "      <td>-3</td>\n",
              "      <td>1-29 dias</td>\n",
              "      <td>-3</td>\n",
              "      <td>0</td>\n",
              "      <td>3</td>\n",
              "      <td>0</td>\n",
              "      <td>2</td>\n",
              "    </tr>\n",
              "    <tr>\n",
              "      <th>4</th>\n",
              "      <td>5001712</td>\n",
              "      <td>0</td>\n",
              "      <td>pagamento realizado</td>\n",
              "      <td>-18</td>\n",
              "      <td>0</td>\n",
              "      <td>18</td>\n",
              "      <td>18</td>\n",
              "      <td>1</td>\n",
              "    </tr>\n",
              "  </tbody>\n",
              "</table>\n",
              "</div>"
            ],
            "text/plain": [
              "   ID_Cliente  Mes_referencia  ... MOB  Ind_Faixa_atraso\n",
              "0     5001711               0  ...   3                 0\n",
              "1     5001711              -1  ...   2                 2\n",
              "2     5001711              -2  ...   1                 2\n",
              "3     5001711              -3  ...   0                 2\n",
              "4     5001712               0  ...  18                 1\n",
              "\n",
              "[5 rows x 8 columns]"
            ]
          },
          "metadata": {
            "tags": []
          },
          "execution_count": 48
        }
      ]
    },
    {
      "cell_type": "code",
      "metadata": {
        "id": "lXcoM_neLBbl",
        "colab": {
          "base_uri": "https://localhost:8080/",
          "height": 203
        },
        "outputId": "d43e8e57-5a6c-48ea-e644-2bc92f6cfa30"
      },
      "source": [
        "df_clientes_aprovados['Mau'] = df_clientes_aprovados.apply(lambda x: 1 if x['Ind_Faixa_atraso'] > 3 else 0, axis=1)\n",
        "df_clientes_aprovados.head()"
      ],
      "execution_count": null,
      "outputs": [
        {
          "output_type": "execute_result",
          "data": {
            "text/html": [
              "<div>\n",
              "<style scoped>\n",
              "    .dataframe tbody tr th:only-of-type {\n",
              "        vertical-align: middle;\n",
              "    }\n",
              "\n",
              "    .dataframe tbody tr th {\n",
              "        vertical-align: top;\n",
              "    }\n",
              "\n",
              "    .dataframe thead th {\n",
              "        text-align: right;\n",
              "    }\n",
              "</style>\n",
              "<table border=\"1\" class=\"dataframe\">\n",
              "  <thead>\n",
              "    <tr style=\"text-align: right;\">\n",
              "      <th></th>\n",
              "      <th>ID_Cliente</th>\n",
              "      <th>Mes_referencia</th>\n",
              "      <th>Faixa_atraso</th>\n",
              "      <th>Abertura</th>\n",
              "      <th>Final</th>\n",
              "      <th>Janela</th>\n",
              "      <th>MOB</th>\n",
              "      <th>Ind_Faixa_atraso</th>\n",
              "      <th>Mau</th>\n",
              "    </tr>\n",
              "  </thead>\n",
              "  <tbody>\n",
              "    <tr>\n",
              "      <th>0</th>\n",
              "      <td>5001711</td>\n",
              "      <td>0</td>\n",
              "      <td>nenhum empréstimo</td>\n",
              "      <td>-3</td>\n",
              "      <td>0</td>\n",
              "      <td>3</td>\n",
              "      <td>3</td>\n",
              "      <td>0</td>\n",
              "      <td>0</td>\n",
              "    </tr>\n",
              "    <tr>\n",
              "      <th>1</th>\n",
              "      <td>5001711</td>\n",
              "      <td>-1</td>\n",
              "      <td>1-29 dias</td>\n",
              "      <td>-3</td>\n",
              "      <td>0</td>\n",
              "      <td>3</td>\n",
              "      <td>2</td>\n",
              "      <td>2</td>\n",
              "      <td>0</td>\n",
              "    </tr>\n",
              "    <tr>\n",
              "      <th>2</th>\n",
              "      <td>5001711</td>\n",
              "      <td>-2</td>\n",
              "      <td>1-29 dias</td>\n",
              "      <td>-3</td>\n",
              "      <td>0</td>\n",
              "      <td>3</td>\n",
              "      <td>1</td>\n",
              "      <td>2</td>\n",
              "      <td>0</td>\n",
              "    </tr>\n",
              "    <tr>\n",
              "      <th>3</th>\n",
              "      <td>5001711</td>\n",
              "      <td>-3</td>\n",
              "      <td>1-29 dias</td>\n",
              "      <td>-3</td>\n",
              "      <td>0</td>\n",
              "      <td>3</td>\n",
              "      <td>0</td>\n",
              "      <td>2</td>\n",
              "      <td>0</td>\n",
              "    </tr>\n",
              "    <tr>\n",
              "      <th>4</th>\n",
              "      <td>5001712</td>\n",
              "      <td>0</td>\n",
              "      <td>pagamento realizado</td>\n",
              "      <td>-18</td>\n",
              "      <td>0</td>\n",
              "      <td>18</td>\n",
              "      <td>18</td>\n",
              "      <td>1</td>\n",
              "      <td>0</td>\n",
              "    </tr>\n",
              "  </tbody>\n",
              "</table>\n",
              "</div>"
            ],
            "text/plain": [
              "   ID_Cliente  Mes_referencia         Faixa_atraso  ...  MOB  Ind_Faixa_atraso  Mau\n",
              "0     5001711               0    nenhum empréstimo  ...    3                 0    0\n",
              "1     5001711              -1            1-29 dias  ...    2                 2    0\n",
              "2     5001711              -2            1-29 dias  ...    1                 2    0\n",
              "3     5001711              -3            1-29 dias  ...    0                 2    0\n",
              "4     5001712               0  pagamento realizado  ...   18                 1    0\n",
              "\n",
              "[5 rows x 9 columns]"
            ]
          },
          "metadata": {
            "tags": []
          },
          "execution_count": 49
        }
      ]
    },
    {
      "cell_type": "code",
      "metadata": {
        "id": "RDEPIzUgP178",
        "colab": {
          "base_uri": "https://localhost:8080/",
          "height": 417
        },
        "outputId": "6685d76b-c6e3-41de-f1ef-53f4877710b2"
      },
      "source": [
        "df_registros_creditos_ID = df_clientes_aprovados[['ID_Cliente','Abertura', 'Final', 'Janela']].groupby('ID_Cliente').apply(lambda x: x.iloc[0]).reset_index(drop=True)\n",
        "df_registros_creditos_ID"
      ],
      "execution_count": null,
      "outputs": [
        {
          "output_type": "execute_result",
          "data": {
            "text/html": [
              "<div>\n",
              "<style scoped>\n",
              "    .dataframe tbody tr th:only-of-type {\n",
              "        vertical-align: middle;\n",
              "    }\n",
              "\n",
              "    .dataframe tbody tr th {\n",
              "        vertical-align: top;\n",
              "    }\n",
              "\n",
              "    .dataframe thead th {\n",
              "        text-align: right;\n",
              "    }\n",
              "</style>\n",
              "<table border=\"1\" class=\"dataframe\">\n",
              "  <thead>\n",
              "    <tr style=\"text-align: right;\">\n",
              "      <th></th>\n",
              "      <th>ID_Cliente</th>\n",
              "      <th>Abertura</th>\n",
              "      <th>Final</th>\n",
              "      <th>Janela</th>\n",
              "    </tr>\n",
              "  </thead>\n",
              "  <tbody>\n",
              "    <tr>\n",
              "      <th>0</th>\n",
              "      <td>5001711</td>\n",
              "      <td>-3</td>\n",
              "      <td>0</td>\n",
              "      <td>3</td>\n",
              "    </tr>\n",
              "    <tr>\n",
              "      <th>1</th>\n",
              "      <td>5001712</td>\n",
              "      <td>-18</td>\n",
              "      <td>0</td>\n",
              "      <td>18</td>\n",
              "    </tr>\n",
              "    <tr>\n",
              "      <th>2</th>\n",
              "      <td>5001713</td>\n",
              "      <td>-21</td>\n",
              "      <td>0</td>\n",
              "      <td>21</td>\n",
              "    </tr>\n",
              "    <tr>\n",
              "      <th>3</th>\n",
              "      <td>5001714</td>\n",
              "      <td>-14</td>\n",
              "      <td>0</td>\n",
              "      <td>14</td>\n",
              "    </tr>\n",
              "    <tr>\n",
              "      <th>4</th>\n",
              "      <td>5001715</td>\n",
              "      <td>-59</td>\n",
              "      <td>0</td>\n",
              "      <td>59</td>\n",
              "    </tr>\n",
              "    <tr>\n",
              "      <th>...</th>\n",
              "      <td>...</td>\n",
              "      <td>...</td>\n",
              "      <td>...</td>\n",
              "      <td>...</td>\n",
              "    </tr>\n",
              "    <tr>\n",
              "      <th>45980</th>\n",
              "      <td>5150482</td>\n",
              "      <td>-28</td>\n",
              "      <td>-11</td>\n",
              "      <td>17</td>\n",
              "    </tr>\n",
              "    <tr>\n",
              "      <th>45981</th>\n",
              "      <td>5150483</td>\n",
              "      <td>-17</td>\n",
              "      <td>0</td>\n",
              "      <td>17</td>\n",
              "    </tr>\n",
              "    <tr>\n",
              "      <th>45982</th>\n",
              "      <td>5150484</td>\n",
              "      <td>-12</td>\n",
              "      <td>0</td>\n",
              "      <td>12</td>\n",
              "    </tr>\n",
              "    <tr>\n",
              "      <th>45983</th>\n",
              "      <td>5150485</td>\n",
              "      <td>-1</td>\n",
              "      <td>0</td>\n",
              "      <td>1</td>\n",
              "    </tr>\n",
              "    <tr>\n",
              "      <th>45984</th>\n",
              "      <td>5150487</td>\n",
              "      <td>-29</td>\n",
              "      <td>0</td>\n",
              "      <td>29</td>\n",
              "    </tr>\n",
              "  </tbody>\n",
              "</table>\n",
              "<p>45985 rows × 4 columns</p>\n",
              "</div>"
            ],
            "text/plain": [
              "       ID_Cliente  Abertura  Final  Janela\n",
              "0         5001711        -3      0       3\n",
              "1         5001712       -18      0      18\n",
              "2         5001713       -21      0      21\n",
              "3         5001714       -14      0      14\n",
              "4         5001715       -59      0      59\n",
              "...           ...       ...    ...     ...\n",
              "45980     5150482       -28    -11      17\n",
              "45981     5150483       -17      0      17\n",
              "45982     5150484       -12      0      12\n",
              "45983     5150485        -1      0       1\n",
              "45984     5150487       -29      0      29\n",
              "\n",
              "[45985 rows x 4 columns]"
            ]
          },
          "metadata": {
            "tags": []
          },
          "execution_count": 50
        }
      ]
    },
    {
      "cell_type": "code",
      "metadata": {
        "id": "so5Wo18VQkUz",
        "colab": {
          "base_uri": "https://localhost:8080/",
          "height": 417
        },
        "outputId": "f2c46df7-91ca-48b9-b83b-ca33f7e2fcbb"
      },
      "source": [
        "df_denominador = df_registros_creditos_ID.groupby('Abertura').apply(lambda X: X['ID_Cliente'].count()).reset_index()\n",
        "df_denominador.columns = ['Abertura','Qtd_Clientes']\n",
        "df_denominador"
      ],
      "execution_count": null,
      "outputs": [
        {
          "output_type": "execute_result",
          "data": {
            "text/html": [
              "<div>\n",
              "<style scoped>\n",
              "    .dataframe tbody tr th:only-of-type {\n",
              "        vertical-align: middle;\n",
              "    }\n",
              "\n",
              "    .dataframe tbody tr th {\n",
              "        vertical-align: top;\n",
              "    }\n",
              "\n",
              "    .dataframe thead th {\n",
              "        text-align: right;\n",
              "    }\n",
              "</style>\n",
              "<table border=\"1\" class=\"dataframe\">\n",
              "  <thead>\n",
              "    <tr style=\"text-align: right;\">\n",
              "      <th></th>\n",
              "      <th>Abertura</th>\n",
              "      <th>Qtd_Clientes</th>\n",
              "    </tr>\n",
              "  </thead>\n",
              "  <tbody>\n",
              "    <tr>\n",
              "      <th>0</th>\n",
              "      <td>-60</td>\n",
              "      <td>415</td>\n",
              "    </tr>\n",
              "    <tr>\n",
              "      <th>1</th>\n",
              "      <td>-59</td>\n",
              "      <td>406</td>\n",
              "    </tr>\n",
              "    <tr>\n",
              "      <th>2</th>\n",
              "      <td>-58</td>\n",
              "      <td>440</td>\n",
              "    </tr>\n",
              "    <tr>\n",
              "      <th>3</th>\n",
              "      <td>-57</td>\n",
              "      <td>400</td>\n",
              "    </tr>\n",
              "    <tr>\n",
              "      <th>4</th>\n",
              "      <td>-56</td>\n",
              "      <td>470</td>\n",
              "    </tr>\n",
              "    <tr>\n",
              "      <th>...</th>\n",
              "      <td>...</td>\n",
              "      <td>...</td>\n",
              "    </tr>\n",
              "    <tr>\n",
              "      <th>56</th>\n",
              "      <td>-4</td>\n",
              "      <td>874</td>\n",
              "    </tr>\n",
              "    <tr>\n",
              "      <th>57</th>\n",
              "      <td>-3</td>\n",
              "      <td>919</td>\n",
              "    </tr>\n",
              "    <tr>\n",
              "      <th>58</th>\n",
              "      <td>-2</td>\n",
              "      <td>771</td>\n",
              "    </tr>\n",
              "    <tr>\n",
              "      <th>59</th>\n",
              "      <td>-1</td>\n",
              "      <td>686</td>\n",
              "    </tr>\n",
              "    <tr>\n",
              "      <th>60</th>\n",
              "      <td>0</td>\n",
              "      <td>370</td>\n",
              "    </tr>\n",
              "  </tbody>\n",
              "</table>\n",
              "<p>61 rows × 2 columns</p>\n",
              "</div>"
            ],
            "text/plain": [
              "    Abertura  Qtd_Clientes\n",
              "0        -60           415\n",
              "1        -59           406\n",
              "2        -58           440\n",
              "3        -57           400\n",
              "4        -56           470\n",
              "..       ...           ...\n",
              "56        -4           874\n",
              "57        -3           919\n",
              "58        -2           771\n",
              "59        -1           686\n",
              "60         0           370\n",
              "\n",
              "[61 rows x 2 columns]"
            ]
          },
          "metadata": {
            "tags": []
          },
          "execution_count": 51
        }
      ]
    },
    {
      "cell_type": "code",
      "metadata": {
        "id": "GZsQz7xNRLBx",
        "colab": {
          "base_uri": "https://localhost:8080/",
          "height": 417
        },
        "outputId": "0336ef7a-e1ef-40cc-c368-b7870b8f1643"
      },
      "source": [
        "df_vintage = df_clientes_aprovados.groupby(['Abertura','MOB']).apply(lambda X: X['ID_Cliente'].count()).reset_index()\n",
        "df_vintage.columns = ['Abertura','MOB','Qtd_Clientes']\n",
        "df_vintage"
      ],
      "execution_count": null,
      "outputs": [
        {
          "output_type": "execute_result",
          "data": {
            "text/html": [
              "<div>\n",
              "<style scoped>\n",
              "    .dataframe tbody tr th:only-of-type {\n",
              "        vertical-align: middle;\n",
              "    }\n",
              "\n",
              "    .dataframe tbody tr th {\n",
              "        vertical-align: top;\n",
              "    }\n",
              "\n",
              "    .dataframe thead th {\n",
              "        text-align: right;\n",
              "    }\n",
              "</style>\n",
              "<table border=\"1\" class=\"dataframe\">\n",
              "  <thead>\n",
              "    <tr style=\"text-align: right;\">\n",
              "      <th></th>\n",
              "      <th>Abertura</th>\n",
              "      <th>MOB</th>\n",
              "      <th>Qtd_Clientes</th>\n",
              "    </tr>\n",
              "  </thead>\n",
              "  <tbody>\n",
              "    <tr>\n",
              "      <th>0</th>\n",
              "      <td>-60</td>\n",
              "      <td>0</td>\n",
              "      <td>415</td>\n",
              "    </tr>\n",
              "    <tr>\n",
              "      <th>1</th>\n",
              "      <td>-60</td>\n",
              "      <td>1</td>\n",
              "      <td>414</td>\n",
              "    </tr>\n",
              "    <tr>\n",
              "      <th>2</th>\n",
              "      <td>-60</td>\n",
              "      <td>2</td>\n",
              "      <td>410</td>\n",
              "    </tr>\n",
              "    <tr>\n",
              "      <th>3</th>\n",
              "      <td>-60</td>\n",
              "      <td>3</td>\n",
              "      <td>408</td>\n",
              "    </tr>\n",
              "    <tr>\n",
              "      <th>4</th>\n",
              "      <td>-60</td>\n",
              "      <td>4</td>\n",
              "      <td>403</td>\n",
              "    </tr>\n",
              "    <tr>\n",
              "      <th>...</th>\n",
              "      <td>...</td>\n",
              "      <td>...</td>\n",
              "      <td>...</td>\n",
              "    </tr>\n",
              "    <tr>\n",
              "      <th>1886</th>\n",
              "      <td>-2</td>\n",
              "      <td>1</td>\n",
              "      <td>770</td>\n",
              "    </tr>\n",
              "    <tr>\n",
              "      <th>1887</th>\n",
              "      <td>-2</td>\n",
              "      <td>2</td>\n",
              "      <td>750</td>\n",
              "    </tr>\n",
              "    <tr>\n",
              "      <th>1888</th>\n",
              "      <td>-1</td>\n",
              "      <td>0</td>\n",
              "      <td>686</td>\n",
              "    </tr>\n",
              "    <tr>\n",
              "      <th>1889</th>\n",
              "      <td>-1</td>\n",
              "      <td>1</td>\n",
              "      <td>682</td>\n",
              "    </tr>\n",
              "    <tr>\n",
              "      <th>1890</th>\n",
              "      <td>0</td>\n",
              "      <td>0</td>\n",
              "      <td>370</td>\n",
              "    </tr>\n",
              "  </tbody>\n",
              "</table>\n",
              "<p>1891 rows × 3 columns</p>\n",
              "</div>"
            ],
            "text/plain": [
              "      Abertura  MOB  Qtd_Clientes\n",
              "0          -60    0           415\n",
              "1          -60    1           414\n",
              "2          -60    2           410\n",
              "3          -60    3           408\n",
              "4          -60    4           403\n",
              "...        ...  ...           ...\n",
              "1886        -2    1           770\n",
              "1887        -2    2           750\n",
              "1888        -1    0           686\n",
              "1889        -1    1           682\n",
              "1890         0    0           370\n",
              "\n",
              "[1891 rows x 3 columns]"
            ]
          },
          "metadata": {
            "tags": []
          },
          "execution_count": 52
        }
      ]
    },
    {
      "cell_type": "code",
      "metadata": {
        "id": "29qKKKhNSALm",
        "colab": {
          "base_uri": "https://localhost:8080/",
          "height": 417
        },
        "outputId": "b808b74a-955a-4d2f-afd5-75401e50fc97"
      },
      "source": [
        "df_vintage = pd.merge(df_vintage[['Abertura','MOB']], df_denominador, on = ['Abertura'], how = 'left')\n",
        "df_vintage"
      ],
      "execution_count": null,
      "outputs": [
        {
          "output_type": "execute_result",
          "data": {
            "text/html": [
              "<div>\n",
              "<style scoped>\n",
              "    .dataframe tbody tr th:only-of-type {\n",
              "        vertical-align: middle;\n",
              "    }\n",
              "\n",
              "    .dataframe tbody tr th {\n",
              "        vertical-align: top;\n",
              "    }\n",
              "\n",
              "    .dataframe thead th {\n",
              "        text-align: right;\n",
              "    }\n",
              "</style>\n",
              "<table border=\"1\" class=\"dataframe\">\n",
              "  <thead>\n",
              "    <tr style=\"text-align: right;\">\n",
              "      <th></th>\n",
              "      <th>Abertura</th>\n",
              "      <th>MOB</th>\n",
              "      <th>Qtd_Clientes</th>\n",
              "    </tr>\n",
              "  </thead>\n",
              "  <tbody>\n",
              "    <tr>\n",
              "      <th>0</th>\n",
              "      <td>-60</td>\n",
              "      <td>0</td>\n",
              "      <td>415</td>\n",
              "    </tr>\n",
              "    <tr>\n",
              "      <th>1</th>\n",
              "      <td>-60</td>\n",
              "      <td>1</td>\n",
              "      <td>415</td>\n",
              "    </tr>\n",
              "    <tr>\n",
              "      <th>2</th>\n",
              "      <td>-60</td>\n",
              "      <td>2</td>\n",
              "      <td>415</td>\n",
              "    </tr>\n",
              "    <tr>\n",
              "      <th>3</th>\n",
              "      <td>-60</td>\n",
              "      <td>3</td>\n",
              "      <td>415</td>\n",
              "    </tr>\n",
              "    <tr>\n",
              "      <th>4</th>\n",
              "      <td>-60</td>\n",
              "      <td>4</td>\n",
              "      <td>415</td>\n",
              "    </tr>\n",
              "    <tr>\n",
              "      <th>...</th>\n",
              "      <td>...</td>\n",
              "      <td>...</td>\n",
              "      <td>...</td>\n",
              "    </tr>\n",
              "    <tr>\n",
              "      <th>1886</th>\n",
              "      <td>-2</td>\n",
              "      <td>1</td>\n",
              "      <td>771</td>\n",
              "    </tr>\n",
              "    <tr>\n",
              "      <th>1887</th>\n",
              "      <td>-2</td>\n",
              "      <td>2</td>\n",
              "      <td>771</td>\n",
              "    </tr>\n",
              "    <tr>\n",
              "      <th>1888</th>\n",
              "      <td>-1</td>\n",
              "      <td>0</td>\n",
              "      <td>686</td>\n",
              "    </tr>\n",
              "    <tr>\n",
              "      <th>1889</th>\n",
              "      <td>-1</td>\n",
              "      <td>1</td>\n",
              "      <td>686</td>\n",
              "    </tr>\n",
              "    <tr>\n",
              "      <th>1890</th>\n",
              "      <td>0</td>\n",
              "      <td>0</td>\n",
              "      <td>370</td>\n",
              "    </tr>\n",
              "  </tbody>\n",
              "</table>\n",
              "<p>1891 rows × 3 columns</p>\n",
              "</div>"
            ],
            "text/plain": [
              "      Abertura  MOB  Qtd_Clientes\n",
              "0          -60    0           415\n",
              "1          -60    1           415\n",
              "2          -60    2           415\n",
              "3          -60    3           415\n",
              "4          -60    4           415\n",
              "...        ...  ...           ...\n",
              "1886        -2    1           771\n",
              "1887        -2    2           771\n",
              "1888        -1    0           686\n",
              "1889        -1    1           686\n",
              "1890         0    0           370\n",
              "\n",
              "[1891 rows x 3 columns]"
            ]
          },
          "metadata": {
            "tags": []
          },
          "execution_count": 53
        }
      ]
    },
    {
      "cell_type": "code",
      "metadata": {
        "id": "3xP87KwCSZ4U"
      },
      "source": [
        "import numpy as np"
      ],
      "execution_count": null,
      "outputs": []
    },
    {
      "cell_type": "code",
      "metadata": {
        "id": "x7eztgOZScEU",
        "colab": {
          "base_uri": "https://localhost:8080/",
          "height": 417
        },
        "outputId": "e7d5987d-ab23-4225-ecbb-797a0f885263"
      },
      "source": [
        "df_vintage['Qtd_Mau'] = np.nan\n",
        "\n",
        "for j in range(-60,1):\n",
        "    ls = []\n",
        "    for i in range(0,61):\n",
        "        due = list(df_clientes_aprovados.query('Mau == 1 and MOB == @i and Abertura == @j')['ID_Cliente'])\n",
        "        ls.extend(due)\n",
        "        df_vintage.loc[(df_vintage['MOB'] == i) & (df_vintage['Abertura'] == j), 'Qtd_Mau'] = len(set(ls))\n",
        "        \n",
        "df_vintage['Taxa_de_Mau']  = df_vintage['Qtd_Mau'] / df_vintage['Qtd_Clientes']\n",
        "df_vintage      "
      ],
      "execution_count": null,
      "outputs": [
        {
          "output_type": "execute_result",
          "data": {
            "text/html": [
              "<div>\n",
              "<style scoped>\n",
              "    .dataframe tbody tr th:only-of-type {\n",
              "        vertical-align: middle;\n",
              "    }\n",
              "\n",
              "    .dataframe tbody tr th {\n",
              "        vertical-align: top;\n",
              "    }\n",
              "\n",
              "    .dataframe thead th {\n",
              "        text-align: right;\n",
              "    }\n",
              "</style>\n",
              "<table border=\"1\" class=\"dataframe\">\n",
              "  <thead>\n",
              "    <tr style=\"text-align: right;\">\n",
              "      <th></th>\n",
              "      <th>Abertura</th>\n",
              "      <th>MOB</th>\n",
              "      <th>Qtd_Clientes</th>\n",
              "      <th>Qtd_Mau</th>\n",
              "      <th>Taxa_de_Mau</th>\n",
              "    </tr>\n",
              "  </thead>\n",
              "  <tbody>\n",
              "    <tr>\n",
              "      <th>0</th>\n",
              "      <td>-60</td>\n",
              "      <td>0</td>\n",
              "      <td>415</td>\n",
              "      <td>0.0</td>\n",
              "      <td>0.000000</td>\n",
              "    </tr>\n",
              "    <tr>\n",
              "      <th>1</th>\n",
              "      <td>-60</td>\n",
              "      <td>1</td>\n",
              "      <td>415</td>\n",
              "      <td>0.0</td>\n",
              "      <td>0.000000</td>\n",
              "    </tr>\n",
              "    <tr>\n",
              "      <th>2</th>\n",
              "      <td>-60</td>\n",
              "      <td>2</td>\n",
              "      <td>415</td>\n",
              "      <td>0.0</td>\n",
              "      <td>0.000000</td>\n",
              "    </tr>\n",
              "    <tr>\n",
              "      <th>3</th>\n",
              "      <td>-60</td>\n",
              "      <td>3</td>\n",
              "      <td>415</td>\n",
              "      <td>0.0</td>\n",
              "      <td>0.000000</td>\n",
              "    </tr>\n",
              "    <tr>\n",
              "      <th>4</th>\n",
              "      <td>-60</td>\n",
              "      <td>4</td>\n",
              "      <td>415</td>\n",
              "      <td>0.0</td>\n",
              "      <td>0.000000</td>\n",
              "    </tr>\n",
              "    <tr>\n",
              "      <th>...</th>\n",
              "      <td>...</td>\n",
              "      <td>...</td>\n",
              "      <td>...</td>\n",
              "      <td>...</td>\n",
              "      <td>...</td>\n",
              "    </tr>\n",
              "    <tr>\n",
              "      <th>1886</th>\n",
              "      <td>-2</td>\n",
              "      <td>1</td>\n",
              "      <td>771</td>\n",
              "      <td>0.0</td>\n",
              "      <td>0.000000</td>\n",
              "    </tr>\n",
              "    <tr>\n",
              "      <th>1887</th>\n",
              "      <td>-2</td>\n",
              "      <td>2</td>\n",
              "      <td>771</td>\n",
              "      <td>1.0</td>\n",
              "      <td>0.001297</td>\n",
              "    </tr>\n",
              "    <tr>\n",
              "      <th>1888</th>\n",
              "      <td>-1</td>\n",
              "      <td>0</td>\n",
              "      <td>686</td>\n",
              "      <td>0.0</td>\n",
              "      <td>0.000000</td>\n",
              "    </tr>\n",
              "    <tr>\n",
              "      <th>1889</th>\n",
              "      <td>-1</td>\n",
              "      <td>1</td>\n",
              "      <td>686</td>\n",
              "      <td>0.0</td>\n",
              "      <td>0.000000</td>\n",
              "    </tr>\n",
              "    <tr>\n",
              "      <th>1890</th>\n",
              "      <td>0</td>\n",
              "      <td>0</td>\n",
              "      <td>370</td>\n",
              "      <td>0.0</td>\n",
              "      <td>0.000000</td>\n",
              "    </tr>\n",
              "  </tbody>\n",
              "</table>\n",
              "<p>1891 rows × 5 columns</p>\n",
              "</div>"
            ],
            "text/plain": [
              "      Abertura  MOB  Qtd_Clientes  Qtd_Mau  Taxa_de_Mau\n",
              "0          -60    0           415      0.0     0.000000\n",
              "1          -60    1           415      0.0     0.000000\n",
              "2          -60    2           415      0.0     0.000000\n",
              "3          -60    3           415      0.0     0.000000\n",
              "4          -60    4           415      0.0     0.000000\n",
              "...        ...  ...           ...      ...          ...\n",
              "1886        -2    1           771      0.0     0.000000\n",
              "1887        -2    2           771      1.0     0.001297\n",
              "1888        -1    0           686      0.0     0.000000\n",
              "1889        -1    1           686      0.0     0.000000\n",
              "1890         0    0           370      0.0     0.000000\n",
              "\n",
              "[1891 rows x 5 columns]"
            ]
          },
          "metadata": {
            "tags": []
          },
          "execution_count": 55
        }
      ]
    },
    {
      "cell_type": "code",
      "metadata": {
        "id": "GNhcAM_5TaY4",
        "colab": {
          "base_uri": "https://localhost:8080/",
          "height": 467
        },
        "outputId": "5374c795-27f3-4f56-968b-d9b2b35ca671"
      },
      "source": [
        "df_vintage_pivot = df_vintage.pivot(index = 'Abertura',\n",
        "                             columns = 'MOB',\n",
        "                             values = 'Taxa_de_Mau')\n",
        "\n",
        "df_vintage_pivot"
      ],
      "execution_count": null,
      "outputs": [
        {
          "output_type": "execute_result",
          "data": {
            "text/html": [
              "<div>\n",
              "<style scoped>\n",
              "    .dataframe tbody tr th:only-of-type {\n",
              "        vertical-align: middle;\n",
              "    }\n",
              "\n",
              "    .dataframe tbody tr th {\n",
              "        vertical-align: top;\n",
              "    }\n",
              "\n",
              "    .dataframe thead th {\n",
              "        text-align: right;\n",
              "    }\n",
              "</style>\n",
              "<table border=\"1\" class=\"dataframe\">\n",
              "  <thead>\n",
              "    <tr style=\"text-align: right;\">\n",
              "      <th>MOB</th>\n",
              "      <th>0</th>\n",
              "      <th>1</th>\n",
              "      <th>2</th>\n",
              "      <th>3</th>\n",
              "      <th>4</th>\n",
              "      <th>5</th>\n",
              "      <th>6</th>\n",
              "      <th>7</th>\n",
              "      <th>8</th>\n",
              "      <th>9</th>\n",
              "      <th>10</th>\n",
              "      <th>11</th>\n",
              "      <th>12</th>\n",
              "      <th>13</th>\n",
              "      <th>14</th>\n",
              "      <th>15</th>\n",
              "      <th>16</th>\n",
              "      <th>17</th>\n",
              "      <th>18</th>\n",
              "      <th>19</th>\n",
              "      <th>20</th>\n",
              "      <th>21</th>\n",
              "      <th>22</th>\n",
              "      <th>23</th>\n",
              "      <th>24</th>\n",
              "      <th>25</th>\n",
              "      <th>26</th>\n",
              "      <th>27</th>\n",
              "      <th>28</th>\n",
              "      <th>29</th>\n",
              "      <th>30</th>\n",
              "      <th>31</th>\n",
              "      <th>32</th>\n",
              "      <th>33</th>\n",
              "      <th>34</th>\n",
              "      <th>35</th>\n",
              "      <th>36</th>\n",
              "      <th>37</th>\n",
              "      <th>38</th>\n",
              "      <th>39</th>\n",
              "      <th>40</th>\n",
              "      <th>41</th>\n",
              "      <th>42</th>\n",
              "      <th>43</th>\n",
              "      <th>44</th>\n",
              "      <th>45</th>\n",
              "      <th>46</th>\n",
              "      <th>47</th>\n",
              "      <th>48</th>\n",
              "      <th>49</th>\n",
              "      <th>50</th>\n",
              "      <th>51</th>\n",
              "      <th>52</th>\n",
              "      <th>53</th>\n",
              "      <th>54</th>\n",
              "      <th>55</th>\n",
              "      <th>56</th>\n",
              "      <th>57</th>\n",
              "      <th>58</th>\n",
              "      <th>59</th>\n",
              "      <th>60</th>\n",
              "    </tr>\n",
              "    <tr>\n",
              "      <th>Abertura</th>\n",
              "      <th></th>\n",
              "      <th></th>\n",
              "      <th></th>\n",
              "      <th></th>\n",
              "      <th></th>\n",
              "      <th></th>\n",
              "      <th></th>\n",
              "      <th></th>\n",
              "      <th></th>\n",
              "      <th></th>\n",
              "      <th></th>\n",
              "      <th></th>\n",
              "      <th></th>\n",
              "      <th></th>\n",
              "      <th></th>\n",
              "      <th></th>\n",
              "      <th></th>\n",
              "      <th></th>\n",
              "      <th></th>\n",
              "      <th></th>\n",
              "      <th></th>\n",
              "      <th></th>\n",
              "      <th></th>\n",
              "      <th></th>\n",
              "      <th></th>\n",
              "      <th></th>\n",
              "      <th></th>\n",
              "      <th></th>\n",
              "      <th></th>\n",
              "      <th></th>\n",
              "      <th></th>\n",
              "      <th></th>\n",
              "      <th></th>\n",
              "      <th></th>\n",
              "      <th></th>\n",
              "      <th></th>\n",
              "      <th></th>\n",
              "      <th></th>\n",
              "      <th></th>\n",
              "      <th></th>\n",
              "      <th></th>\n",
              "      <th></th>\n",
              "      <th></th>\n",
              "      <th></th>\n",
              "      <th></th>\n",
              "      <th></th>\n",
              "      <th></th>\n",
              "      <th></th>\n",
              "      <th></th>\n",
              "      <th></th>\n",
              "      <th></th>\n",
              "      <th></th>\n",
              "      <th></th>\n",
              "      <th></th>\n",
              "      <th></th>\n",
              "      <th></th>\n",
              "      <th></th>\n",
              "      <th></th>\n",
              "      <th></th>\n",
              "      <th></th>\n",
              "      <th></th>\n",
              "    </tr>\n",
              "  </thead>\n",
              "  <tbody>\n",
              "    <tr>\n",
              "      <th>-60</th>\n",
              "      <td>0.0</td>\n",
              "      <td>0.0</td>\n",
              "      <td>0.000000</td>\n",
              "      <td>0.000000</td>\n",
              "      <td>0.000000</td>\n",
              "      <td>0.002410</td>\n",
              "      <td>0.002410</td>\n",
              "      <td>0.007229</td>\n",
              "      <td>0.007229</td>\n",
              "      <td>0.009639</td>\n",
              "      <td>0.009639</td>\n",
              "      <td>0.012048</td>\n",
              "      <td>0.014458</td>\n",
              "      <td>0.016867</td>\n",
              "      <td>0.016867</td>\n",
              "      <td>0.016867</td>\n",
              "      <td>0.016867</td>\n",
              "      <td>0.016867</td>\n",
              "      <td>0.016867</td>\n",
              "      <td>0.016867</td>\n",
              "      <td>0.016867</td>\n",
              "      <td>0.019277</td>\n",
              "      <td>0.019277</td>\n",
              "      <td>0.019277</td>\n",
              "      <td>0.019277</td>\n",
              "      <td>0.021687</td>\n",
              "      <td>0.021687</td>\n",
              "      <td>0.021687</td>\n",
              "      <td>0.021687</td>\n",
              "      <td>0.024096</td>\n",
              "      <td>0.026506</td>\n",
              "      <td>0.026506</td>\n",
              "      <td>0.026506</td>\n",
              "      <td>0.026506</td>\n",
              "      <td>0.026506</td>\n",
              "      <td>0.026506</td>\n",
              "      <td>0.026506</td>\n",
              "      <td>0.026506</td>\n",
              "      <td>0.026506</td>\n",
              "      <td>0.026506</td>\n",
              "      <td>0.026506</td>\n",
              "      <td>0.026506</td>\n",
              "      <td>0.026506</td>\n",
              "      <td>0.026506</td>\n",
              "      <td>0.026506</td>\n",
              "      <td>0.026506</td>\n",
              "      <td>0.026506</td>\n",
              "      <td>0.026506</td>\n",
              "      <td>0.026506</td>\n",
              "      <td>0.026506</td>\n",
              "      <td>0.028916</td>\n",
              "      <td>0.028916</td>\n",
              "      <td>0.028916</td>\n",
              "      <td>0.028916</td>\n",
              "      <td>0.028916</td>\n",
              "      <td>0.028916</td>\n",
              "      <td>0.028916</td>\n",
              "      <td>0.028916</td>\n",
              "      <td>0.031325</td>\n",
              "      <td>0.031325</td>\n",
              "      <td>0.031325</td>\n",
              "    </tr>\n",
              "    <tr>\n",
              "      <th>-59</th>\n",
              "      <td>0.0</td>\n",
              "      <td>0.0</td>\n",
              "      <td>0.000000</td>\n",
              "      <td>0.004926</td>\n",
              "      <td>0.004926</td>\n",
              "      <td>0.004926</td>\n",
              "      <td>0.007389</td>\n",
              "      <td>0.007389</td>\n",
              "      <td>0.007389</td>\n",
              "      <td>0.012315</td>\n",
              "      <td>0.012315</td>\n",
              "      <td>0.019704</td>\n",
              "      <td>0.019704</td>\n",
              "      <td>0.019704</td>\n",
              "      <td>0.019704</td>\n",
              "      <td>0.019704</td>\n",
              "      <td>0.019704</td>\n",
              "      <td>0.019704</td>\n",
              "      <td>0.022167</td>\n",
              "      <td>0.024631</td>\n",
              "      <td>0.024631</td>\n",
              "      <td>0.027094</td>\n",
              "      <td>0.027094</td>\n",
              "      <td>0.027094</td>\n",
              "      <td>0.027094</td>\n",
              "      <td>0.029557</td>\n",
              "      <td>0.029557</td>\n",
              "      <td>0.029557</td>\n",
              "      <td>0.029557</td>\n",
              "      <td>0.029557</td>\n",
              "      <td>0.029557</td>\n",
              "      <td>0.029557</td>\n",
              "      <td>0.029557</td>\n",
              "      <td>0.029557</td>\n",
              "      <td>0.029557</td>\n",
              "      <td>0.029557</td>\n",
              "      <td>0.029557</td>\n",
              "      <td>0.029557</td>\n",
              "      <td>0.029557</td>\n",
              "      <td>0.029557</td>\n",
              "      <td>0.029557</td>\n",
              "      <td>0.029557</td>\n",
              "      <td>0.029557</td>\n",
              "      <td>0.029557</td>\n",
              "      <td>0.029557</td>\n",
              "      <td>0.029557</td>\n",
              "      <td>0.029557</td>\n",
              "      <td>0.029557</td>\n",
              "      <td>0.029557</td>\n",
              "      <td>0.029557</td>\n",
              "      <td>0.029557</td>\n",
              "      <td>0.029557</td>\n",
              "      <td>0.029557</td>\n",
              "      <td>0.029557</td>\n",
              "      <td>0.032020</td>\n",
              "      <td>0.032020</td>\n",
              "      <td>0.032020</td>\n",
              "      <td>0.032020</td>\n",
              "      <td>0.032020</td>\n",
              "      <td>0.032020</td>\n",
              "      <td>NaN</td>\n",
              "    </tr>\n",
              "    <tr>\n",
              "      <th>-58</th>\n",
              "      <td>0.0</td>\n",
              "      <td>0.0</td>\n",
              "      <td>0.000000</td>\n",
              "      <td>0.000000</td>\n",
              "      <td>0.000000</td>\n",
              "      <td>0.000000</td>\n",
              "      <td>0.000000</td>\n",
              "      <td>0.004545</td>\n",
              "      <td>0.006818</td>\n",
              "      <td>0.006818</td>\n",
              "      <td>0.011364</td>\n",
              "      <td>0.013636</td>\n",
              "      <td>0.013636</td>\n",
              "      <td>0.013636</td>\n",
              "      <td>0.013636</td>\n",
              "      <td>0.013636</td>\n",
              "      <td>0.013636</td>\n",
              "      <td>0.015909</td>\n",
              "      <td>0.018182</td>\n",
              "      <td>0.018182</td>\n",
              "      <td>0.018182</td>\n",
              "      <td>0.022727</td>\n",
              "      <td>0.022727</td>\n",
              "      <td>0.022727</td>\n",
              "      <td>0.022727</td>\n",
              "      <td>0.022727</td>\n",
              "      <td>0.022727</td>\n",
              "      <td>0.022727</td>\n",
              "      <td>0.022727</td>\n",
              "      <td>0.022727</td>\n",
              "      <td>0.022727</td>\n",
              "      <td>0.022727</td>\n",
              "      <td>0.022727</td>\n",
              "      <td>0.022727</td>\n",
              "      <td>0.025000</td>\n",
              "      <td>0.025000</td>\n",
              "      <td>0.025000</td>\n",
              "      <td>0.025000</td>\n",
              "      <td>0.025000</td>\n",
              "      <td>0.025000</td>\n",
              "      <td>0.025000</td>\n",
              "      <td>0.025000</td>\n",
              "      <td>0.025000</td>\n",
              "      <td>0.025000</td>\n",
              "      <td>0.025000</td>\n",
              "      <td>0.025000</td>\n",
              "      <td>0.025000</td>\n",
              "      <td>0.025000</td>\n",
              "      <td>0.025000</td>\n",
              "      <td>0.025000</td>\n",
              "      <td>0.025000</td>\n",
              "      <td>0.025000</td>\n",
              "      <td>0.025000</td>\n",
              "      <td>0.025000</td>\n",
              "      <td>0.025000</td>\n",
              "      <td>0.025000</td>\n",
              "      <td>0.025000</td>\n",
              "      <td>0.025000</td>\n",
              "      <td>0.025000</td>\n",
              "      <td>NaN</td>\n",
              "      <td>NaN</td>\n",
              "    </tr>\n",
              "    <tr>\n",
              "      <th>-57</th>\n",
              "      <td>0.0</td>\n",
              "      <td>0.0</td>\n",
              "      <td>0.000000</td>\n",
              "      <td>0.000000</td>\n",
              "      <td>0.002500</td>\n",
              "      <td>0.002500</td>\n",
              "      <td>0.002500</td>\n",
              "      <td>0.007500</td>\n",
              "      <td>0.007500</td>\n",
              "      <td>0.007500</td>\n",
              "      <td>0.007500</td>\n",
              "      <td>0.007500</td>\n",
              "      <td>0.010000</td>\n",
              "      <td>0.017500</td>\n",
              "      <td>0.017500</td>\n",
              "      <td>0.017500</td>\n",
              "      <td>0.017500</td>\n",
              "      <td>0.017500</td>\n",
              "      <td>0.017500</td>\n",
              "      <td>0.017500</td>\n",
              "      <td>0.017500</td>\n",
              "      <td>0.017500</td>\n",
              "      <td>0.017500</td>\n",
              "      <td>0.017500</td>\n",
              "      <td>0.020000</td>\n",
              "      <td>0.020000</td>\n",
              "      <td>0.020000</td>\n",
              "      <td>0.020000</td>\n",
              "      <td>0.020000</td>\n",
              "      <td>0.020000</td>\n",
              "      <td>0.020000</td>\n",
              "      <td>0.020000</td>\n",
              "      <td>0.020000</td>\n",
              "      <td>0.020000</td>\n",
              "      <td>0.020000</td>\n",
              "      <td>0.022500</td>\n",
              "      <td>0.022500</td>\n",
              "      <td>0.022500</td>\n",
              "      <td>0.022500</td>\n",
              "      <td>0.022500</td>\n",
              "      <td>0.022500</td>\n",
              "      <td>0.025000</td>\n",
              "      <td>0.025000</td>\n",
              "      <td>0.025000</td>\n",
              "      <td>0.025000</td>\n",
              "      <td>0.025000</td>\n",
              "      <td>0.025000</td>\n",
              "      <td>0.025000</td>\n",
              "      <td>0.025000</td>\n",
              "      <td>0.025000</td>\n",
              "      <td>0.025000</td>\n",
              "      <td>0.025000</td>\n",
              "      <td>0.025000</td>\n",
              "      <td>0.025000</td>\n",
              "      <td>0.025000</td>\n",
              "      <td>0.025000</td>\n",
              "      <td>0.025000</td>\n",
              "      <td>0.025000</td>\n",
              "      <td>NaN</td>\n",
              "      <td>NaN</td>\n",
              "      <td>NaN</td>\n",
              "    </tr>\n",
              "    <tr>\n",
              "      <th>-56</th>\n",
              "      <td>0.0</td>\n",
              "      <td>0.0</td>\n",
              "      <td>0.004255</td>\n",
              "      <td>0.004255</td>\n",
              "      <td>0.008511</td>\n",
              "      <td>0.010638</td>\n",
              "      <td>0.010638</td>\n",
              "      <td>0.017021</td>\n",
              "      <td>0.017021</td>\n",
              "      <td>0.021277</td>\n",
              "      <td>0.021277</td>\n",
              "      <td>0.025532</td>\n",
              "      <td>0.029787</td>\n",
              "      <td>0.034043</td>\n",
              "      <td>0.034043</td>\n",
              "      <td>0.034043</td>\n",
              "      <td>0.034043</td>\n",
              "      <td>0.034043</td>\n",
              "      <td>0.034043</td>\n",
              "      <td>0.034043</td>\n",
              "      <td>0.034043</td>\n",
              "      <td>0.034043</td>\n",
              "      <td>0.034043</td>\n",
              "      <td>0.034043</td>\n",
              "      <td>0.034043</td>\n",
              "      <td>0.034043</td>\n",
              "      <td>0.034043</td>\n",
              "      <td>0.034043</td>\n",
              "      <td>0.034043</td>\n",
              "      <td>0.034043</td>\n",
              "      <td>0.034043</td>\n",
              "      <td>0.034043</td>\n",
              "      <td>0.034043</td>\n",
              "      <td>0.034043</td>\n",
              "      <td>0.034043</td>\n",
              "      <td>0.034043</td>\n",
              "      <td>0.034043</td>\n",
              "      <td>0.034043</td>\n",
              "      <td>0.034043</td>\n",
              "      <td>0.034043</td>\n",
              "      <td>0.034043</td>\n",
              "      <td>0.034043</td>\n",
              "      <td>0.034043</td>\n",
              "      <td>0.034043</td>\n",
              "      <td>0.034043</td>\n",
              "      <td>0.034043</td>\n",
              "      <td>0.034043</td>\n",
              "      <td>0.034043</td>\n",
              "      <td>0.034043</td>\n",
              "      <td>0.034043</td>\n",
              "      <td>0.034043</td>\n",
              "      <td>0.036170</td>\n",
              "      <td>0.036170</td>\n",
              "      <td>0.036170</td>\n",
              "      <td>0.036170</td>\n",
              "      <td>0.038298</td>\n",
              "      <td>0.038298</td>\n",
              "      <td>NaN</td>\n",
              "      <td>NaN</td>\n",
              "      <td>NaN</td>\n",
              "      <td>NaN</td>\n",
              "    </tr>\n",
              "    <tr>\n",
              "      <th>...</th>\n",
              "      <td>...</td>\n",
              "      <td>...</td>\n",
              "      <td>...</td>\n",
              "      <td>...</td>\n",
              "      <td>...</td>\n",
              "      <td>...</td>\n",
              "      <td>...</td>\n",
              "      <td>...</td>\n",
              "      <td>...</td>\n",
              "      <td>...</td>\n",
              "      <td>...</td>\n",
              "      <td>...</td>\n",
              "      <td>...</td>\n",
              "      <td>...</td>\n",
              "      <td>...</td>\n",
              "      <td>...</td>\n",
              "      <td>...</td>\n",
              "      <td>...</td>\n",
              "      <td>...</td>\n",
              "      <td>...</td>\n",
              "      <td>...</td>\n",
              "      <td>...</td>\n",
              "      <td>...</td>\n",
              "      <td>...</td>\n",
              "      <td>...</td>\n",
              "      <td>...</td>\n",
              "      <td>...</td>\n",
              "      <td>...</td>\n",
              "      <td>...</td>\n",
              "      <td>...</td>\n",
              "      <td>...</td>\n",
              "      <td>...</td>\n",
              "      <td>...</td>\n",
              "      <td>...</td>\n",
              "      <td>...</td>\n",
              "      <td>...</td>\n",
              "      <td>...</td>\n",
              "      <td>...</td>\n",
              "      <td>...</td>\n",
              "      <td>...</td>\n",
              "      <td>...</td>\n",
              "      <td>...</td>\n",
              "      <td>...</td>\n",
              "      <td>...</td>\n",
              "      <td>...</td>\n",
              "      <td>...</td>\n",
              "      <td>...</td>\n",
              "      <td>...</td>\n",
              "      <td>...</td>\n",
              "      <td>...</td>\n",
              "      <td>...</td>\n",
              "      <td>...</td>\n",
              "      <td>...</td>\n",
              "      <td>...</td>\n",
              "      <td>...</td>\n",
              "      <td>...</td>\n",
              "      <td>...</td>\n",
              "      <td>...</td>\n",
              "      <td>...</td>\n",
              "      <td>...</td>\n",
              "      <td>...</td>\n",
              "    </tr>\n",
              "    <tr>\n",
              "      <th>-4</th>\n",
              "      <td>0.0</td>\n",
              "      <td>0.0</td>\n",
              "      <td>0.000000</td>\n",
              "      <td>0.003432</td>\n",
              "      <td>0.003432</td>\n",
              "      <td>NaN</td>\n",
              "      <td>NaN</td>\n",
              "      <td>NaN</td>\n",
              "      <td>NaN</td>\n",
              "      <td>NaN</td>\n",
              "      <td>NaN</td>\n",
              "      <td>NaN</td>\n",
              "      <td>NaN</td>\n",
              "      <td>NaN</td>\n",
              "      <td>NaN</td>\n",
              "      <td>NaN</td>\n",
              "      <td>NaN</td>\n",
              "      <td>NaN</td>\n",
              "      <td>NaN</td>\n",
              "      <td>NaN</td>\n",
              "      <td>NaN</td>\n",
              "      <td>NaN</td>\n",
              "      <td>NaN</td>\n",
              "      <td>NaN</td>\n",
              "      <td>NaN</td>\n",
              "      <td>NaN</td>\n",
              "      <td>NaN</td>\n",
              "      <td>NaN</td>\n",
              "      <td>NaN</td>\n",
              "      <td>NaN</td>\n",
              "      <td>NaN</td>\n",
              "      <td>NaN</td>\n",
              "      <td>NaN</td>\n",
              "      <td>NaN</td>\n",
              "      <td>NaN</td>\n",
              "      <td>NaN</td>\n",
              "      <td>NaN</td>\n",
              "      <td>NaN</td>\n",
              "      <td>NaN</td>\n",
              "      <td>NaN</td>\n",
              "      <td>NaN</td>\n",
              "      <td>NaN</td>\n",
              "      <td>NaN</td>\n",
              "      <td>NaN</td>\n",
              "      <td>NaN</td>\n",
              "      <td>NaN</td>\n",
              "      <td>NaN</td>\n",
              "      <td>NaN</td>\n",
              "      <td>NaN</td>\n",
              "      <td>NaN</td>\n",
              "      <td>NaN</td>\n",
              "      <td>NaN</td>\n",
              "      <td>NaN</td>\n",
              "      <td>NaN</td>\n",
              "      <td>NaN</td>\n",
              "      <td>NaN</td>\n",
              "      <td>NaN</td>\n",
              "      <td>NaN</td>\n",
              "      <td>NaN</td>\n",
              "      <td>NaN</td>\n",
              "      <td>NaN</td>\n",
              "    </tr>\n",
              "    <tr>\n",
              "      <th>-3</th>\n",
              "      <td>0.0</td>\n",
              "      <td>0.0</td>\n",
              "      <td>0.001088</td>\n",
              "      <td>0.001088</td>\n",
              "      <td>NaN</td>\n",
              "      <td>NaN</td>\n",
              "      <td>NaN</td>\n",
              "      <td>NaN</td>\n",
              "      <td>NaN</td>\n",
              "      <td>NaN</td>\n",
              "      <td>NaN</td>\n",
              "      <td>NaN</td>\n",
              "      <td>NaN</td>\n",
              "      <td>NaN</td>\n",
              "      <td>NaN</td>\n",
              "      <td>NaN</td>\n",
              "      <td>NaN</td>\n",
              "      <td>NaN</td>\n",
              "      <td>NaN</td>\n",
              "      <td>NaN</td>\n",
              "      <td>NaN</td>\n",
              "      <td>NaN</td>\n",
              "      <td>NaN</td>\n",
              "      <td>NaN</td>\n",
              "      <td>NaN</td>\n",
              "      <td>NaN</td>\n",
              "      <td>NaN</td>\n",
              "      <td>NaN</td>\n",
              "      <td>NaN</td>\n",
              "      <td>NaN</td>\n",
              "      <td>NaN</td>\n",
              "      <td>NaN</td>\n",
              "      <td>NaN</td>\n",
              "      <td>NaN</td>\n",
              "      <td>NaN</td>\n",
              "      <td>NaN</td>\n",
              "      <td>NaN</td>\n",
              "      <td>NaN</td>\n",
              "      <td>NaN</td>\n",
              "      <td>NaN</td>\n",
              "      <td>NaN</td>\n",
              "      <td>NaN</td>\n",
              "      <td>NaN</td>\n",
              "      <td>NaN</td>\n",
              "      <td>NaN</td>\n",
              "      <td>NaN</td>\n",
              "      <td>NaN</td>\n",
              "      <td>NaN</td>\n",
              "      <td>NaN</td>\n",
              "      <td>NaN</td>\n",
              "      <td>NaN</td>\n",
              "      <td>NaN</td>\n",
              "      <td>NaN</td>\n",
              "      <td>NaN</td>\n",
              "      <td>NaN</td>\n",
              "      <td>NaN</td>\n",
              "      <td>NaN</td>\n",
              "      <td>NaN</td>\n",
              "      <td>NaN</td>\n",
              "      <td>NaN</td>\n",
              "      <td>NaN</td>\n",
              "    </tr>\n",
              "    <tr>\n",
              "      <th>-2</th>\n",
              "      <td>0.0</td>\n",
              "      <td>0.0</td>\n",
              "      <td>0.001297</td>\n",
              "      <td>NaN</td>\n",
              "      <td>NaN</td>\n",
              "      <td>NaN</td>\n",
              "      <td>NaN</td>\n",
              "      <td>NaN</td>\n",
              "      <td>NaN</td>\n",
              "      <td>NaN</td>\n",
              "      <td>NaN</td>\n",
              "      <td>NaN</td>\n",
              "      <td>NaN</td>\n",
              "      <td>NaN</td>\n",
              "      <td>NaN</td>\n",
              "      <td>NaN</td>\n",
              "      <td>NaN</td>\n",
              "      <td>NaN</td>\n",
              "      <td>NaN</td>\n",
              "      <td>NaN</td>\n",
              "      <td>NaN</td>\n",
              "      <td>NaN</td>\n",
              "      <td>NaN</td>\n",
              "      <td>NaN</td>\n",
              "      <td>NaN</td>\n",
              "      <td>NaN</td>\n",
              "      <td>NaN</td>\n",
              "      <td>NaN</td>\n",
              "      <td>NaN</td>\n",
              "      <td>NaN</td>\n",
              "      <td>NaN</td>\n",
              "      <td>NaN</td>\n",
              "      <td>NaN</td>\n",
              "      <td>NaN</td>\n",
              "      <td>NaN</td>\n",
              "      <td>NaN</td>\n",
              "      <td>NaN</td>\n",
              "      <td>NaN</td>\n",
              "      <td>NaN</td>\n",
              "      <td>NaN</td>\n",
              "      <td>NaN</td>\n",
              "      <td>NaN</td>\n",
              "      <td>NaN</td>\n",
              "      <td>NaN</td>\n",
              "      <td>NaN</td>\n",
              "      <td>NaN</td>\n",
              "      <td>NaN</td>\n",
              "      <td>NaN</td>\n",
              "      <td>NaN</td>\n",
              "      <td>NaN</td>\n",
              "      <td>NaN</td>\n",
              "      <td>NaN</td>\n",
              "      <td>NaN</td>\n",
              "      <td>NaN</td>\n",
              "      <td>NaN</td>\n",
              "      <td>NaN</td>\n",
              "      <td>NaN</td>\n",
              "      <td>NaN</td>\n",
              "      <td>NaN</td>\n",
              "      <td>NaN</td>\n",
              "      <td>NaN</td>\n",
              "    </tr>\n",
              "    <tr>\n",
              "      <th>-1</th>\n",
              "      <td>0.0</td>\n",
              "      <td>0.0</td>\n",
              "      <td>NaN</td>\n",
              "      <td>NaN</td>\n",
              "      <td>NaN</td>\n",
              "      <td>NaN</td>\n",
              "      <td>NaN</td>\n",
              "      <td>NaN</td>\n",
              "      <td>NaN</td>\n",
              "      <td>NaN</td>\n",
              "      <td>NaN</td>\n",
              "      <td>NaN</td>\n",
              "      <td>NaN</td>\n",
              "      <td>NaN</td>\n",
              "      <td>NaN</td>\n",
              "      <td>NaN</td>\n",
              "      <td>NaN</td>\n",
              "      <td>NaN</td>\n",
              "      <td>NaN</td>\n",
              "      <td>NaN</td>\n",
              "      <td>NaN</td>\n",
              "      <td>NaN</td>\n",
              "      <td>NaN</td>\n",
              "      <td>NaN</td>\n",
              "      <td>NaN</td>\n",
              "      <td>NaN</td>\n",
              "      <td>NaN</td>\n",
              "      <td>NaN</td>\n",
              "      <td>NaN</td>\n",
              "      <td>NaN</td>\n",
              "      <td>NaN</td>\n",
              "      <td>NaN</td>\n",
              "      <td>NaN</td>\n",
              "      <td>NaN</td>\n",
              "      <td>NaN</td>\n",
              "      <td>NaN</td>\n",
              "      <td>NaN</td>\n",
              "      <td>NaN</td>\n",
              "      <td>NaN</td>\n",
              "      <td>NaN</td>\n",
              "      <td>NaN</td>\n",
              "      <td>NaN</td>\n",
              "      <td>NaN</td>\n",
              "      <td>NaN</td>\n",
              "      <td>NaN</td>\n",
              "      <td>NaN</td>\n",
              "      <td>NaN</td>\n",
              "      <td>NaN</td>\n",
              "      <td>NaN</td>\n",
              "      <td>NaN</td>\n",
              "      <td>NaN</td>\n",
              "      <td>NaN</td>\n",
              "      <td>NaN</td>\n",
              "      <td>NaN</td>\n",
              "      <td>NaN</td>\n",
              "      <td>NaN</td>\n",
              "      <td>NaN</td>\n",
              "      <td>NaN</td>\n",
              "      <td>NaN</td>\n",
              "      <td>NaN</td>\n",
              "      <td>NaN</td>\n",
              "    </tr>\n",
              "    <tr>\n",
              "      <th>0</th>\n",
              "      <td>0.0</td>\n",
              "      <td>NaN</td>\n",
              "      <td>NaN</td>\n",
              "      <td>NaN</td>\n",
              "      <td>NaN</td>\n",
              "      <td>NaN</td>\n",
              "      <td>NaN</td>\n",
              "      <td>NaN</td>\n",
              "      <td>NaN</td>\n",
              "      <td>NaN</td>\n",
              "      <td>NaN</td>\n",
              "      <td>NaN</td>\n",
              "      <td>NaN</td>\n",
              "      <td>NaN</td>\n",
              "      <td>NaN</td>\n",
              "      <td>NaN</td>\n",
              "      <td>NaN</td>\n",
              "      <td>NaN</td>\n",
              "      <td>NaN</td>\n",
              "      <td>NaN</td>\n",
              "      <td>NaN</td>\n",
              "      <td>NaN</td>\n",
              "      <td>NaN</td>\n",
              "      <td>NaN</td>\n",
              "      <td>NaN</td>\n",
              "      <td>NaN</td>\n",
              "      <td>NaN</td>\n",
              "      <td>NaN</td>\n",
              "      <td>NaN</td>\n",
              "      <td>NaN</td>\n",
              "      <td>NaN</td>\n",
              "      <td>NaN</td>\n",
              "      <td>NaN</td>\n",
              "      <td>NaN</td>\n",
              "      <td>NaN</td>\n",
              "      <td>NaN</td>\n",
              "      <td>NaN</td>\n",
              "      <td>NaN</td>\n",
              "      <td>NaN</td>\n",
              "      <td>NaN</td>\n",
              "      <td>NaN</td>\n",
              "      <td>NaN</td>\n",
              "      <td>NaN</td>\n",
              "      <td>NaN</td>\n",
              "      <td>NaN</td>\n",
              "      <td>NaN</td>\n",
              "      <td>NaN</td>\n",
              "      <td>NaN</td>\n",
              "      <td>NaN</td>\n",
              "      <td>NaN</td>\n",
              "      <td>NaN</td>\n",
              "      <td>NaN</td>\n",
              "      <td>NaN</td>\n",
              "      <td>NaN</td>\n",
              "      <td>NaN</td>\n",
              "      <td>NaN</td>\n",
              "      <td>NaN</td>\n",
              "      <td>NaN</td>\n",
              "      <td>NaN</td>\n",
              "      <td>NaN</td>\n",
              "      <td>NaN</td>\n",
              "    </tr>\n",
              "  </tbody>\n",
              "</table>\n",
              "<p>61 rows × 61 columns</p>\n",
              "</div>"
            ],
            "text/plain": [
              "MOB        0    1         2         3   ...        57        58        59        60\n",
              "Abertura                                ...                                        \n",
              "-60       0.0  0.0  0.000000  0.000000  ...  0.028916  0.031325  0.031325  0.031325\n",
              "-59       0.0  0.0  0.000000  0.004926  ...  0.032020  0.032020  0.032020       NaN\n",
              "-58       0.0  0.0  0.000000  0.000000  ...  0.025000  0.025000       NaN       NaN\n",
              "-57       0.0  0.0  0.000000  0.000000  ...  0.025000       NaN       NaN       NaN\n",
              "-56       0.0  0.0  0.004255  0.004255  ...       NaN       NaN       NaN       NaN\n",
              "...       ...  ...       ...       ...  ...       ...       ...       ...       ...\n",
              "-4        0.0  0.0  0.000000  0.003432  ...       NaN       NaN       NaN       NaN\n",
              "-3        0.0  0.0  0.001088  0.001088  ...       NaN       NaN       NaN       NaN\n",
              "-2        0.0  0.0  0.001297       NaN  ...       NaN       NaN       NaN       NaN\n",
              "-1        0.0  0.0       NaN       NaN  ...       NaN       NaN       NaN       NaN\n",
              " 0        0.0  NaN       NaN       NaN  ...       NaN       NaN       NaN       NaN\n",
              "\n",
              "[61 rows x 61 columns]"
            ]
          },
          "metadata": {
            "tags": []
          },
          "execution_count": 56
        }
      ]
    },
    {
      "cell_type": "code",
      "metadata": {
        "id": "k0xcGO0OTzmY",
        "colab": {
          "base_uri": "https://localhost:8080/",
          "height": 301
        },
        "outputId": "6c3979e4-ed57-4cfa-9774-39adebec7640"
      },
      "source": [
        "lst = [i for i in range(0,61)]\n",
        "df_vintage_pivot[lst].T.iloc[:,:10].plot(legend = True, grid = True, title = '% acumulado de maus clientes (Atraso > que 60 dias)')\n",
        "\n",
        "plt.xlabel('MOB')\n",
        "plt.ylabel('% acumulado de maus')\n",
        "plt.legend(bbox_to_anchor=(1.2, 1), title='Abertura')\n",
        "plt.show()"
      ],
      "execution_count": null,
      "outputs": [
        {
          "output_type": "display_data",
          "data": {
            "image/png": "[encoded data removed]",
            "text/plain": [
              "<Figure size 432x288 with 1 Axes>"
            ]
          },
          "metadata": {
            "tags": []
          }
        }
      ]
    },
    {
      "cell_type": "code",
      "metadata": {
        "id": "F40C71msVAMB",
        "colab": {
          "base_uri": "https://localhost:8080/",
          "height": 301
        },
        "outputId": "1b426357-89ae-46db-caa9-d713053c4a39"
      },
      "source": [
        "sns.histplot(data=df_registros_creditos_ID, x='Janela', cumulative=True, stat='density', kde=True)\n",
        "plt.title('Distribuição de clientes por janela')\n",
        "plt.xlabel('Janela')\n",
        "plt.ylabel('Percentual de clientes')\n",
        "plt.show()"
      ],
      "execution_count": null,
      "outputs": [
        {
          "output_type": "display_data",
          "data": {
            "image/png": "[encoded data removed]",
            "text/plain": [
              "<Figure size 432x288 with 1 Axes>"
            ]
          },
          "metadata": {
            "tags": []
          }
        }
      ]
    },
    {
      "cell_type": "code",
      "metadata": {
        "id": "OTfOFNBIWHKb"
      },
      "source": [
        "dict_intervalo_atraso = {'maior_30_dias': 3, 'maior_60_dias': 4, 'maior_90_dias': 5,\n",
        "                        'maior_120_dias': 6, 'maior_150_dias': 7}"
      ],
      "execution_count": null,
      "outputs": []
    },
    {
      "cell_type": "code",
      "metadata": {
        "id": "ru9t-FPjWRki",
        "colab": {
          "base_uri": "https://localhost:8080/",
          "height": 257
        },
        "outputId": "c1974863-0b8e-4a28-b5ce-8651986e1d86"
      },
      "source": [
        "for chave, valor in dict_intervalo_atraso.items():\n",
        "  df_clientes_aprovados[f'Mau_{chave}'] = df_clientes_aprovados.apply(lambda x: 1 if x['Ind_Faixa_atraso'] >= valor else 0, axis=1) # mais de 60\n",
        "df_clientes_aprovados.head()"
      ],
      "execution_count": null,
      "outputs": [
        {
          "output_type": "execute_result",
          "data": {
            "text/html": [
              "<div>\n",
              "<style scoped>\n",
              "    .dataframe tbody tr th:only-of-type {\n",
              "        vertical-align: middle;\n",
              "    }\n",
              "\n",
              "    .dataframe tbody tr th {\n",
              "        vertical-align: top;\n",
              "    }\n",
              "\n",
              "    .dataframe thead th {\n",
              "        text-align: right;\n",
              "    }\n",
              "</style>\n",
              "<table border=\"1\" class=\"dataframe\">\n",
              "  <thead>\n",
              "    <tr style=\"text-align: right;\">\n",
              "      <th></th>\n",
              "      <th>ID_Cliente</th>\n",
              "      <th>Mes_referencia</th>\n",
              "      <th>Faixa_atraso</th>\n",
              "      <th>Abertura</th>\n",
              "      <th>Final</th>\n",
              "      <th>Janela</th>\n",
              "      <th>MOB</th>\n",
              "      <th>Ind_Faixa_atraso</th>\n",
              "      <th>Mau</th>\n",
              "      <th>Mau_maior_30_dias</th>\n",
              "      <th>Mau_maior_60_dias</th>\n",
              "      <th>Mau_maior_90_dias</th>\n",
              "      <th>Mau_maior_120_dias</th>\n",
              "      <th>Mau_maior_150_dias</th>\n",
              "    </tr>\n",
              "  </thead>\n",
              "  <tbody>\n",
              "    <tr>\n",
              "      <th>0</th>\n",
              "      <td>5001711</td>\n",
              "      <td>0</td>\n",
              "      <td>nenhum empréstimo</td>\n",
              "      <td>-3</td>\n",
              "      <td>0</td>\n",
              "      <td>3</td>\n",
              "      <td>3</td>\n",
              "      <td>0</td>\n",
              "      <td>0</td>\n",
              "      <td>0</td>\n",
              "      <td>0</td>\n",
              "      <td>0</td>\n",
              "      <td>0</td>\n",
              "      <td>0</td>\n",
              "    </tr>\n",
              "    <tr>\n",
              "      <th>1</th>\n",
              "      <td>5001711</td>\n",
              "      <td>-1</td>\n",
              "      <td>1-29 dias</td>\n",
              "      <td>-3</td>\n",
              "      <td>0</td>\n",
              "      <td>3</td>\n",
              "      <td>2</td>\n",
              "      <td>2</td>\n",
              "      <td>0</td>\n",
              "      <td>0</td>\n",
              "      <td>0</td>\n",
              "      <td>0</td>\n",
              "      <td>0</td>\n",
              "      <td>0</td>\n",
              "    </tr>\n",
              "    <tr>\n",
              "      <th>2</th>\n",
              "      <td>5001711</td>\n",
              "      <td>-2</td>\n",
              "      <td>1-29 dias</td>\n",
              "      <td>-3</td>\n",
              "      <td>0</td>\n",
              "      <td>3</td>\n",
              "      <td>1</td>\n",
              "      <td>2</td>\n",
              "      <td>0</td>\n",
              "      <td>0</td>\n",
              "      <td>0</td>\n",
              "      <td>0</td>\n",
              "      <td>0</td>\n",
              "      <td>0</td>\n",
              "    </tr>\n",
              "    <tr>\n",
              "      <th>3</th>\n",
              "      <td>5001711</td>\n",
              "      <td>-3</td>\n",
              "      <td>1-29 dias</td>\n",
              "      <td>-3</td>\n",
              "      <td>0</td>\n",
              "      <td>3</td>\n",
              "      <td>0</td>\n",
              "      <td>2</td>\n",
              "      <td>0</td>\n",
              "      <td>0</td>\n",
              "      <td>0</td>\n",
              "      <td>0</td>\n",
              "      <td>0</td>\n",
              "      <td>0</td>\n",
              "    </tr>\n",
              "    <tr>\n",
              "      <th>4</th>\n",
              "      <td>5001712</td>\n",
              "      <td>0</td>\n",
              "      <td>pagamento realizado</td>\n",
              "      <td>-18</td>\n",
              "      <td>0</td>\n",
              "      <td>18</td>\n",
              "      <td>18</td>\n",
              "      <td>1</td>\n",
              "      <td>0</td>\n",
              "      <td>0</td>\n",
              "      <td>0</td>\n",
              "      <td>0</td>\n",
              "      <td>0</td>\n",
              "      <td>0</td>\n",
              "    </tr>\n",
              "  </tbody>\n",
              "</table>\n",
              "</div>"
            ],
            "text/plain": [
              "   ID_Cliente  Mes_referencia  ... Mau_maior_120_dias  Mau_maior_150_dias\n",
              "0     5001711               0  ...                  0                   0\n",
              "1     5001711              -1  ...                  0                   0\n",
              "2     5001711              -2  ...                  0                   0\n",
              "3     5001711              -3  ...                  0                   0\n",
              "4     5001712               0  ...                  0                   0\n",
              "\n",
              "[5 rows x 14 columns]"
            ]
          },
          "metadata": {
            "tags": []
          },
          "execution_count": 60
        }
      ]
    },
    {
      "cell_type": "code",
      "metadata": {
        "id": "-PITh0gjW203",
        "colab": {
          "base_uri": "https://localhost:8080/",
          "height": 417
        },
        "outputId": "32b6c112-bd32-4165-b904-8194dd69106e"
      },
      "source": [
        "dict_taxa_mau = {}\n",
        "id_sum = len(set(df_clientes_aprovados['ID_Cliente']))\n",
        "\n",
        "for chave in dict_intervalo_atraso.keys():\n",
        "  df_min_mau = df_clientes_aprovados.query(f'Mau_{chave} == 1').groupby('ID_Cliente')['MOB'].min().reset_index()\n",
        "  df_mob_taxa_mau = pd.DataFrame({'MOB':range(0,61), 'Taxa_Mau': np.nan})\n",
        "  lst = []\n",
        "  for i in range(0,61):\n",
        "      due = df_min_mau.query('MOB == @i')['ID_Cliente'].to_list()\n",
        "      lst.extend(due) #cumsum\n",
        "      df_mob_taxa_mau.loc[df_mob_taxa_mau['MOB'] == i, 'Taxa_Mau'] = len(set(lst)) / id_sum\n",
        "  dict_taxa_mau[chave] = df_mob_taxa_mau['Taxa_Mau']\n",
        "\n",
        "df_taxa_mau = pd.DataFrame(dict_taxa_mau)\n",
        "df_taxa_mau"
      ],
      "execution_count": null,
      "outputs": [
        {
          "output_type": "execute_result",
          "data": {
            "text/html": [
              "<div>\n",
              "<style scoped>\n",
              "    .dataframe tbody tr th:only-of-type {\n",
              "        vertical-align: middle;\n",
              "    }\n",
              "\n",
              "    .dataframe tbody tr th {\n",
              "        vertical-align: top;\n",
              "    }\n",
              "\n",
              "    .dataframe thead th {\n",
              "        text-align: right;\n",
              "    }\n",
              "</style>\n",
              "<table border=\"1\" class=\"dataframe\">\n",
              "  <thead>\n",
              "    <tr style=\"text-align: right;\">\n",
              "      <th></th>\n",
              "      <th>maior_30_dias</th>\n",
              "      <th>maior_60_dias</th>\n",
              "      <th>maior_90_dias</th>\n",
              "      <th>maior_120_dias</th>\n",
              "      <th>maior_150_dias</th>\n",
              "    </tr>\n",
              "  </thead>\n",
              "  <tbody>\n",
              "    <tr>\n",
              "      <th>0</th>\n",
              "      <td>0.000304</td>\n",
              "      <td>0.000022</td>\n",
              "      <td>0.000022</td>\n",
              "      <td>0.000022</td>\n",
              "      <td>0.000022</td>\n",
              "    </tr>\n",
              "    <tr>\n",
              "      <th>1</th>\n",
              "      <td>0.011612</td>\n",
              "      <td>0.000174</td>\n",
              "      <td>0.000087</td>\n",
              "      <td>0.000087</td>\n",
              "      <td>0.000087</td>\n",
              "    </tr>\n",
              "    <tr>\n",
              "      <th>2</th>\n",
              "      <td>0.025878</td>\n",
              "      <td>0.001153</td>\n",
              "      <td>0.000196</td>\n",
              "      <td>0.000174</td>\n",
              "      <td>0.000174</td>\n",
              "    </tr>\n",
              "    <tr>\n",
              "      <th>3</th>\n",
              "      <td>0.036860</td>\n",
              "      <td>0.002240</td>\n",
              "      <td>0.000696</td>\n",
              "      <td>0.000304</td>\n",
              "      <td>0.000304</td>\n",
              "    </tr>\n",
              "    <tr>\n",
              "      <th>4</th>\n",
              "      <td>0.047385</td>\n",
              "      <td>0.003392</td>\n",
              "      <td>0.001044</td>\n",
              "      <td>0.000696</td>\n",
              "      <td>0.000348</td>\n",
              "    </tr>\n",
              "    <tr>\n",
              "      <th>...</th>\n",
              "      <td>...</td>\n",
              "      <td>...</td>\n",
              "      <td>...</td>\n",
              "      <td>...</td>\n",
              "      <td>...</td>\n",
              "    </tr>\n",
              "    <tr>\n",
              "      <th>56</th>\n",
              "      <td>0.116321</td>\n",
              "      <td>0.014483</td>\n",
              "      <td>0.007176</td>\n",
              "      <td>0.005263</td>\n",
              "      <td>0.004219</td>\n",
              "    </tr>\n",
              "    <tr>\n",
              "      <th>57</th>\n",
              "      <td>0.116321</td>\n",
              "      <td>0.014483</td>\n",
              "      <td>0.007176</td>\n",
              "      <td>0.005263</td>\n",
              "      <td>0.004219</td>\n",
              "    </tr>\n",
              "    <tr>\n",
              "      <th>58</th>\n",
              "      <td>0.116321</td>\n",
              "      <td>0.014505</td>\n",
              "      <td>0.007198</td>\n",
              "      <td>0.005284</td>\n",
              "      <td>0.004241</td>\n",
              "    </tr>\n",
              "    <tr>\n",
              "      <th>59</th>\n",
              "      <td>0.116321</td>\n",
              "      <td>0.014505</td>\n",
              "      <td>0.007198</td>\n",
              "      <td>0.005284</td>\n",
              "      <td>0.004241</td>\n",
              "    </tr>\n",
              "    <tr>\n",
              "      <th>60</th>\n",
              "      <td>0.116342</td>\n",
              "      <td>0.014505</td>\n",
              "      <td>0.007198</td>\n",
              "      <td>0.005284</td>\n",
              "      <td>0.004241</td>\n",
              "    </tr>\n",
              "  </tbody>\n",
              "</table>\n",
              "<p>61 rows × 5 columns</p>\n",
              "</div>"
            ],
            "text/plain": [
              "    maior_30_dias  maior_60_dias  maior_90_dias  maior_120_dias  maior_150_dias\n",
              "0        0.000304       0.000022       0.000022        0.000022        0.000022\n",
              "1        0.011612       0.000174       0.000087        0.000087        0.000087\n",
              "2        0.025878       0.001153       0.000196        0.000174        0.000174\n",
              "3        0.036860       0.002240       0.000696        0.000304        0.000304\n",
              "4        0.047385       0.003392       0.001044        0.000696        0.000348\n",
              "..            ...            ...            ...             ...             ...\n",
              "56       0.116321       0.014483       0.007176        0.005263        0.004219\n",
              "57       0.116321       0.014483       0.007176        0.005263        0.004219\n",
              "58       0.116321       0.014505       0.007198        0.005284        0.004241\n",
              "59       0.116321       0.014505       0.007198        0.005284        0.004241\n",
              "60       0.116342       0.014505       0.007198        0.005284        0.004241\n",
              "\n",
              "[61 rows x 5 columns]"
            ]
          },
          "metadata": {
            "tags": []
          },
          "execution_count": 61
        }
      ]
    },
    {
      "cell_type": "code",
      "metadata": {
        "id": "kgioUvjTXVlm",
        "colab": {
          "base_uri": "https://localhost:8080/",
          "height": 410
        },
        "outputId": "ce6d3ec9-0f95-4753-d45c-ef1a740b81a4"
      },
      "source": [
        "df_taxa_mau.plot(grid = True, title = '% acumulado de clientes maus para diversas faixas de atraso', figsize=(10, 6))\n",
        "plt.xlabel('MOB')\n",
        "plt.ylabel('% acumulado de clientes')\n",
        "plt.show()"
      ],
      "execution_count": null,
      "outputs": [
        {
          "output_type": "display_data",
          "data": {
            "image/png": "[encoded data removed]",
            "text/plain": [
              "<Figure size 720x432 with 1 Axes>"
            ]
          },
          "metadata": {
            "tags": []
          }
        }
      ]
    },
    {
      "cell_type": "markdown",
      "metadata": {
        "id": "I3nTwgHc1Q1S"
      },
      "source": [
        "#Aula 4"
      ]
    },
    {
      "cell_type": "code",
      "metadata": {
        "colab": {
          "base_uri": "https://localhost:8080/"
        },
        "id": "ocsXwJyUUmH2",
        "outputId": "0b8b5767-0d57-4de8-f667-ac64fb9161cd"
      },
      "source": [
        "len(df_clientes_aprovados.query('Janela >= 12').groupby('ID_Cliente').count().index)"
      ],
      "execution_count": null,
      "outputs": [
        {
          "output_type": "execute_result",
          "data": {
            "text/plain": [
              "30918"
            ]
          },
          "metadata": {
            "tags": []
          },
          "execution_count": 66
        }
      ]
    },
    {
      "cell_type": "code",
      "metadata": {
        "colab": {
          "base_uri": "https://localhost:8080/"
        },
        "id": "bAnYFF57VTKZ",
        "outputId": "7b58f0b7-c266-4d5e-93c6-34e52587a84f"
      },
      "source": [
        "df_clientes_aprovados_tratamento1 = df_clientes_aprovados.query('Janela >= 12').copy()\n",
        "df_clientes_aprovados_tratamento1.shape"
      ],
      "execution_count": null,
      "outputs": [
        {
          "output_type": "execute_result",
          "data": {
            "text/plain": [
              "(943061, 14)"
            ]
          },
          "metadata": {
            "tags": []
          },
          "execution_count": 67
        }
      ]
    },
    {
      "cell_type": "code",
      "metadata": {
        "colab": {
          "base_uri": "https://localhost:8080/",
          "height": 203
        },
        "id": "CLC4kBubXQ2i",
        "outputId": "dc10f9d2-0046-4f97-b221-0eff86465369"
      },
      "source": [
        "def verifica(registros):\n",
        "  lista_status = registros['Faixa_atraso'].to_list()\n",
        "  if '60-89 dias' in lista_status or '90-119 dias' in lista_status or '120-149 dias' in lista_status or '>150 dias' in lista_status:\n",
        "    return 1\n",
        "  else:\n",
        "    return 0\n",
        "  \n",
        "df_registros_creditos_id = pd.DataFrame(df_clientes_aprovados_tratamento1.groupby('ID_Cliente').apply(verifica)).reset_index()\n",
        "df_registros_creditos_id.columns = ['ID_Cliente', 'Mau']\n",
        "df_registros_creditos_id.head()"
      ],
      "execution_count": null,
      "outputs": [
        {
          "output_type": "execute_result",
          "data": {
            "text/html": [
              "<div>\n",
              "<style scoped>\n",
              "    .dataframe tbody tr th:only-of-type {\n",
              "        vertical-align: middle;\n",
              "    }\n",
              "\n",
              "    .dataframe tbody tr th {\n",
              "        vertical-align: top;\n",
              "    }\n",
              "\n",
              "    .dataframe thead th {\n",
              "        text-align: right;\n",
              "    }\n",
              "</style>\n",
              "<table border=\"1\" class=\"dataframe\">\n",
              "  <thead>\n",
              "    <tr style=\"text-align: right;\">\n",
              "      <th></th>\n",
              "      <th>ID_Cliente</th>\n",
              "      <th>Mau</th>\n",
              "    </tr>\n",
              "  </thead>\n",
              "  <tbody>\n",
              "    <tr>\n",
              "      <th>0</th>\n",
              "      <td>5001712</td>\n",
              "      <td>0</td>\n",
              "    </tr>\n",
              "    <tr>\n",
              "      <th>1</th>\n",
              "      <td>5001713</td>\n",
              "      <td>0</td>\n",
              "    </tr>\n",
              "    <tr>\n",
              "      <th>2</th>\n",
              "      <td>5001714</td>\n",
              "      <td>0</td>\n",
              "    </tr>\n",
              "    <tr>\n",
              "      <th>3</th>\n",
              "      <td>5001715</td>\n",
              "      <td>0</td>\n",
              "    </tr>\n",
              "    <tr>\n",
              "      <th>4</th>\n",
              "      <td>5001717</td>\n",
              "      <td>0</td>\n",
              "    </tr>\n",
              "  </tbody>\n",
              "</table>\n",
              "</div>"
            ],
            "text/plain": [
              "   ID_Cliente  Mau\n",
              "0     5001712    0\n",
              "1     5001713    0\n",
              "2     5001714    0\n",
              "3     5001715    0\n",
              "4     5001717    0"
            ]
          },
          "metadata": {
            "tags": []
          },
          "execution_count": 68
        }
      ]
    },
    {
      "cell_type": "code",
      "metadata": {
        "colab": {
          "base_uri": "https://localhost:8080/"
        },
        "id": "0RY7qIMwYcl-",
        "outputId": "07d40979-ffb2-4e29-f6f8-be56b0b083f0"
      },
      "source": [
        "df_registros_creditos_id.shape"
      ],
      "execution_count": null,
      "outputs": [
        {
          "output_type": "execute_result",
          "data": {
            "text/plain": [
              "(30918, 2)"
            ]
          },
          "metadata": {
            "tags": []
          },
          "execution_count": 69
        }
      ]
    },
    {
      "cell_type": "code",
      "metadata": {
        "colab": {
          "base_uri": "https://localhost:8080/"
        },
        "id": "rrdjDxzDYiUY",
        "outputId": "feb24349-d6e7-4c21-a7a6-8782c2568adc"
      },
      "source": [
        "df_clientes_cadastrados_tratamento1.shape"
      ],
      "execution_count": null,
      "outputs": [
        {
          "output_type": "execute_result",
          "data": {
            "text/plain": [
              "(425822, 16)"
            ]
          },
          "metadata": {
            "tags": []
          },
          "execution_count": 70
        }
      ]
    },
    {
      "cell_type": "code",
      "metadata": {
        "colab": {
          "base_uri": "https://localhost:8080/",
          "height": 307
        },
        "id": "hb6VeK_gYuNw",
        "outputId": "5a6a8d3c-0311-4615-8a1d-fd4d21185e74"
      },
      "source": [
        "df_registro_clientes_targets = df_clientes_cadastrados_tratamento1.merge(df_registros_creditos_id, on='ID_Cliente')\n",
        "df_registro_clientes_targets.head()"
      ],
      "execution_count": null,
      "outputs": [
        {
          "output_type": "execute_result",
          "data": {
            "text/html": [
              "<div>\n",
              "<style scoped>\n",
              "    .dataframe tbody tr th:only-of-type {\n",
              "        vertical-align: middle;\n",
              "    }\n",
              "\n",
              "    .dataframe tbody tr th {\n",
              "        vertical-align: top;\n",
              "    }\n",
              "\n",
              "    .dataframe thead th {\n",
              "        text-align: right;\n",
              "    }\n",
              "</style>\n",
              "<table border=\"1\" class=\"dataframe\">\n",
              "  <thead>\n",
              "    <tr style=\"text-align: right;\">\n",
              "      <th></th>\n",
              "      <th>ID_Cliente</th>\n",
              "      <th>Tem_Carro</th>\n",
              "      <th>Tem_Casa_Propria</th>\n",
              "      <th>Qtd_Filhos</th>\n",
              "      <th>Rendimento_Anual</th>\n",
              "      <th>Categoria_de_renda</th>\n",
              "      <th>Grau_Escolaridade</th>\n",
              "      <th>Estado_Civil</th>\n",
              "      <th>Moradia</th>\n",
              "      <th>Idade</th>\n",
              "      <th>Tem_telefone_trabalho</th>\n",
              "      <th>Tem_telefone_fixo</th>\n",
              "      <th>Tem_email</th>\n",
              "      <th>Ocupacao</th>\n",
              "      <th>Tamanho_Familia</th>\n",
              "      <th>Anos_empregado</th>\n",
              "      <th>Mau</th>\n",
              "    </tr>\n",
              "  </thead>\n",
              "  <tbody>\n",
              "    <tr>\n",
              "      <th>0</th>\n",
              "      <td>5008806</td>\n",
              "      <td>1</td>\n",
              "      <td>1</td>\n",
              "      <td>0</td>\n",
              "      <td>112500.0</td>\n",
              "      <td>Empregado</td>\n",
              "      <td>Ensino medio</td>\n",
              "      <td>Casado</td>\n",
              "      <td>Casa propria</td>\n",
              "      <td>59.0</td>\n",
              "      <td>0</td>\n",
              "      <td>0</td>\n",
              "      <td>0</td>\n",
              "      <td>Seguranca</td>\n",
              "      <td>2.0</td>\n",
              "      <td>3.1</td>\n",
              "      <td>0</td>\n",
              "    </tr>\n",
              "    <tr>\n",
              "      <th>1</th>\n",
              "      <td>5008810</td>\n",
              "      <td>0</td>\n",
              "      <td>1</td>\n",
              "      <td>0</td>\n",
              "      <td>270000.0</td>\n",
              "      <td>Associado comercial</td>\n",
              "      <td>Ensino medio</td>\n",
              "      <td>Solteiro</td>\n",
              "      <td>Casa propria</td>\n",
              "      <td>52.0</td>\n",
              "      <td>0</td>\n",
              "      <td>1</td>\n",
              "      <td>1</td>\n",
              "      <td>Venda</td>\n",
              "      <td>1.0</td>\n",
              "      <td>8.4</td>\n",
              "      <td>0</td>\n",
              "    </tr>\n",
              "    <tr>\n",
              "      <th>2</th>\n",
              "      <td>5008811</td>\n",
              "      <td>0</td>\n",
              "      <td>1</td>\n",
              "      <td>0</td>\n",
              "      <td>270000.0</td>\n",
              "      <td>Associado comercial</td>\n",
              "      <td>Ensino medio</td>\n",
              "      <td>Solteiro</td>\n",
              "      <td>Casa propria</td>\n",
              "      <td>52.0</td>\n",
              "      <td>0</td>\n",
              "      <td>1</td>\n",
              "      <td>1</td>\n",
              "      <td>Venda</td>\n",
              "      <td>1.0</td>\n",
              "      <td>8.4</td>\n",
              "      <td>0</td>\n",
              "    </tr>\n",
              "    <tr>\n",
              "      <th>3</th>\n",
              "      <td>5008812</td>\n",
              "      <td>0</td>\n",
              "      <td>1</td>\n",
              "      <td>0</td>\n",
              "      <td>283500.0</td>\n",
              "      <td>Pensionista</td>\n",
              "      <td>Ensino superior</td>\n",
              "      <td>Separado</td>\n",
              "      <td>Casa propria</td>\n",
              "      <td>62.0</td>\n",
              "      <td>0</td>\n",
              "      <td>0</td>\n",
              "      <td>0</td>\n",
              "      <td>Outros</td>\n",
              "      <td>1.0</td>\n",
              "      <td>-1.0</td>\n",
              "      <td>0</td>\n",
              "    </tr>\n",
              "    <tr>\n",
              "      <th>4</th>\n",
              "      <td>5008813</td>\n",
              "      <td>0</td>\n",
              "      <td>1</td>\n",
              "      <td>0</td>\n",
              "      <td>283500.0</td>\n",
              "      <td>Pensionista</td>\n",
              "      <td>Ensino superior</td>\n",
              "      <td>Separado</td>\n",
              "      <td>Casa propria</td>\n",
              "      <td>62.0</td>\n",
              "      <td>0</td>\n",
              "      <td>0</td>\n",
              "      <td>0</td>\n",
              "      <td>Outros</td>\n",
              "      <td>1.0</td>\n",
              "      <td>-1.0</td>\n",
              "      <td>0</td>\n",
              "    </tr>\n",
              "  </tbody>\n",
              "</table>\n",
              "</div>"
            ],
            "text/plain": [
              "   ID_Cliente  Tem_Carro  ...  Anos_empregado  Mau\n",
              "0     5008806          1  ...             3.1    0\n",
              "1     5008810          0  ...             8.4    0\n",
              "2     5008811          0  ...             8.4    0\n",
              "3     5008812          0  ...            -1.0    0\n",
              "4     5008813          0  ...            -1.0    0\n",
              "\n",
              "[5 rows x 17 columns]"
            ]
          },
          "metadata": {
            "tags": []
          },
          "execution_count": 72
        }
      ]
    },
    {
      "cell_type": "code",
      "metadata": {
        "colab": {
          "base_uri": "https://localhost:8080/"
        },
        "id": "iALs0bSsaT0q",
        "outputId": "aea0c487-5c43-4c94-b03c-f9856d4ac7bf"
      },
      "source": [
        "df_registro_clientes_targets['Mau'].value_counts(normalize=True)*100"
      ],
      "execution_count": null,
      "outputs": [
        {
          "output_type": "execute_result",
          "data": {
            "text/plain": [
              "0    97.726673\n",
              "1     2.273327\n",
              "Name: Mau, dtype: float64"
            ]
          },
          "metadata": {
            "tags": []
          },
          "execution_count": 73
        }
      ]
    },
    {
      "cell_type": "code",
      "metadata": {
        "id": "4kzask54mSVi",
        "colab": {
          "base_uri": "https://localhost:8080/"
        },
        "outputId": "799da921-5941-45af-9c8f-a1c23ac4c65d"
      },
      "source": [
        "colunas_categoricas_binarias = ['Tem_Carro',\n",
        "                                'Tem_Casa_Propria',\n",
        "                                'Tem_telefone_trabalho',\n",
        "                                'Tem_telefone_fixo',\n",
        "                                'Tem_email']\n",
        "colunas_categoricas_binarias                              "
      ],
      "execution_count": null,
      "outputs": [
        {
          "output_type": "execute_result",
          "data": {
            "text/plain": [
              "['Tem_Carro',\n",
              " 'Tem_Casa_Propria',\n",
              " 'Tem_telefone_trabalho',\n",
              " 'Tem_telefone_fixo',\n",
              " 'Tem_email']"
            ]
          },
          "metadata": {
            "tags": []
          },
          "execution_count": 74
        }
      ]
    },
    {
      "cell_type": "code",
      "metadata": {
        "id": "XyzIQGDWmdKN",
        "colab": {
          "base_uri": "https://localhost:8080/"
        },
        "outputId": "d4d6bc49-a951-4561-f4b4-78bf3b841e95"
      },
      "source": [
        "colunas_categoricas_nao_binarias = ['Categoria_de_renda',\n",
        "                                    'Grau_Escolaridade',\n",
        "                                    'Estado_Civil',\n",
        "                                    'Moradia',\n",
        "                                    'Ocupacao']\n",
        "colunas_categoricas_nao_binarias"
      ],
      "execution_count": null,
      "outputs": [
        {
          "output_type": "execute_result",
          "data": {
            "text/plain": [
              "['Categoria_de_renda',\n",
              " 'Grau_Escolaridade',\n",
              " 'Estado_Civil',\n",
              " 'Moradia',\n",
              " 'Ocupacao']"
            ]
          },
          "metadata": {
            "tags": []
          },
          "execution_count": 75
        }
      ]
    },
    {
      "cell_type": "code",
      "metadata": {
        "id": "9avVWfDVmuFw",
        "colab": {
          "base_uri": "https://localhost:8080/",
          "height": 307
        },
        "outputId": "36ee58d9-16bb-4dfa-93a3-3db2b27be36b"
      },
      "source": [
        "df_registro_clientes_targets = df_registro_clientes_targets[['ID_Cliente'] + colunas_continuas + colunas_categoricas_binarias + colunas_categoricas_nao_binarias + ['Mau']]\n",
        "df_registro_clientes_targets.head()"
      ],
      "execution_count": null,
      "outputs": [
        {
          "output_type": "execute_result",
          "data": {
            "text/html": [
              "<div>\n",
              "<style scoped>\n",
              "    .dataframe tbody tr th:only-of-type {\n",
              "        vertical-align: middle;\n",
              "    }\n",
              "\n",
              "    .dataframe tbody tr th {\n",
              "        vertical-align: top;\n",
              "    }\n",
              "\n",
              "    .dataframe thead th {\n",
              "        text-align: right;\n",
              "    }\n",
              "</style>\n",
              "<table border=\"1\" class=\"dataframe\">\n",
              "  <thead>\n",
              "    <tr style=\"text-align: right;\">\n",
              "      <th></th>\n",
              "      <th>ID_Cliente</th>\n",
              "      <th>Idade</th>\n",
              "      <th>Qtd_Filhos</th>\n",
              "      <th>Rendimento_Anual</th>\n",
              "      <th>Anos_empregado</th>\n",
              "      <th>Tamanho_Familia</th>\n",
              "      <th>Tem_Carro</th>\n",
              "      <th>Tem_Casa_Propria</th>\n",
              "      <th>Tem_telefone_trabalho</th>\n",
              "      <th>Tem_telefone_fixo</th>\n",
              "      <th>Tem_email</th>\n",
              "      <th>Categoria_de_renda</th>\n",
              "      <th>Grau_Escolaridade</th>\n",
              "      <th>Estado_Civil</th>\n",
              "      <th>Moradia</th>\n",
              "      <th>Ocupacao</th>\n",
              "      <th>Mau</th>\n",
              "    </tr>\n",
              "  </thead>\n",
              "  <tbody>\n",
              "    <tr>\n",
              "      <th>0</th>\n",
              "      <td>5008806</td>\n",
              "      <td>59.0</td>\n",
              "      <td>0</td>\n",
              "      <td>112500.0</td>\n",
              "      <td>3.1</td>\n",
              "      <td>2.0</td>\n",
              "      <td>1</td>\n",
              "      <td>1</td>\n",
              "      <td>0</td>\n",
              "      <td>0</td>\n",
              "      <td>0</td>\n",
              "      <td>Empregado</td>\n",
              "      <td>Ensino medio</td>\n",
              "      <td>Casado</td>\n",
              "      <td>Casa propria</td>\n",
              "      <td>Seguranca</td>\n",
              "      <td>0</td>\n",
              "    </tr>\n",
              "    <tr>\n",
              "      <th>1</th>\n",
              "      <td>5008810</td>\n",
              "      <td>52.0</td>\n",
              "      <td>0</td>\n",
              "      <td>270000.0</td>\n",
              "      <td>8.4</td>\n",
              "      <td>1.0</td>\n",
              "      <td>0</td>\n",
              "      <td>1</td>\n",
              "      <td>0</td>\n",
              "      <td>1</td>\n",
              "      <td>1</td>\n",
              "      <td>Associado comercial</td>\n",
              "      <td>Ensino medio</td>\n",
              "      <td>Solteiro</td>\n",
              "      <td>Casa propria</td>\n",
              "      <td>Venda</td>\n",
              "      <td>0</td>\n",
              "    </tr>\n",
              "    <tr>\n",
              "      <th>2</th>\n",
              "      <td>5008811</td>\n",
              "      <td>52.0</td>\n",
              "      <td>0</td>\n",
              "      <td>270000.0</td>\n",
              "      <td>8.4</td>\n",
              "      <td>1.0</td>\n",
              "      <td>0</td>\n",
              "      <td>1</td>\n",
              "      <td>0</td>\n",
              "      <td>1</td>\n",
              "      <td>1</td>\n",
              "      <td>Associado comercial</td>\n",
              "      <td>Ensino medio</td>\n",
              "      <td>Solteiro</td>\n",
              "      <td>Casa propria</td>\n",
              "      <td>Venda</td>\n",
              "      <td>0</td>\n",
              "    </tr>\n",
              "    <tr>\n",
              "      <th>3</th>\n",
              "      <td>5008812</td>\n",
              "      <td>62.0</td>\n",
              "      <td>0</td>\n",
              "      <td>283500.0</td>\n",
              "      <td>-1.0</td>\n",
              "      <td>1.0</td>\n",
              "      <td>0</td>\n",
              "      <td>1</td>\n",
              "      <td>0</td>\n",
              "      <td>0</td>\n",
              "      <td>0</td>\n",
              "      <td>Pensionista</td>\n",
              "      <td>Ensino superior</td>\n",
              "      <td>Separado</td>\n",
              "      <td>Casa propria</td>\n",
              "      <td>Outros</td>\n",
              "      <td>0</td>\n",
              "    </tr>\n",
              "    <tr>\n",
              "      <th>4</th>\n",
              "      <td>5008813</td>\n",
              "      <td>62.0</td>\n",
              "      <td>0</td>\n",
              "      <td>283500.0</td>\n",
              "      <td>-1.0</td>\n",
              "      <td>1.0</td>\n",
              "      <td>0</td>\n",
              "      <td>1</td>\n",
              "      <td>0</td>\n",
              "      <td>0</td>\n",
              "      <td>0</td>\n",
              "      <td>Pensionista</td>\n",
              "      <td>Ensino superior</td>\n",
              "      <td>Separado</td>\n",
              "      <td>Casa propria</td>\n",
              "      <td>Outros</td>\n",
              "      <td>0</td>\n",
              "    </tr>\n",
              "  </tbody>\n",
              "</table>\n",
              "</div>"
            ],
            "text/plain": [
              "   ID_Cliente  Idade  Qtd_Filhos  ...       Moradia   Ocupacao  Mau\n",
              "0     5008806   59.0           0  ...  Casa propria  Seguranca    0\n",
              "1     5008810   52.0           0  ...  Casa propria      Venda    0\n",
              "2     5008811   52.0           0  ...  Casa propria      Venda    0\n",
              "3     5008812   62.0           0  ...  Casa propria     Outros    0\n",
              "4     5008813   62.0           0  ...  Casa propria     Outros    0\n",
              "\n",
              "[5 rows x 17 columns]"
            ]
          },
          "metadata": {
            "tags": []
          },
          "execution_count": 76
        }
      ]
    },
    {
      "cell_type": "code",
      "metadata": {
        "id": "vQqwEl-qopST",
        "colab": {
          "base_uri": "https://localhost:8080/"
        },
        "outputId": "936ecc93-f508-47a8-cb52-cc00d4c8b243"
      },
      "source": [
        "!pip install scikit-learn==0.23.2 imbalanced-learn==0.7.0"
      ],
      "execution_count": null,
      "outputs": [
        {
          "output_type": "stream",
          "text": [
            "Collecting scikit-learn==0.23.2\n",
            "  Downloading scikit_learn-0.23.2-cp37-cp37m-manylinux1_x86_64.whl (6.8 MB)\n",
            "\u001b[K     |████████████████████████████████| 6.8 MB 5.1 MB/s \n",
            "\u001b[?25hCollecting imbalanced-learn==0.7.0\n",
            "  Downloading imbalanced_learn-0.7.0-py3-none-any.whl (167 kB)\n",
            "\u001b[K     |████████████████████████████████| 167 kB 52.5 MB/s \n",
            "\u001b[?25hRequirement already satisfied: joblib>=0.11 in /usr/local/lib/python3.7/dist-packages (from scikit-learn==0.23.2) (1.0.1)\n",
            "Collecting threadpoolctl>=2.0.0\n",
            "  Downloading threadpoolctl-2.2.0-py3-none-any.whl (12 kB)\n",
            "Requirement already satisfied: numpy>=1.13.3 in /usr/local/lib/python3.7/dist-packages (from scikit-learn==0.23.2) (1.19.5)\n",
            "Requirement already satisfied: scipy>=0.19.1 in /usr/local/lib/python3.7/dist-packages (from scikit-learn==0.23.2) (1.4.1)\n",
            "Installing collected packages: threadpoolctl, scikit-learn, imbalanced-learn\n",
            "  Attempting uninstall: scikit-learn\n",
            "    Found existing installation: scikit-learn 0.22.2.post1\n",
            "    Uninstalling scikit-learn-0.22.2.post1:\n",
            "      Successfully uninstalled scikit-learn-0.22.2.post1\n",
            "  Attempting uninstall: imbalanced-learn\n",
            "    Found existing installation: imbalanced-learn 0.4.3\n",
            "    Uninstalling imbalanced-learn-0.4.3:\n",
            "      Successfully uninstalled imbalanced-learn-0.4.3\n",
            "Successfully installed imbalanced-learn-0.7.0 scikit-learn-0.23.2 threadpoolctl-2.2.0\n"
          ],
          "name": "stdout"
        }
      ]
    },
    {
      "cell_type": "code",
      "metadata": {
        "id": "D9AH75DIosyL"
      },
      "source": [
        "import six\n",
        "import sys\n",
        "sys.modules['sklearn.externals.six'] = six"
      ],
      "execution_count": null,
      "outputs": []
    },
    {
      "cell_type": "code",
      "metadata": {
        "id": "S8kaQv6dnDIi"
      },
      "source": [
        "import numpy as np\n",
        "from sklearn.linear_model import LogisticRegression\n",
        "from sklearn.dummy import DummyClassifier\n",
        "from sklearn.model_selection import train_test_split\n",
        "from sklearn.metrics import roc_auc_score, classification_report, plot_confusion_matrix\n",
        "\n",
        "from scipy import stats"
      ],
      "execution_count": null,
      "outputs": []
    },
    {
      "cell_type": "markdown",
      "metadata": {
        "id": "CuXPEDvfnnef"
      },
      "source": [
        "![image.png](data:image/png;base64,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)"
      ]
    },
    {
      "cell_type": "code",
      "metadata": {
        "id": "5bbK_53-nTx0"
      },
      "source": [
        "SEED = 1561651\n",
        "def roda_modelo(modelo, dados):\n",
        "\n",
        "    # separando dados em x e y, e tambem removendo a coluna de ID_cliente\n",
        "    x = dados.drop(['ID_Cliente', 'Mau'], axis=1)\n",
        "    y = dados.drop('ID_Cliente', axis=1)['Mau']\n",
        "    \n",
        "    # Separando dados em treino e teste\n",
        "    x_train, x_test, y_train, y_test = train_test_split(x, y, stratify=y, random_state=SEED)\n",
        "\n",
        "    # Treinando modelo com os dados de treino\n",
        "    modelo.fit(x_train, y_train)\n",
        "\n",
        "    # Calculando a probabilidade e calculando o AUC\n",
        "    prob_predic = modelo.predict_proba(x_test)\n",
        "    auc = roc_auc_score(y_test, prob_predic[:,1])\n",
        "    print(f\"AUC {auc}\")\n",
        "    \n",
        "    # Separando a probabilidade de ser bom e mau, e calculando o KS\n",
        "    data_bom = np.sort(modelo.predict_proba(x_test)[:, 1])\n",
        "    data_mau = np.sort(modelo.predict_proba(x_test)[:, 0])\n",
        "    kstest = stats.ks_2samp(data_bom, data_mau)\n",
        "    print(f\"KS {kstest}\")\n",
        "\n",
        "    # Criando matriz de confusão\n",
        "    matriz_confusao = plot_confusion_matrix(modelo, x_test, y_test, values_format='.0f', display_labels=['Bons', 'Maus'])\n",
        "    plt.grid(False)    \n",
        "    plt.show(matriz_confusao)\n",
        "\n",
        "    # Fazendo a predicao dos dados de teste e calculando o classification report\n",
        "    predicao = modelo.predict(x_test)\n",
        "    print(\"\\nClassification Report\")\n",
        "    print(classification_report(y_test, predicao, zero_division=0))"
      ],
      "execution_count": null,
      "outputs": []
    },
    {
      "cell_type": "code",
      "metadata": {
        "id": "gF_C5GYXo8RJ"
      },
      "source": [
        "from sklearn.preprocessing import OneHotEncoder\n",
        "from sklearn.preprocessing import MinMaxScaler\n",
        "from sklearn.base import BaseEstimator, TransformerMixin"
      ],
      "execution_count": null,
      "outputs": []
    },
    {
      "cell_type": "code",
      "metadata": {
        "id": "y1XgCGdnpP24"
      },
      "source": [
        "# PEP8 padrão CamelCase\n",
        "class Transformador(BaseEstimator, TransformerMixin):\n",
        "    def __init__( self, colunas_continuas, colunas_categoricas):\n",
        "        self.colunas_continuas = colunas_continuas\n",
        "        self.colunas_categoricas = colunas_categoricas\n",
        "        self.enc = OneHotEncoder()\n",
        "        self.scaler = MinMaxScaler()\n",
        "\n",
        "    def fit(self, X, y = None ):\n",
        "        self.enc.fit(X[self.colunas_categoricas])\n",
        "        self.scaler.fit(X[self.colunas_continuas])\n",
        "        return self \n",
        "\n",
        "    def transform(self, X, y = None):\n",
        "      \n",
        "      X_categoricas = pd.DataFrame(data=self.enc.transform(X[self.colunas_categoricas]).toarray(),\n",
        "                                  columns= self.enc.get_feature_names(self.colunas_categoricas))\n",
        "      \n",
        "      X_continuas = pd.DataFrame(data=self.scaler.transform(X[self.colunas_continuas]),\n",
        "                                  columns= self.colunas_continuas)\n",
        "      \n",
        "      X = pd.concat([X_continuas, X_categoricas], axis=1)\n",
        "\n",
        "      return X"
      ],
      "execution_count": null,
      "outputs": []
    },
    {
      "cell_type": "code",
      "metadata": {
        "id": "Mo_Nx5y0qO1F"
      },
      "source": [
        "from sklearn.pipeline import Pipeline"
      ],
      "execution_count": null,
      "outputs": []
    },
    {
      "cell_type": "code",
      "metadata": {
        "id": "sUhoHypaqQju",
        "colab": {
          "base_uri": "https://localhost:8080/",
          "height": 503
        },
        "outputId": "1b49b1fa-4abe-4a98-cfdb-0e19414d270e"
      },
      "source": [
        "pipeline = Pipeline([('Transformador', Transformador(colunas_continuas, colunas_categoricas)),\n",
        "                     ('Modelo', DummyClassifier(strategy='prior'))])   \n",
        "roda_modelo(pipeline, df_registro_clientes_targets)"
      ],
      "execution_count": null,
      "outputs": [
        {
          "output_type": "stream",
          "text": [
            "AUC 0.5\n",
            "KS Ks_2sampResult(statistic=1.0, pvalue=0.0)\n"
          ],
          "name": "stdout"
        },
        {
          "output_type": "display_data",
          "data": {
            "image/png": "[encoded data removed]",
            "text/plain": [
              "<Figure size 432x288 with 2 Axes>"
            ]
          },
          "metadata": {
            "tags": []
          }
        },
        {
          "output_type": "stream",
          "text": [
            "\n",
            "Classification Report\n",
            "              precision    recall  f1-score   support\n",
            "\n",
            "           0       0.98      1.00      0.99      5557\n",
            "           1       0.00      0.00      0.00       129\n",
            "\n",
            "    accuracy                           0.98      5686\n",
            "   macro avg       0.49      0.50      0.49      5686\n",
            "weighted avg       0.96      0.98      0.97      5686\n",
            "\n"
          ],
          "name": "stdout"
        }
      ]
    },
    {
      "cell_type": "code",
      "metadata": {
        "id": "6FWCa4M6rnZk",
        "colab": {
          "base_uri": "https://localhost:8080/",
          "height": 503
        },
        "outputId": "be9b9950-0a97-46d3-9939-28ceb328b15f"
      },
      "source": [
        "pipeline = Pipeline([('Transformador', Transformador(colunas_continuas, colunas_categoricas)),\n",
        "                     ('Modelo', LogisticRegression(random_state=SEED, max_iter=1000))])   \n",
        "roda_modelo(pipeline, df_registro_clientes_targets)"
      ],
      "execution_count": null,
      "outputs": [
        {
          "output_type": "stream",
          "text": [
            "AUC 0.5847293657137516\n",
            "KS Ks_2sampResult(statistic=1.0, pvalue=0.0)\n"
          ],
          "name": "stdout"
        },
        {
          "output_type": "display_data",
          "data": {
            "image/png": "[encoded data removed]",
            "text/plain": [
              "<Figure size 432x288 with 2 Axes>"
            ]
          },
          "metadata": {
            "tags": []
          }
        },
        {
          "output_type": "stream",
          "text": [
            "\n",
            "Classification Report\n",
            "              precision    recall  f1-score   support\n",
            "\n",
            "           0       0.98      1.00      0.99      5557\n",
            "           1       0.00      0.00      0.00       129\n",
            "\n",
            "    accuracy                           0.98      5686\n",
            "   macro avg       0.49      0.50      0.49      5686\n",
            "weighted avg       0.96      0.98      0.97      5686\n",
            "\n"
          ],
          "name": "stdout"
        }
      ]
    },
    {
      "cell_type": "markdown",
      "metadata": {
        "id": "Zg04eTC9vbyl"
      },
      "source": [
        "Oversampling e undersampling"
      ]
    },
    {
      "cell_type": "code",
      "metadata": {
        "id": "eWju-OTDsfbg"
      },
      "source": [
        "from imblearn.over_sampling import SMOTE\n",
        "from imblearn.pipeline import Pipeline"
      ],
      "execution_count": null,
      "outputs": []
    },
    {
      "cell_type": "code",
      "metadata": {
        "id": "bL_7c8shwMIU",
        "colab": {
          "base_uri": "https://localhost:8080/",
          "height": 503
        },
        "outputId": "dee4784a-f6b0-462b-8609-91b21ea6b0bd"
      },
      "source": [
        "pipeline = Pipeline([('Transformador', Transformador(colunas_continuas, colunas_categoricas)),\n",
        "                     ('sampling', SMOTE(random_state=SEED)),\n",
        "                     ('Modelo', LogisticRegression(random_state=SEED, max_iter=1000))])   \n",
        "roda_modelo(pipeline, df_registro_clientes_targets)"
      ],
      "execution_count": null,
      "outputs": [
        {
          "output_type": "stream",
          "text": [
            "AUC 0.5815864619385006\n",
            "KS Ks_2sampResult(statistic=0.1290889905029898, pvalue=1.09559025330554e-41)\n"
          ],
          "name": "stdout"
        },
        {
          "output_type": "display_data",
          "data": {
            "image/png": "[encoded data removed]",
            "text/plain": [
              "<Figure size 432x288 with 2 Axes>"
            ]
          },
          "metadata": {
            "tags": []
          }
        },
        {
          "output_type": "stream",
          "text": [
            "\n",
            "Classification Report\n",
            "              precision    recall  f1-score   support\n",
            "\n",
            "           0       0.98      0.55      0.70      5557\n",
            "           1       0.03      0.58      0.06       129\n",
            "\n",
            "    accuracy                           0.55      5686\n",
            "   macro avg       0.51      0.56      0.38      5686\n",
            "weighted avg       0.96      0.55      0.69      5686\n",
            "\n"
          ],
          "name": "stdout"
        }
      ]
    },
    {
      "cell_type": "code",
      "metadata": {
        "id": "sM6wjgUXxLNH"
      },
      "source": [
        "from sklearn.ensemble import RandomForestClassifier"
      ],
      "execution_count": null,
      "outputs": []
    },
    {
      "cell_type": "code",
      "metadata": {
        "id": "Mv07NCk_yFJE",
        "colab": {
          "base_uri": "https://localhost:8080/",
          "height": 503
        },
        "outputId": "efbcd95b-2d95-43d5-f21b-e93cac87e96f"
      },
      "source": [
        "pipeline = Pipeline([('Transformador', Transformador(colunas_continuas, colunas_categoricas)),\n",
        "                     ('sampling', SMOTE(random_state=SEED)),\n",
        "                     ('Modelo', RandomForestClassifier(random_state=SEED))])   \n",
        "roda_modelo(pipeline, df_registro_clientes_targets)"
      ],
      "execution_count": null,
      "outputs": [
        {
          "output_type": "stream",
          "text": [
            "AUC 0.8340043216670643\n",
            "KS Ks_2sampResult(statistic=0.9653534998241294, pvalue=0.0)\n"
          ],
          "name": "stdout"
        },
        {
          "output_type": "display_data",
          "data": {
            "image/png": "[encoded data removed]",
            "text/plain": [
              "<Figure size 432x288 with 2 Axes>"
            ]
          },
          "metadata": {
            "tags": []
          }
        },
        {
          "output_type": "stream",
          "text": [
            "\n",
            "Classification Report\n",
            "              precision    recall  f1-score   support\n",
            "\n",
            "           0       0.99      0.99      0.99      5557\n",
            "           1       0.47      0.36      0.41       129\n",
            "\n",
            "    accuracy                           0.98      5686\n",
            "   macro avg       0.73      0.68      0.70      5686\n",
            "weighted avg       0.97      0.98      0.97      5686\n",
            "\n"
          ],
          "name": "stdout"
        }
      ]
    },
    {
      "cell_type": "code",
      "metadata": {
        "id": "DnI3j7clyoWh",
        "colab": {
          "base_uri": "https://localhost:8080/",
          "height": 503
        },
        "outputId": "f609849b-ba21-469b-f1a4-5632812f2dcc"
      },
      "source": [
        "pipeline = Pipeline([('Transformador', Transformador(colunas_continuas, colunas_categoricas)),\n",
        "                     ('Modelo', RandomForestClassifier(random_state=SEED))])   \n",
        "roda_modelo(pipeline, df_registro_clientes_targets)"
      ],
      "execution_count": null,
      "outputs": [
        {
          "output_type": "stream",
          "text": [
            "AUC 0.8382939040500634\n",
            "KS Ks_2sampResult(statistic=0.9794231445655998, pvalue=0.0)\n"
          ],
          "name": "stdout"
        },
        {
          "output_type": "display_data",
          "data": {
            "image/png": "[encoded data removed]",
            "text/plain": [
              "<Figure size 432x288 with 2 Axes>"
            ]
          },
          "metadata": {
            "tags": []
          }
        },
        {
          "output_type": "stream",
          "text": [
            "\n",
            "Classification Report\n",
            "              precision    recall  f1-score   support\n",
            "\n",
            "           0       0.98      0.99      0.99      5557\n",
            "           1       0.52      0.24      0.33       129\n",
            "\n",
            "    accuracy                           0.98      5686\n",
            "   macro avg       0.75      0.62      0.66      5686\n",
            "weighted avg       0.97      0.98      0.97      5686\n",
            "\n"
          ],
          "name": "stdout"
        }
      ]
    },
    {
      "cell_type": "markdown",
      "metadata": {
        "id": "f86vQLj_rN-J"
      },
      "source": [
        "Desafios aula 1:\n",
        "\n",
        "Desafio 1: Explorar IDs repetidos (Atualização de cadastro ? Erro ?)\n",
        "\n",
        "Desafio 2: Explorar as colunas (features) identificar continuas, categoricas e binarias\n",
        "\n",
        "Desafios aula 2:\n",
        "\n",
        "Desafio 1: Explorar outras maneiras de identificar e de tratar os outliers\n",
        "\n",
        "Desafio 2: Criar uma função para gerar os nosso gráficos\n",
        "\n",
        "Desafio 3: COntinuar a analise exploratoria dos dados\n",
        "\n",
        "Desafios aula 3:\n",
        "\n",
        "Desafio 1: Criar uma tabela com a quantidade clientes relativo a base por faixas atraso\n",
        "\n",
        "Desafio 2: Conhecer tecnicas para resolver target\n",
        "\n",
        "Desafios aula 4:\n",
        "\n",
        "Desafio 1: Explorar undersampling\n",
        "\n",
        "Desafio 2: Buscarem outras tecnicas como por exemplo: XGboost\n",
        "\n",
        "Desafio 3: Utilizar otimização de hiperparametros e seleção features"
      ]
    }
  ]
}